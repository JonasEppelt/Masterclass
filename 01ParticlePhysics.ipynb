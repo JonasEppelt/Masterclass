{
 "cells": [
  {
   "cell_type": "markdown",
   "id": "febd4c4a-c267-4a23-8f0a-a6c09ce26233",
   "metadata": {
    "slideshow": {
     "slide_type": "slide"
    },
    "tags": []
   },
   "source": [
    "---\n",
    "# Experimentelle Teilchenphysik - Was machen wir eigentlich genau?\n",
    "---"
   ]
  },
  {
   "cell_type": "markdown",
   "id": "b4ea92e5-bfbe-46f0-b691-fd55a6b25a63",
   "metadata": {
    "slideshow": {
     "slide_type": "slide"
    },
    "tags": []
   },
   "source": [
    "## Was sind Elementarteilchen?\n",
    "\n",
    "<div>\n",
    "<img src=\"figures/size_schematic.png\" width=\"1500\"/>\n",
    "</div>"
   ]
  },
  {
   "cell_type": "markdown",
   "id": "d69a624c-5902-4ee3-acd5-5a133e84677f",
   "metadata": {
    "slideshow": {
     "slide_type": "fragment"
    },
    "tags": []
   },
   "source": [
    "- Teilchenphysiker*innen versuchen, die kleinsten Bauteile unserer Materie zu verstehen und zu beschreiben.\n",
    "\n",
    "Was sind die Grundbausteine unserer Materie?"
   ]
  },
  {
   "cell_type": "markdown",
   "id": "edd0cb47-79a4-4bdd-8d2d-37d43d5f7d6e",
   "metadata": {
    "slideshow": {
     "slide_type": "slide"
    },
    "tags": []
   },
   "source": [
    "## Das Standardmodell der Teilchenphysik\n",
    "\n",
    "<div>\n",
    "<img src=\"figures/sm_overview_ferber.png\" width=\"1500\"/>\n",
    "</div>"
   ]
  },
  {
   "cell_type": "markdown",
   "id": "8734e9fa-2297-41dc-8c3e-fca2229889a9",
   "metadata": {
    "slideshow": {
     "slide_type": "fragment"
    },
    "tags": []
   },
   "source": [
    "Die vier Wechselwirkungskräfte, die <span style=\"color: red;\">elektromagnetische Kraft</span>, die <span style=\"color: red;\">schwache Kraft</span>, die <span style=\"color: red;\">starke Kraft</span> und die <span style=\"color: blue;\">Gravitation</span>, beschreiben die Interaktionen zwischen den einzelnen Teilchen. Die Gravitation ist die einzige Kraft, die bisher noch nicht mit dem Standardmodell vereinbar ist."
   ]
  },
  {
   "cell_type": "markdown",
   "id": "f713b807-9419-4f8d-9939-748134147ccc",
   "metadata": {
    "slideshow": {
     "slide_type": "fragment"
    },
    "tags": []
   },
   "source": [
    "Leptonen können sowohl mit der schwachen Kraft als auch elektromagnetisch wechselwirken. Leptonen können wir so in der Natur messen, sie bilden keine (zumindest bisher gemessenen) zusammengesetzten Teilchen."
   ]
  },
  {
   "cell_type": "markdown",
   "id": "5ede9eeb-5747-4b63-9200-a20ddd0006d7",
   "metadata": {
    "slideshow": {
     "slide_type": "subslide"
    },
    "tags": []
   },
   "source": [
    "Quarks wechselwirken auch durch die starke Kraft. Sie können daher nicht als freie Teilchen vorkommen, da es durch die starke Kraft ab einer Distanz von ungefähr dem Radius eines Protons besser ist, ein Quarkpaar entstehen zu lassen.  \n",
    "$\\rightarrow$ Bildung von zusammengesetzten Teilchen"
   ]
  },
  {
   "cell_type": "markdown",
   "id": "d3401e80-71ed-45a1-aea9-88418e2b1f42",
   "metadata": {
    "slideshow": {
     "slide_type": "fragment"
    },
    "tags": []
   },
   "source": [
    "<div>\n",
    "<img src=\"figures/baryonen_mesonen.png\" width=\"1000\"/>\n",
    "</div>\n"
   ]
  },
  {
   "cell_type": "markdown",
   "id": "15d28991-dc9f-4c76-8556-46dd3558fa39",
   "metadata": {
    "slideshow": {
     "slide_type": "fragment"
    },
    "tags": []
   },
   "source": [
    "Zusammengesetzte Teilchen müssen ganzzahlige Ladungen haben und farbneutral sein\n",
    "\n",
    "$\\rightarrow$ Durch Teilchenphysik-Experimente können wir mögliche Baryonen oder Mesonen überprüfen"
   ]
  },
  {
   "cell_type": "markdown",
   "id": "91e62b04-69e9-4645-b7a9-5a69b24a2160",
   "metadata": {
    "slideshow": {
     "slide_type": "subslide"
    },
    "tags": []
   },
   "source": [
    "Der Teilchenzoo besteht aus den unterschiedlichsten Baryonen und Mesonen, die wir zusätzlich zu den Leptonen noch messen können. \n",
    "<div style=\"display: flex; align-items: flex-start;\">\n",
    "    <img src=\"figures/baryon_list.png\" style=\"width: 40%; margin-right: 10px;\">\n",
    "    <img src=\"figures/meson_list.png\" style=\"width: 60%;\">\n",
    "</div>\n"
   ]
  },
  {
   "cell_type": "markdown",
   "id": "ff7256d1-35f8-40b0-b977-bf5fafd02958",
   "metadata": {
    "slideshow": {
     "slide_type": "slide"
    },
    "tags": []
   },
   "source": [
    "## Wie finden wir neue Teilchen?"
   ]
  },
  {
   "cell_type": "markdown",
   "id": "a432908e-4da4-44ab-a6a5-b17c8d89b87d",
   "metadata": {
    "slideshow": {
     "slide_type": "fragment"
    },
    "tags": []
   },
   "source": [
    "\n",
    " - Nutzen von Einsteins Formel:\n",
    "    \n",
    "    $ E=m \\cdot c^2$ \n",
    "    \n",
    "    (vollständig $E^2 - (pc)^2 = (mc^2)^2$)\n",
    "\n",
    "Aus reiner Energie können Teilchen entstehen und umgekehrt."
   ]
  },
  {
   "cell_type": "markdown",
   "id": "1ec6c5b5-6a13-44af-901f-152d9fed7501",
   "metadata": {
    "slideshow": {
     "slide_type": "fragment"
    },
    "tags": []
   },
   "source": [
    "Wir kollidieren Materie und Antimaterie, um neue Teilchen zu erzeugen:\n",
    "\n",
    "<div>\n",
    "<img src=\"figures/collision.gif\" width=\"700\"/>\n",
    "</div>"
   ]
  },
  {
   "cell_type": "markdown",
   "id": "cee41aeb-0461-4581-a6e0-a4bb50e02773",
   "metadata": {
    "slideshow": {
     "slide_type": "slide"
    },
    "tags": []
   },
   "source": [
    "# SuperKEKB Teilchenbeschleuniger"
   ]
  },
  {
   "cell_type": "markdown",
   "id": "d400d1eb-233c-4dee-bcac-afc23a393d55",
   "metadata": {
    "slideshow": {
     "slide_type": "fragment"
    },
    "tags": []
   },
   "source": [
    "\n",
    "<div> \n",
    "<img src=\"figures/Beschleuniger.png\" width=\"1500\"/>\n",
    "\n",
    "</div> \n"
   ]
  },
  {
   "cell_type": "markdown",
   "id": "d99e459f-09dd-48b4-bceb-7368f163f912",
   "metadata": {
    "slideshow": {
     "slide_type": "subslide"
    },
    "tags": []
   },
   "source": [
    " - Der SuperKEKB Beschleuniger beschleunigt Elektronen ($e^-$) und Positronen ($e^+$) und bringt diese im Belle II-Experiment zur Kollision.\n",
    "    \n",
    " - Bei einer Kollision entstehen häufig mehrere Teilchen und hinterlassen Signale im Detektor.\n",
    "    \n",
    " - Signale von in der Kollision erzeugten Teilchen müssen in der Rekonstruktion ($\\approx$ Wiederherstellung) von Untergrundrauschen getrennt werden.\n",
    "    \n",
    " &rarr; Alle gleichzeitig abgespeicherten Signale werden als ein Ereignis bezeichnet\n",
    "    \n",
    "\n",
    "    \n",
    " &rarr; Aufgaben:\n",
    "       \n",
    " - Detektorsignale von Teilchen und Untergrund trennen\n",
    "    \n",
    " - Teilchen vermessen und bestimmen\n",
    "    \n",
    " - Energie-, Impuls- und Ladungserhaltung prüfen\n",
    "    "
   ]
  },
  {
   "cell_type": "markdown",
   "id": "55052966-f890-427a-8b44-730bb22dac76",
   "metadata": {
    "slideshow": {
     "slide_type": "subslide"
    },
    "tags": []
   },
   "source": [
    "<div>\n",
    "<img src=\"figures/superkekb_1.JPG\" width=\"1500\"/>\n",
    "</div>"
   ]
  },
  {
   "cell_type": "markdown",
   "id": "04ed8adb-cd19-4159-9e77-d7191be30cdd",
   "metadata": {
    "slideshow": {
     "slide_type": "slide"
    },
    "tags": []
   },
   "source": [
    "---\n",
    "# Wie messen wir Teilchen?\n",
    "---"
   ]
  },
  {
   "cell_type": "markdown",
   "id": "e6fc1b80-cd03-404b-93db-f7e735151ac9",
   "metadata": {
    "slideshow": {
     "slide_type": "subslide"
    },
    "tags": []
   },
   "source": [
    "<div>\n",
    "<img src=\"figures/detector_1.JPG\" width=\"1600\"/>\n",
    "</div>"
   ]
  },
  {
   "cell_type": "markdown",
   "id": "5eda8acd-b76c-4c78-a778-dbd4de78eac9",
   "metadata": {
    "slideshow": {
     "slide_type": "fragment"
    },
    "tags": []
   },
   "source": [
    "Elementarteilchen sind zu klein und die meisten ihrer Wechselwirkungen zu schwach, als dass wir sie mit bloßem Auge wahrnehmen können.\n",
    "\n",
    "Wir verwenden riesige, sehr sensible Detektoren, um \"Bilder\" aufzunehmen und dadurch Teilchen, die in unseren Kollisionen entstehen, sichtbar zu machen.\n"
   ]
  },
  {
   "cell_type": "markdown",
   "id": "73c78fff-64a7-4940-b476-133ba30a4d29",
   "metadata": {
    "slideshow": {
     "slide_type": "slide"
    },
    "tags": []
   },
   "source": [
    "# Der Belle II Detektor"
   ]
  },
  {
   "cell_type": "markdown",
   "id": "3f6f6805-0b36-4e0c-af6b-263d273a50a8",
   "metadata": {
    "slideshow": {
     "slide_type": "fragment"
    },
    "tags": []
   },
   "source": [
    "\n",
    "<div>\n",
    "<img src=\"figures/Detektor.gif\" width=\"1500\"/>\n",
    "</div>"
   ]
  },
  {
   "cell_type": "markdown",
   "id": "25f623ca-a67b-4232-a1ae-c4a15d71bf8c",
   "metadata": {
    "slideshow": {
     "slide_type": "subslide"
    },
    "tags": []
   },
   "source": [
    "Wir wollen die Eigenschaften eines Teilchens messen, um herauszukriegen, was es ist. Jeder Detektorteil hat ein anderes Einsatzgebiet, damit wir in Summe alle Teilcheninformationen messen können."
   ]
  },
  {
   "cell_type": "markdown",
   "id": "0dec724e-09e0-4826-98ff-f80e0ea27165",
   "metadata": {
    "slideshow": {
     "slide_type": "fragment"
    },
    "tags": []
   },
   "source": [
    "In unserem Fall:\n",
    " - elektrische Ladung: Für Teilchen gibt es genau drei mögliche Ladungen:\n",
    "     - positive (+) Ladung\n",
    "     - negative (-) Ladung\n",
    "     - neutrale (0) Ladung\n",
    " - Masse\n",
    " - Energie\n",
    " - Impuls\n",
    " - Lebensdauer\n",
    " "
   ]
  },
  {
   "cell_type": "markdown",
   "id": "abf19cd8-5b59-4280-a939-e8d541e07fc3",
   "metadata": {
    "slideshow": {
     "slide_type": "slide"
    },
    "tags": []
   },
   "source": [
    "---\n",
    "## Unsere Subdetektoren\n",
    "---"
   ]
  },
  {
   "cell_type": "markdown",
   "id": "9687871c-b20f-428d-81b5-0ffc936e58f4",
   "metadata": {
    "slideshow": {
     "slide_type": "fragment"
    },
    "tags": []
   },
   "source": [
    "Jeder Detektorteil (oder auch Subdetektor) hat seine eigene Funktionsweise, sein eigenes Expertenteam und sein eigenes, optimiertes Anwendungsgebiet. Belle II besteht aus sieben Subdetektoren, wir fokussieren uns hier auf\n",
    "\n",
    "1. Die $\\color{orange}{\\text{Spurdetektoren}}$ (Pixeldetektor, Siliziumvertexdetektor, Driftkammer), \n",
    "2. das $\\color{red}{\\text{Kalorimeter}}$ und \n",
    "3. den  $\\color{blue}{\\text{Muon Detektor (KLM)}}$"
   ]
  },
  {
   "cell_type": "markdown",
   "id": "802e50d4-0972-4a42-99fc-05f812622e7e",
   "metadata": {
    "slideshow": {
     "slide_type": "fragment"
    },
    "tags": []
   },
   "source": [
    "\n",
    "<div>\n",
    "<img src=\"figures/Detektor_Aufbau.jpg\" width=\"1500\"/>\n",
    "</div>"
   ]
  },
  {
   "cell_type": "markdown",
   "id": "d098da02-2232-4558-b459-f9535dcf5286",
   "metadata": {
    "slideshow": {
     "slide_type": "slide"
    },
    "tags": []
   },
   "source": [
    "---\n",
    "# 1.  Spurdetektoren\n",
    "---"
   ]
  },
  {
   "cell_type": "markdown",
   "id": "2084468b-6779-4f96-9575-50dc79140d87",
   "metadata": {
    "slideshow": {
     "slide_type": "fragment"
    },
    "tags": []
   },
   "source": [
    "Der Belle II Detektor verwendet in Realität drei verschiedene Spurdetektoren, um in der Nähe des Kollisionspunktes eine möglichst gute Auflösung zu erzielen. In unserem vereinfachten Aufbau reduzieren wir das auf einen, der in seiner Art dem Pixeldetektor am Nächsten kommt:\n",
    "\n",
    "<div>\n",
    "<img src=\"figures/Tracking_Highlighted.png\" width=\"400\"/>\n",
    "</div>\n",
    "\n"
   ]
  },
  {
   "cell_type": "markdown",
   "id": "ac9fccdd-bb59-4c4b-ab0f-26917c0253d5",
   "metadata": {
    "slideshow": {
     "slide_type": "subslide"
    },
    "tags": []
   },
   "source": [
    "Aufgebaut aus Silizium-Streifen-Detektoren, funktioniert dieser Detektor ähnlich wie ein Kamerasensor in Handys oder Digitalkameras mit vielen Pixeln.\n",
    "\n",
    "Wenn ein geladenes Teilchen durch einen der Pixel fliegt, messen wir ein elektrisches Signal.\n",
    "\n",
    "<div>\n",
    "<img src=\"figures/Spurdetektor_Funktion.gif\" width=\"700\"/>\n",
    "</div>"
   ]
  },
  {
   "cell_type": "markdown",
   "id": "4e12fa6b-f52c-434e-bfb5-290fa612d591",
   "metadata": {
    "slideshow": {
     "slide_type": "slide"
    },
    "tags": []
   },
   "source": [
    "# Messung der Ladung"
   ]
  },
  {
   "cell_type": "markdown",
   "id": "54b96be6-4405-42c2-8b64-07bd91c1b6d5",
   "metadata": {
    "slideshow": {
     "slide_type": "fragment"
    },
    "tags": []
   },
   "source": [
    "\n",
    "Hierfür verwenden wir die Lorentzkraft (wenn du mehr dazu wissen willst, kannst du [hier](https://www.leifiphysik.de/elektrizitaetslehre/kraft-auf-stromleiter-e-motor/grundwissen/lorentz-kraft) klicken):\n",
    "\n",
    "Bewegt sich ein geladenes Teilchen im Magnetfeld, wird es auf eine Kreisbahn abgelenkt.\n"
   ]
  },
  {
   "cell_type": "markdown",
   "id": "57b0b562-0dd1-4595-8139-42ef6c7d8966",
   "metadata": {
    "slideshow": {
     "slide_type": "fragment"
    },
    "tags": []
   },
   "source": [
    "<div class=\"alert alert-block alert-success\">\n",
    "                                          \n",
    "Für ein positiv geladenes Teilchen gilt die Rechte-Hand-Regel.\n",
    "    \n",
    "Für ein negativ geladenes Teilchen gilt die Linke-Hand-Regel.\n",
    "    </div>\n",
    "<div>\n",
    "<img src=\"figures/hand_regel.png\" width=\"1000\"/>\n",
    "</div>"
   ]
  },
  {
   "cell_type": "markdown",
   "id": "9ef0d792-dbac-4a71-a363-28d9a01c0f23",
   "metadata": {
    "slideshow": {
     "slide_type": "subslide"
    },
    "tags": []
   },
   "source": [
    "\n",
    "Aus diesem Grund enthält Belle II einen großen und starken Magneten. Das Magnetfeld beträgt 1,5 Tesla und wird durch Supraleitung erzeugt. Im Vergleich: Das Erdmagnetfeld hat ca. 50 $\\mu$T und ein normaler Hufeisenmagnet ca. 100 mT.\n",
    "\n",
    "<div>\n",
    "<img src=\"figures/belledetector_magnet.png\" width=\"1000\"/>\n",
    "</div>\n"
   ]
  },
  {
   "cell_type": "markdown",
   "id": "d5b0bee9-fab2-4842-876c-242fd4ca9c9a",
   "metadata": {
    "slideshow": {
     "slide_type": "skip"
    },
    "tags": []
   },
   "source": [
    "Wenn du mehr über Magnete in Teilchenphysikexperimenten wissen möchtest, klicke [hier](https://youtu.be/M1vraBY8DOk).\n",
    "\n",
    "Verfolgt man nun die Bahn eines Teilchens, kann man daraus folgern, was für eine Ladung das Teilchen hat."
   ]
  },
  {
   "cell_type": "markdown",
   "id": "a36f8a51-5244-4a8a-8480-4624fd4046f3",
   "metadata": {
    "slideshow": {
     "slide_type": "slide"
    },
    "tags": []
   },
   "source": [
    "<div class=\"alert alert-info\">\n",
    "                                                             \n",
    "<strong>Versuch:</strong>\n",
    "    \n",
    "Führe die Zelle unten aus.\n",
    "\n",
    "Auf der linken Seite lassen sich die Eigenschaften des Teilchens und die Stärke des Magnetfeldes einstellen.\n",
    "\n",
    "Lasse den Winkel $\\phi = 0$ und setzte das Magnetfeld auf den höchsten möglichen Wert.\n",
    "Wie bewegt sich ein positives/negatives/ungeladenes Teilchen?\n",
    "\n",
    "Wie ändert sich die Situation, wenn der Winkel sich ändert?    \n",
    "</div>"
   ]
  },
  {
   "cell_type": "code",
   "execution_count": null,
   "id": "6ff6bba4-adba-42e8-9b54-06e6cfc6787a",
   "metadata": {
    "slideshow": {
     "slide_type": "skip"
    },
    "tags": []
   },
   "outputs": [],
   "source": [
    "%matplotlib widget\n",
    "from belleIImasterclass.widgets.charge import ChargeWidget\n",
    "chargeWidget = ChargeWidget()\n",
    "chargeWidget.show()"
   ]
  },
  {
   "cell_type": "markdown",
   "id": "664f3359-89a9-4e11-a8a8-bb8b3d64dedd",
   "metadata": {
    "slideshow": {
     "slide_type": "skip"
    },
    "tags": []
   },
   "source": [
    "Damit können wir die Ladung des Teilchens bestimmen, das wir messen.\n",
    "\n",
    "Wir können aber zusätzlich auch den Impuls bestimmen\n",
    "\n",
    "<div class = \"alert alert-info\">\n",
    "                                    \n",
    "<strong> Versuch: </strong>\n",
    "Gehe nochmal zu dem Widget oben. \n",
    "\n",
    "Wie ändert sich die Bahn des Teilchens wenn sich das Magnetfeld ändert? \n",
    "\n",
    "Wie sieht die Bahn für Teilchen mit großen oder kleinen Impuls aus?\n",
    "\n",
    "</div>"
   ]
  },
  {
   "cell_type": "markdown",
   "id": "a8b54812-29da-4a89-a5c0-4bbb3f58c941",
   "metadata": {
    "slideshow": {
     "slide_type": "skip"
    },
    "tags": []
   },
   "source": [
    "<div class = \"alert alert-block alert-success\">\n",
    "                                                 \n",
    "Die Spurdetektoren können nur geladene Teilchen detektieren. Teilchen, die keine Ladung haben, sind für sie unsichtbar!\n",
    "</div>"
   ]
  },
  {
   "cell_type": "markdown",
   "id": "a774859a-8c9a-4616-b5a2-6417cb4ec5b5",
   "metadata": {
    "slideshow": {
     "slide_type": "skip"
    },
    "tags": []
   },
   "source": [
    "<div class = \"alert alert-info\">\n",
    "                                         \n",
    "<strong>Versuch</strong>\n",
    "Führe die Zelle unten aus.\n",
    "\n",
    "Du siehts nun eine schematische Übersicht über unseren Spurdetektor. \n",
    "Jedes der Kreissegmente steht für einen Pixel des Detektors. \n",
    "Wenn sie von einem Teilchen getroffen werden, werden sie blau eingefärbt.\n",
    "\n",
    "Verändere den Impuls und den Winkel des Teilchens und beobachte, welche Detektorpixel es trifft.\n",
    "\n",
    "Verändere auch dir elektrische Ladung des Teilchens.\n",
    "\n",
    "Wie viele Detektorpixel ändern sich bei kleinen Impulsänderungen?\n",
    "Wie viele bei kleinen Winkeländerungen?\n",
    "\n",
    "Was passiert bei ungeladenen Teilchen?\n",
    "\n",
    "</div>    "
   ]
  },
  {
   "cell_type": "code",
   "execution_count": null,
   "id": "0419a690-df07-4e02-a5bd-6c9681c1dc82",
   "metadata": {
    "slideshow": {
     "slide_type": "skip"
    },
    "tags": []
   },
   "outputs": [],
   "source": [
    "from belleIImasterclass.widgets.trackingDemo import TrackingDemonstratorWidget\n",
    "trackingDemoWidget = TrackingDemonstratorWidget()\n",
    "trackingDemoWidget.show()"
   ]
  },
  {
   "cell_type": "markdown",
   "id": "f5ba2966-1c75-4a65-937e-99770eb3675d",
   "metadata": {
    "slideshow": {
     "slide_type": "slide"
    },
    "tags": []
   },
   "source": [
    "## Detektorauflösung"
   ]
  },
  {
   "cell_type": "markdown",
   "id": "474562c4-6e85-45cb-978e-a47baea166cc",
   "metadata": {
    "slideshow": {
     "slide_type": "fragment"
    },
    "tags": []
   },
   "source": [
    "Teilchen können, obwohl sie unterschiedliche Eigenschaften haben, die gleichen Signale im Detektor hinterlassen. \n",
    "Diese Ungenaugkeiten nennen wir **Detektorauflösung**.\n",
    "\n",
    "<div>\n",
    "<img src=\"figures/lineal.jpeg\" width=\"700\"/>\n",
    "</div>\n",
    "\n",
    "<div class = \"alert alert-block alert-success\">\n",
    "         \n",
    "   Mehr als 1 mm Abstände ist schwer zu messen mit diesem Lineal\n",
    "</div>\n"
   ]
  },
  {
   "cell_type": "markdown",
   "id": "b90b5a9f-3724-4df2-97fc-aa99dcb09990",
   "metadata": {
    "slideshow": {
     "slide_type": "fragment"
    },
    "tags": []
   },
   "source": [
    "Genauso funktioniert das mit den Detektorsegmenten. Deshalb haben wir jetzt deutlich mehr Pixel und Schichten."
   ]
  },
  {
   "cell_type": "markdown",
   "id": "523cc112-19b8-48a9-8986-064ca9a1d152",
   "metadata": {
    "slideshow": {
     "slide_type": "fragment"
    },
    "tags": []
   },
   "source": [
    "<div class = \"alert alert-info\">\n",
    "    \n",
    "<strong>Aufgabe</strong>\n",
    "Warum verwenden wir dann nicht einfach so viele Pixel wie möglich?\n",
    "</div>    "
   ]
  },
  {
   "cell_type": "markdown",
   "id": "25126565-e7cc-411c-9417-adbf6e9ec158",
   "metadata": {
    "slideshow": {
     "slide_type": "skip"
    },
    "tags": []
   },
   "source": [
    "Klappe hier auf:"
   ]
  },
  {
   "cell_type": "markdown",
   "id": "4a2dd529-c83a-455c-9fd1-d96129aab60a",
   "metadata": {
    "slideshow": {
     "slide_type": "skip"
    },
    "tags": []
   },
   "source": [
    "Eine Lösung dafür ist, mehr Pixel und mehr Schichten zu bauen. Das ist allerdings teuer, verbraucht Platz für mehr Kabel und benötigt mehr Strom, d.h. wir haben mehr Zwischenräume, in denen wir nichts messen können oder brauchen sehr viel Platz, weil der Detektor sehr groß wird. Wir müssen also einen Kompromiss finden, wenn wir den Detektor bauen. \n",
    "Deswegen hat der Belle II Detektor auch drei verschiedene Spurdetektoren. Nach außen hin werden günstigere und größere Detektoren eingesetzt, die aber oft auch weniger genau sind."
   ]
  },
  {
   "cell_type": "markdown",
   "id": "d09de5cd-bd8a-43c9-9fb6-177844cbe458",
   "metadata": {
    "slideshow": {
     "slide_type": "slide"
    },
    "tags": []
   },
   "source": [
    "---\n",
    "## Detektorrauschen <a id='SubSec:noise'> </a>\n",
    "---\n"
   ]
  },
  {
   "cell_type": "markdown",
   "id": "e110c20d-6caf-4c4c-a70c-ded982e68a01",
   "metadata": {
    "slideshow": {
     "slide_type": "fragment"
    },
    "tags": []
   },
   "source": [
    "\n",
    "Leider ist unser Detektor in Wirklichkeit nicht so schön eindeutig, wie es in der Aufgaben oben dargestellt ist. Einzelne Detektorteile können auch zufällig falsche Signale geben und erschweren uns damit die Arbeit.\n",
    "\n",
    "Vermutlich kennst du so etwas von Bildern, besonders, wenn sie im Dunkeln gemacht wurden. Es gibt ein **Rauschen**, das das Bild unschärfer macht und es schwerer macht, feinere Strukturen zu erkennen.\n",
    "\n",
    "\n",
    "<div>\n",
    "<img src=\"figures/Bildrauschen.jpg\" width=\"700\"/>\n",
    "</div>"
   ]
  },
  {
   "cell_type": "markdown",
   "id": "69a69449-aba4-4153-bc08-4b6410af9895",
   "metadata": {
    "slideshow": {
     "slide_type": "subslide"
    },
    "tags": []
   },
   "source": [
    "Genau das Gleiche kann auch hier bei dem Spurdetektor passieren. \n",
    "\n",
    "<div class=\"alert alert-block alert-success\">\n",
    "    \n",
    "    \n",
    "So wie bei dem Kamerasensor ein Element auf einmal etwas anzeigt, was es gar nicht gemessen hat, kann auch hier ein elektrischer Impuls entstehen, ohne dass ein Teilchen von unserer Kollision das Detektorsegment durchlaufen hat. Das erschwert es uns natürlich, die Teilchenspuren zu finden."
   ]
  },
  {
   "cell_type": "markdown",
   "id": "7cfd2871-75b2-448b-833e-b2687d60e4c3",
   "metadata": {
    "slideshow": {
     "slide_type": "fragment"
    },
    "tags": []
   },
   "source": [
    "\n",
    "<div>\n",
    "<img src=\"figures/NoiseComparison.png\" width=\"900\"/>\n",
    "</div>"
   ]
  },
  {
   "cell_type": "markdown",
   "id": "866714e2-211a-48f8-b436-1c9b9f416e76",
   "metadata": {
    "slideshow": {
     "slide_type": "slide"
    },
    "tags": []
   },
   "source": [
    "## Bestimme ein Teilchen im Spurdetektor"
   ]
  },
  {
   "cell_type": "markdown",
   "id": "999a46f3-06ed-4b35-b143-2b3f1aa21628",
   "metadata": {
    "slideshow": {
     "slide_type": "fragment"
    },
    "tags": []
   },
   "source": [
    "<div class=\"alert alert-info\">\n",
    "           \n",
    "    \n",
    "<strong>Aufgabe:</strong>\n",
    "    \n",
    "Wir wiederholen die vorherige Aufgabe. Jetzt aber mit der zusätzlichen Schwierigkeit, dass der Detektor auch Rauschen zeigt, also nicht alle Signale auch zu unserem Teilchen gehören.\n",
    "\n",
    "Bestimme  Impuls, Winkel und elektrische Ladung des Teilchens.\n",
    "    \n",
    "Du kannst mit Hilfe des Buttons `Zeige wahres Teilchen` dein Ergebnis kontrollieren.\n",
    "Wenn du möchtest, kannst du die Aufgabe mit größeren Rauschraten versuchen. Ab was für einer Rauschrate, kanns du die Spur nicht mehr erkennen?"
   ]
  },
  {
   "cell_type": "code",
   "execution_count": null,
   "id": "22363767-3591-471f-8919-e0e656a7df38",
   "metadata": {
    "slideshow": {
     "slide_type": "skip"
    },
    "tags": []
   },
   "outputs": [],
   "source": [
    "from src.widgets import TrackingWidget\n",
    "tw=TrackingWidget('introduction_events/single_track.h5', show_truthbutton = True, noise = 0.1)\n",
    "tw.show()"
   ]
  },
  {
   "cell_type": "markdown",
   "id": "231f188e-4b8c-4003-978d-8c48b2f99a0e",
   "metadata": {
    "slideshow": {
     "slide_type": "slide"
    },
    "tags": []
   },
   "source": [
    "## Der echte Belle II Spurdetektor"
   ]
  },
  {
   "cell_type": "markdown",
   "id": "bec2b00c-c9f2-457c-a274-fc8d0d9e6cd1",
   "metadata": {
    "slideshow": {
     "slide_type": "subslide"
    },
    "tags": []
   },
   "source": [
    "### Der Pixeldetektor"
   ]
  },
  {
   "cell_type": "markdown",
   "id": "85578cec-3f33-4b13-92da-7980f660ab07",
   "metadata": {
    "slideshow": {
     "slide_type": "fragment"
    },
    "tags": []
   },
   "source": [
    "<div>\n",
    "<img src=\"figures/pxd2_closeup.jpg\" width=\"1000\"/>\n",
    "</div>"
   ]
  },
  {
   "cell_type": "markdown",
   "id": "ec2638eb-34d1-48da-80e0-b253cd3be5b3",
   "metadata": {
    "slideshow": {
     "slide_type": "skip"
    },
    "tags": []
   },
   "source": [
    "Der Pixeldetektor, auch PXD genannt, ist der Detektor, welcher unserem vereinfachten Detektor am Nächsten ist. Er besteht aus zwei Lagen Siliziumdetektoren, welche einen Strom erzeugen, sobald ein Teilchen eine der Siliziumzellen durchquert. \n",
    "\n",
    "Durch die Nähe zum Elektronen- und Positronenstrahl durchqueren den Pixeldetektor ca. 1 Millionen Teilchen pro Sekunde. Der Großteil davon ist Untergrund, wodurch der Detektor den Großteil der Zeit beschäftigt ist. Das heißt, dass der Pixeldetektor aus möglichst vielen, möglichst kleinen Zellen (= Pixel) bestehen muss, die sehr schnell wieder \"frei\" werden für das nächste Teilchen. Der gesamte Detektor hat ca. 8 Millionen dieser Pixel, welche in ca. 100 Nanosekunden ausgelesen werden können."
   ]
  },
  {
   "cell_type": "markdown",
   "id": "f54aede1-22f5-49fa-9d31-66cd316a6cdf",
   "metadata": {
    "slideshow": {
     "slide_type": "subslide"
    },
    "tags": []
   },
   "source": [
    "### Der Siliziumvertexdetektor"
   ]
  },
  {
   "cell_type": "markdown",
   "id": "59895216-a8a7-45b9-a4fc-0a150a277e3c",
   "metadata": {
    "slideshow": {
     "slide_type": "fragment"
    },
    "tags": []
   },
   "source": [
    "<div>\n",
    "<img src=\"figures/svd_2_cropped.jpg\" width=\"1000\"/>\n",
    "</div>"
   ]
  },
  {
   "cell_type": "markdown",
   "id": "f39b963d-5971-43d0-9eeb-8b8abdd03c5e",
   "metadata": {
    "slideshow": {
     "slide_type": "skip"
    },
    "tags": []
   },
   "source": [
    "Außerhalb des Pixeldetektors befindet sich unser Siliziumvertexdetektor. Der Siliziumvertexdetektor, auch SVD genannt, besteht aus Siliziumstreifen anstatt Siliziumzellen, um die hohe Anzahl an Kanälen, die ein Signal weitergeben können, zu verringern. Viele Kanäle erschweren die Auswertung und sind in diesem Fall sogar hinderlich.\n",
    "\n",
    "Der SVD ist dafür da, den Zerfallspunkt von Teilchen sehr genau zu bestimmen. Da die meisten Teilchen in Belle II eine eher kurze Lebensdauer haben, zerfallen sie in der Nähe des Kollisionspunktes und können im SVD rekonstruiert werden. \n",
    "\n",
    "Der SVD startet in einem Abstand von 3,8 cm vom Strahlrohr entfernt und endet bei 13,5 cm. Insgesamt können wir hier ca. 200.000 Kanäle auslesen, deutlich weniger als im Pixeldetektor, aber immer noch genug, um ein Ereignis gut darstellen zu können."
   ]
  },
  {
   "cell_type": "markdown",
   "id": "adaaf813-40df-42ca-ac1d-3a78d96737cd",
   "metadata": {
    "slideshow": {
     "slide_type": "subslide"
    },
    "tags": []
   },
   "source": [
    "### Die zentrale Driftkammer"
   ]
  },
  {
   "cell_type": "markdown",
   "id": "93b65b16-4eeb-40cb-8062-d947889d6e02",
   "metadata": {
    "slideshow": {
     "slide_type": "fragment"
    },
    "tags": []
   },
   "source": [
    "<div style=\"display: flex; align-items: flex-start;\">\n",
    "    <img src=\"figures/complete.png\" style=\"width: 50%; margin-right: 10px;\">\n",
    "    <img src=\"figures/cdc_full.JPG\" style=\"width: 50%;\">\n",
    "</div>"
   ]
  },
  {
   "cell_type": "markdown",
   "id": "ead27199-fbe5-45ca-843e-549ee527aba1",
   "metadata": {
    "slideshow": {
     "slide_type": "subslide"
    },
    "tags": []
   },
   "source": [
    "Die zentrale Driftkammer, oder auch CDC für Central Drift Chamber, ist der größte der drei Spurdetektoren. Sie ummantelt den Pixeldetektor und den SVD und besteht aus über 50.000 gespannten Drähten. All diese Drähte zu spannen, hat über ein Jahr gedauert! "
   ]
  },
  {
   "cell_type": "markdown",
   "id": "20a18d72-767d-4c94-92ad-89d64b821820",
   "metadata": {
    "slideshow": {
     "slide_type": "fragment"
    },
    "tags": []
   },
   "source": [
    "<div>\n",
    "    <img src=\"figures/cdc_work.JPG\" width=\"1400\"/>\n",
    "</div>"
   ]
  },
  {
   "cell_type": "markdown",
   "id": "f45b4bd7-01f6-4940-b1c7-7e00a4bcb4ca",
   "metadata": {},
   "source": [
    "Wenn ein Teilchen die Driftkammer durchquert, ionisiert es das Gas, mit welchem sie gefüllt ist. Wir verwenden ein Gasgemisch aus 50 % Helium und 50 % Ethan, da uns das eine hohe Wahrscheinlichkeit gibt, dass die Teilchen Gasatome ionisieren. Zudem hat dieses Gasgemisch eine hohe Driftgeschwindigkeit. Driftkammern funktionieren, wie der Name auch schon verrät, dadurch, dass die durch die Ionisation entstehenden Elektronen zum nächstgelegenen Draht \"driften\". Dadurch entsteht ein kleiner Strom, welchen wir messen können und daher den Weg des primären Teilchens nachvollziehen können. "
   ]
  },
  {
   "cell_type": "markdown",
   "id": "1da9ca97-1b93-4819-9327-1fdbbd7e4567",
   "metadata": {
    "slideshow": {
     "slide_type": "slide"
    },
    "tags": []
   },
   "source": [
    "## Ein Event Display"
   ]
  },
  {
   "cell_type": "markdown",
   "id": "ccc19fec-3770-48c2-89d0-2e6ac6d45ac8",
   "metadata": {
    "slideshow": {
     "slide_type": "skip"
    },
    "tags": []
   },
   "source": [
    "So sieht ein Ereignis in den Spurdetektoren bei Belle II aus, wenn man den Detektor senkrecht zum Strahlrohr durchschneiden würde. Die grün markierten Punkte sind alles Untergrundspuren, die wir messen. In Realität sind diese natürlich nicht farbig markiert und machen es daher schwerer, die richtigen Spuren zu rekonstruieren."
   ]
  },
  {
   "cell_type": "markdown",
   "id": "20dcb8af-1c58-43c5-a0f3-1e609c916131",
   "metadata": {
    "slideshow": {
     "slide_type": "fragment"
    },
    "tags": []
   },
   "source": [
    "<div>\n",
    "<img src=\"figures/track_display.png\" width=\"1500\"/>\n",
    "</div>"
   ]
  },
  {
   "cell_type": "markdown",
   "id": "a13a4840-293c-4e60-8236-4052b702c6b6",
   "metadata": {
    "slideshow": {
     "slide_type": "skip"
    },
    "tags": []
   },
   "source": [
    "Für jeden Subdetektor gibt es einen eigenen Algorithmus, wie die Spuren rekonstruiert werden. Wir am KIT arbeiten aktiv an einem Algorithmus, um die Spurfindung in der CDC zu verbessern."
   ]
  },
  {
   "cell_type": "markdown",
   "id": "63e8478f-2edc-4ac8-9492-3c4240450873",
   "metadata": {
    "slideshow": {
     "slide_type": "slide"
    },
    "tags": []
   },
   "source": [
    "# 2. Das Elektromagnetische Kalorimeter"
   ]
  },
  {
   "cell_type": "markdown",
   "id": "7f83bda1-eec4-440b-8b8d-e86eeeade07d",
   "metadata": {
    "slideshow": {
     "slide_type": "fragment"
    },
    "tags": []
   },
   "source": [
    "---\n",
    "Das elektromagnetische Kalorimeter misst die Energie in Form von Schauern. Wenn ein hochenergetisches Teilchen in einen Kristall fliegt, werden über die elektromagnetische Wechselwirkung Photonen abgestrahlt, die daraufhin wieder in Elektronen und Positronen konvertiert werden. Innerhalb des Kristalls wird also eine \"Lawine\" aus immer mehr Teilchen ausgelöst, bis diese nicht mehr genug Energie haben, um weitere Teilchen zu erzeugen. \n",
    "\n",
    "<div>\n",
    "<img src=\"figures/Schematic_of_a_particle_shower.svg.png\" width=\"300\"/>\n",
    "</div>"
   ]
  },
  {
   "cell_type": "markdown",
   "id": "4aa14c33-62e9-4112-be40-0d2148b4d24f",
   "metadata": {
    "slideshow": {
     "slide_type": "subslide"
    },
    "tags": []
   },
   "source": [
    "In dem Kristall sieht das Ganze dann so aus:\n",
    "\n",
    "<div>\n",
    "<img src=\"figures/electromagnetic_shower.png\" width=\"700\"/>\n",
    "</div>\n",
    "\n",
    "Die entstandenen Photonen werden dann gemessen und anhand ihrer Anzahl kann die Energie des ursprünglichen Teilchens bestimmt werden."
   ]
  },
  {
   "cell_type": "markdown",
   "id": "be29cba4-9d61-4b06-b005-892b28bb8279",
   "metadata": {
    "slideshow": {
     "slide_type": "fragment"
    },
    "tags": []
   },
   "source": [
    "Schauern die Teilchen auf, kann es sein, dass der Radius des Schauers breiter ist als ein Kristall. Der Schauer breitet sich auf die umliegenden Kristalle aus. Für die Energierekonstruktion müssen wir also alle dem Schauer zugehörigen Kristalle kombinieren, um so die Gesamtenergie des Teilchens zu bestimmen.  "
   ]
  },
  {
   "cell_type": "markdown",
   "id": "64bc5702-d74a-403a-be52-787bdc643d05",
   "metadata": {
    "slideshow": {
     "slide_type": "slide"
    },
    "tags": []
   },
   "source": [
    "<div class=\"alert alert-info\"> \n",
    "                  \n",
    "<strong>Aufgabe:</strong>\n",
    "    \n",
    "Bestimme die Energie des Teilchens, indem du das Energiecluster des Teilchens markierst."
   ]
  },
  {
   "cell_type": "markdown",
   "id": "2f70f237-29e7-4e36-a197-a01348b8c391",
   "metadata": {
    "slideshow": {
     "slide_type": "fragment"
    },
    "tags": []
   },
   "source": [
    "<div class=\"alert alert-warning\">\n",
    "                               \n",
    "<strong>Hinweis:</strong>\n",
    "    \n",
    "Hier siehst du den Zylinder des elektromagnetische Kalorimeters ausgerollt. \n",
    "    \n",
    "Die Energie pro Kristall ist mit den Farben codiert, je stärker ein Kristall $\\color{red}{\\text{rot}}$ leuchtet, desto mehr Energie wurde in dem Kristall deponiert. Ist der Kristall grau eingefärbt, hat er wie zuvor nichts gemessen. Umrande die Kristalle, die deiner Meinung nach zu dem Cluster gehören."
   ]
  },
  {
   "cell_type": "code",
   "execution_count": null,
   "id": "71468031-58ce-4548-8cbe-062f42293b73",
   "metadata": {
    "slideshow": {
     "slide_type": "skip"
    },
    "tags": []
   },
   "outputs": [],
   "source": [
    "from belleIImasterclass.widgets.clustering import ECLWidget\n",
    "from belleIImasterclass.particlesmanager import ParticlesManager\n",
    "pm = ParticlesManager(\"./events\", event_number=0)\n",
    "ew = ECLWidget(pm, noise_ratio=0.)\n",
    "ew.show()"
   ]
  },
  {
   "cell_type": "markdown",
   "id": "3cdf468b-82f1-41d8-905c-63ee7ce74bdd",
   "metadata": {
    "slideshow": {
     "slide_type": "skip"
    },
    "tags": []
   },
   "source": [
    "Die Energiedeposition eines Teilchens ist wichtig, weil wir dadurch das Ereignis in seiner Gänze rekonstruieren können. Zudem können wir damit auch weitere Teilchenidentifikation betreiben. Ein Elektron wird immer fast seine ganze Energie im Kalorimeter deponieren. Dadurch, dass ein Elektron sehr leicht ist, ist das Verhältnis zwischen seinem Impuls und seiner Energie, also E/p ungefähr 1. Dadurch können wir Elektronen von anderen Teilchen unterscheiden."
   ]
  },
  {
   "cell_type": "markdown",
   "id": "41f1f449-7f5e-44fc-afac-d5de635542f0",
   "metadata": {
    "slideshow": {
     "slide_type": "skip"
    },
    "tags": []
   },
   "source": [
    "Auch die Form des Energiecluster unterscheidet sich für die verschiedenen Teilchenarten.\n",
    "Diese Signatur kann ebenfalls verwendet werden, um Teilchen zu identifizieren.\n",
    "<div class=\"alert alert-info\">    \n",
    "                                  \n",
    "<strong>Aufgabe:</strong>\n",
    "        \n",
    "Du kannst dir im Folgenden die verschiedenen Teilchen anschauen, um dich mit den Signaturen vertraut zu machen."
   ]
  },
  {
   "cell_type": "markdown",
   "id": "32584b9b-15d9-43d5-a305-ec44fb9ce9cd",
   "metadata": {
    "slideshow": {
     "slide_type": "slide"
    },
    "tags": []
   },
   "source": [
    "---\n",
    "Man erkennt einen deutlichen Unterschied zwischen den verschiedenen Teilchen:\n",
    "\n",
    "| Elektron | Myon | Pion\n",
    "| - | - | - |\n",
    "| ![alt](Ecal_images/Elektron.png) | ![alt](Ecal_images/Muon.png) | ![alt](Ecal_images/Pion.png) |\n",
    "| ![alt](Ecal_images/Positron.png)  | ![alt](Ecal_images/Anti-Muon.png) | ![alt](Ecal_images/Anti-Pion.png) |"
   ]
  },
  {
   "cell_type": "markdown",
   "id": "78469349-b5b7-4f88-acad-0ee5882c4643",
   "metadata": {
    "slideshow": {
     "slide_type": "skip"
    },
    "tags": []
   },
   "source": [
    "In der obersten Reihe seht ihr immer die Energiedeposition des genannten Teilchens, also eines Elektrons, Myons oder Pions, während in der unteren Reihe die Energiedepositionen der jeweiligen Antiteilchen zu sehen sind, also eines Positrons, eines Anti-Myons und eines Anti-Pions.\n",
    "\n",
    "Das <strong>Positron </strong>, wie das <strong>Elektron</strong>, interagiert, wenn es auf einen Kristall im elektromagnetischen Kalorimeter trifft. Es schauert daraufhin breit auf, so dass auch in den umliegenden Kristallen Energie gemessen wird. Dadurch gibt es einen Kristall in der Mitte mit viel Energie und in den umliegenden Kristallen ist weniger Energie.\n",
    "\n",
    "Das <strong>Myon</strong> hingegen hat einen sehr schmalen Schauer, es gibt wenig Kristalle, in denen die Energie deponiert wird.\n",
    "\n",
    "Das <strong>Pion</strong> kann schon vor dem elektromagnetischen Kalorimeter aufschauern. Der Schauer des Pions ist auch sehr breit. Aus diesem Grund ist die Energiedeposition sehr stark verteilt, und im Gegensatz zu den Elektronen, bei denen die Cluster kreisförmig sind, ist die Energieverteilung sehr unregelmäßig."
   ]
  },
  {
   "cell_type": "markdown",
   "id": "f4d6f449-154e-4046-af47-c9abccfd6cf3",
   "metadata": {
    "slideshow": {
     "slide_type": "slide"
    },
    "tags": []
   },
   "source": [
    "---\n",
    "## ECL-Detektorrauschen <a id='SubSec:ECLnoise'> </a>\n",
    "---"
   ]
  },
  {
   "cell_type": "markdown",
   "id": "ee794700-1d40-4a96-aee9-c6e38b5c5a42",
   "metadata": {
    "slideshow": {
     "slide_type": "fragment"
    },
    "tags": []
   },
   "source": [
    "Wie auch beim Spurdetektor gibt es auch beim elektromagnetischen Kalorimeter Rauschen, was es uns erschwert, die Energie zu messen.\n",
    "\n",
    "<div class=\"alert alert-info\">    \n",
    "                           \n",
    "<strong>Aufgabe:</strong>\n",
    "        \n",
    "Bestimme die Art und Energie der 2 Teilchen bei Detektorrauschen."
   ]
  },
  {
   "cell_type": "markdown",
   "id": "b41b9e7d-a9e3-4eab-b00c-fbb176d0d69e",
   "metadata": {
    "slideshow": {
     "slide_type": "fragment"
    },
    "tags": []
   },
   "source": [
    "<div class=\"alert alert-warning\">\n",
    "                              \n",
    "<strong>Hinweis:</strong>\n",
    "\n",
    "Um den Cluster für das nächste Teilchen auszuwählen, kannst du hier das Dropdown-Menu nutzen. Bereits ausgewählte Cluster werden als Erinnerung wieder gelb eingefärbt."
   ]
  },
  {
   "cell_type": "code",
   "execution_count": null,
   "id": "e1e332f3-0a38-40b4-a7f6-16a82f51a3f8",
   "metadata": {
    "slideshow": {
     "slide_type": "skip"
    },
    "tags": []
   },
   "outputs": [],
   "source": [
    "%matplotlib widget\n",
    "from belleIImasterclass.widgets.clustering import ECLWidget\n",
    "from belleIImasterclass.particlesmanager import ParticlesManager\n",
    "\n",
    "pm = ParticlesManager(\"./events\", event_number=3)\n",
    "ew = ECLWidget(pm)\n",
    "ew.show()"
   ]
  },
  {
   "cell_type": "markdown",
   "id": "025d59d9-3581-464d-85cb-bff9a0240a1d",
   "metadata": {
    "slideshow": {
     "slide_type": "skip"
    },
    "tags": []
   },
   "source": [
    "Ein weiterer Effekt, der die Energiemessung erschwert, ist die Länge der Kristalle. So kann es passieren, dass die Länge des Schauers größer ist als die Länge unserer Kristalle. Das heißt, Energie verlässt den Kristall, ohne dass wir es messen können und unser Ergebnis wird schlechter. Wir nennen das Leakage, weil die Energie aus den Kristallen \"leakt\".\n",
    "\n",
    "Das ist auch der Fall bei Myonen, die nicht genug interagieren und wir nur einen sehr kleinen Anteil der Energie messen. Diese fliegen bei hohen Energien einfach durch den Detektor durch und verlieren dabei nur wenig Energie. Um Myonen zu messen, gibt es nach dem Magneten nochmal Myonenkammern. Kombiniert man die Information aus allen Detektoren, kann man so vorhersagen, um welches Teilchen es sich handelt. "
   ]
  },
  {
   "cell_type": "markdown",
   "id": "625b88ab-e178-4623-8153-f4f4879db9db",
   "metadata": {
    "slideshow": {
     "slide_type": "slide"
    },
    "tags": []
   },
   "source": [
    "## Das echte Belle II Kalorimeter"
   ]
  },
  {
   "cell_type": "markdown",
   "id": "0b67ea4f-7df0-4dd4-aa78-08abe7d31038",
   "metadata": {
    "slideshow": {
     "slide_type": "fragment"
    },
    "tags": []
   },
   "source": [
    "<div>\n",
    "<img src=\"figures/BelleDetector.png\" width=\"1500\"/>\n",
    "</div>"
   ]
  },
  {
   "cell_type": "markdown",
   "id": "df9ec158-9895-421b-9c3e-886d4f74f442",
   "metadata": {
    "slideshow": {
     "slide_type": "subslide"
    },
    "tags": []
   },
   "source": [
    "Alles, was ihr bisher zum Thema Kalorimeter gesehen habt, stellt das echte Belle II Kalorimeter (in der Simulation) dar. Unser Kalorimeter besteht aus fast 9000 Kristallen, die in drei Regionen, der Mantelregion und den beiden Endkappen, angeordnet sind. Die Kristalle sind alle in Richtung des Interaktionspunktes ausgerichtet, damit Teilchen möglichst lange Zeit haben, in dem Kristall aufzuschauern. "
   ]
  },
  {
   "cell_type": "markdown",
   "id": "17ed7648-5757-4e7e-9061-806024186e7e",
   "metadata": {
    "slideshow": {
     "slide_type": "fragment"
    },
    "tags": []
   },
   "source": [
    "<div>\n",
    "<img src=\"figures/babar_cal.png\" width=\"1300\"/>\n",
    "</div>"
   ]
  },
  {
   "cell_type": "markdown",
   "id": "3995e881-ed5e-4e46-92a4-fd1dfed07636",
   "metadata": {
    "slideshow": {
     "slide_type": "skip"
    },
    "tags": []
   },
   "source": [
    "Bei Belle II ist die Hauptaufgabe des Kalorimeters die Messung der Energie von Photonen. Da Photonen keine elektrische Ladung haben, können wir sie nicht in den Spurdetektoren finden. Sie spielen allerdings einen wichtigen Teil in vielen Zerfällen bei Belle II und müssen daher im Kalorimeter gefunden und gemessen werden."
   ]
  },
  {
   "cell_type": "markdown",
   "id": "e48e748a-b95e-47a1-9b3e-0fcf5d480ba7",
   "metadata": {
    "slideshow": {
     "slide_type": "slide"
    },
    "tags": []
   },
   "source": [
    "# 3. Der K$_L$- und Myondetektor"
   ]
  },
  {
   "cell_type": "markdown",
   "id": "46d825b6-293b-42fb-913a-ef6d8e2b6c17",
   "metadata": {
    "slideshow": {
     "slide_type": "skip"
    },
    "tags": []
   },
   "source": [
    "Wie bereits erwähnt, gibt es Teilchen, die wenig bis gar keine Energie im Kalorimeter hinterlassen, weil sie sehr wenig mit Material interagieren. Deren Spuren können wir dann zwar in den Spurdetektoren finden, aber ansonsten haben wir keine Informationen über die Teilchen und können sie daher nicht ausreichend identifizieren. \n",
    "\n",
    "Genau für diese Fälle haben die meisten Teilchenphysikexperimente einen Myonendetektor, der ganz am Rand des Detektors sitzt. Myonen sind die häufigsten Kandidaten, welche sonst wenig mit dem Detektor interagieren. \n",
    "\n",
    "Bei Belle II gibt es noch die sogenannten K$_L$, wobei das L für long steht. Das sind Mesonen, die sehr langlebig sind, also nur spät im Detektor zerfallen. Auch für diese brauchen wir diesen späten Detektor.\n",
    "\n",
    "Diese Arten von Detektoren bestehen häufig aus sehr dichtem Material, wie beispielsweise Blei, um eine hohe Wahrscheinlichkeit zu bekommen, dass das Teilchen eine Spur im Detektor hinterlässt. Dieses Material wechselt sich ab mit aktivem Detektormaterial, um die Spuren auch messen zu können."
   ]
  },
  {
   "cell_type": "markdown",
   "id": "b0dfe263-fedc-467e-aa60-63be2e1f5e89",
   "metadata": {
    "slideshow": {
     "slide_type": "fragment"
    },
    "tags": []
   },
   "source": [
    "<div>\n",
    "<img src=\"figures/klm_track.png\" width=\"1300\"/>\n",
    "</div>"
   ]
  },
  {
   "cell_type": "markdown",
   "id": "b2419c31-26ec-4588-a415-b415a31985f3",
   "metadata": {
    "slideshow": {
     "slide_type": "skip"
    },
    "tags": []
   },
   "source": [
    "In der Messung nachher könnt ihr sehen, ob ein Teilchen eine Spur im KLM hinterlässt oder nicht. Interessant ist noch, dass der KLM außerhalb der Spule sitzt, die das Magnetfeld verursacht. Das bedeutet, dass die Magnetfeldlinien in die andere Richtung gehen und die Spur der Teilchen dort dann ihre Richtung ändert."
   ]
  },
  {
   "cell_type": "markdown",
   "id": "9666ca31-15a4-41a1-89d0-12b4c6a70d2b",
   "metadata": {
    "slideshow": {
     "slide_type": "subslide"
    },
    "tags": []
   },
   "source": [
    "In Belle II ist der KLM auch wieder in der Mantelregion und in den beiden Endkappen angebracht, um eine möglichst große Abdeckung zu erreichen."
   ]
  },
  {
   "cell_type": "markdown",
   "id": "0068159a-caf7-42d3-ab7d-fb1cd398ae4c",
   "metadata": {
    "slideshow": {
     "slide_type": "fragment"
    },
    "tags": []
   },
   "source": [
    "<div>\n",
    "<img src=\"figures/klm_endcap.JPG\" width=\"1300\"/>\n",
    "</div>"
   ]
  }
 ],
 "metadata": {
  "kernelspec": {
   "display_name": "Python 3 (ipykernel)",
   "language": "python",
   "name": "python3"
  },
  "language_info": {
   "codemirror_mode": {
    "name": "ipython",
    "version": 3
   },
   "file_extension": ".py",
   "mimetype": "text/x-python",
   "name": "python",
   "nbconvert_exporter": "python",
   "pygments_lexer": "ipython3",
   "version": "3.11.4"
  }
 },
 "nbformat": 4,
 "nbformat_minor": 5
}
