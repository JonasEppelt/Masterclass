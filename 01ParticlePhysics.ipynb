{
 "cells": [
  {
   "cell_type": "markdown",
   "id": "febd4c4a-c267-4a23-8f0a-a6c09ce26233",
   "metadata": {
    "slideshow": {
     "slide_type": "slide"
    },
    "tags": []
   },
   "source": [
    "---\n",
    "# Experimentelle Teilchenphysik\n",
    "---"
   ]
  },
  {
   "cell_type": "markdown",
   "id": "b4ea92e5-bfbe-46f0-b691-fd55a6b25a63",
   "metadata": {},
   "source": [
    "## Was sind Elementarteilchen?\n",
    "\n",
    "<div>\n",
    "<img src=\"figures/size_schematic.png\" width=\"1000\"/>\n",
    "</div>"
   ]
  },
  {
   "cell_type": "markdown",
   "id": "d69a624c-5902-4ee3-acd5-5a133e84677f",
   "metadata": {},
   "source": [
    "- Teilchenphysiker*innen versuchen, die kleinsten Bauteile unserer Materie zu verstehen und zu beschreiben.\n",
    "\n",
    "Was sind die Grundbausteine unserer Materie?"
   ]
  },
  {
   "cell_type": "markdown",
   "id": "edd0cb47-79a4-4bdd-8d2d-37d43d5f7d6e",
   "metadata": {},
   "source": [
    "## Das Standardmodell der Teilchenphysik\n",
    "\n",
    "<div>\n",
    "<img src=\"figures/sm_overview_ferber.png\" width=\"1000\"/>\n",
    "</div>"
   ]
  },
  {
   "cell_type": "markdown",
   "id": "8734e9fa-2297-41dc-8c3e-fca2229889a9",
   "metadata": {},
   "source": [
    "Die vier Wechselwirkungskräfte, die <span style=\"color: red;\">elektromagnetische Kraft</span>, die <span style=\"color: red;\">schwache Kraft</span>, die <span style=\"color: red;\">starke Kraft</span> und die <span style=\"color: blue;\">Gravitation</span>, beschreiben die Interaktionen zwischen den einzelnen Teilchen. Die Gravitation ist die einzige Kraft, die bisher noch nicht mit dem Standardmodell vereinbar ist.\n",
    "\n",
    "Leptonen können sowohl mit der schwachen Kraft als auch elektromagnetisch wechselwirken. Leptonen können wir so in der Natur messen, sie bilden keine (zumindest bisher gemessenen) zusammengesetzten Teilchen.\n",
    "\n",
    "Quarks wechselwirken auch durch die starke Kraft. Sie können daher nicht als freie Teilchen vorkommen, da es durch die starke Kraft ab einer Distanz von ungefähr dem Radius eines Protons besser ist, ein Quarkpaar entstehen zu lassen.  \n",
    "$\\rightarrow$ Bildung von zusammengesetzten Teilchen"
   ]
  },
  {
   "cell_type": "markdown",
   "id": "d3401e80-71ed-45a1-aea9-88418e2b1f42",
   "metadata": {},
   "source": [
    "<div>\n",
    "<img src=\"figures/baryonen_mesonen.png\" width=\"1000\"/>\n",
    "</div>\n",
    "\n",
    "Zusammengesetzte Teilchen müssen ganzzahlige Ladungen haben und farbneutral sein\n",
    "\n",
    "$\\rightarrow$ Durch Teilchenphysik-Experimente können wir mögliche Baryonen oder Mesonen überprüfen"
   ]
  },
  {
   "cell_type": "markdown",
   "id": "91e62b04-69e9-4645-b7a9-5a69b24a2160",
   "metadata": {},
   "source": [
    "Der Teilchenzoo besteht aus den unterschiedlichsten Baryonen und Mesonen, die wir zusaetzlich zu den Leptonen noch messen koennen. \n",
    "<div style=\"display: flex; align-items: flex-start;\">\n",
    "    <img src=\"figures/baryon_list.png\" style=\"width: 40%; margin-right: 10px;\">\n",
    "    <img src=\"figures/meson_list.png\" style=\"width: 60%;\">\n",
    "</div>\n"
   ]
  },
  {
   "cell_type": "markdown",
   "id": "ff7256d1-35f8-40b0-b977-bf5fafd02958",
   "metadata": {
    "slideshow": {
     "slide_type": "subslide"
    },
    "tags": []
   },
   "source": [
    "## Wie finden wir neue Teilchen?\n",
    "\n",
    " - Nutzen von Einsteins Formel:\n",
    "    \n",
    "    $ E=m \\cdot c^2$ \n",
    "    \n",
    "    (vollständig $E^2 - (pc)^2 = (mc^2)^2$)\n",
    "\n",
    "Aus reiner Energie können Teilchen entstehen und umgekehrt.\n",
    "\n",
    "Wir kollidieren Materie und Antimaterie, um neue Teilchen zu erzeugen:\n",
    "\n",
    "<div>\n",
    "<img src=\"figures/collision.gif\" width=\"300\"/>\n",
    "</div>"
   ]
  },
  {
   "cell_type": "markdown",
   "id": "cee41aeb-0461-4581-a6e0-a4bb50e02773",
   "metadata": {
    "slideshow": {
     "slide_type": "subslide"
    },
    "tags": []
   },
   "source": [
    "# SuperKEKB Teilchenbeschleuniger\n",
    "\n",
    "<table>\n",
    "<tr>\n",
    "<td> \n",
    "<img src=\"figures/Beschleuniger.png\" width=\"700\"/> </td>\n",
    "\n",
    "<td> \n",
    "\n",
    " - Der SuperKEKB Beschleuniger beschleunigt Elektronen ($e^-$) und Positronen ($e^+$) und bringt diese im Belle II-Experiment zur Kollision.\n",
    "    \n",
    " - Bei einer Kollision entstehen häufig mehrere Teilchen und hinterlassen Signale im Detektor.\n",
    "    \n",
    " - Signale von in der Kollision erzeugten Teilcehn müssen in der Rekonstruktion ($\\approx$ Wiederherstellung) von Untergrundrauschen getrennt werden.\n",
    "    \n",
    " &rarr; Alle gleichzeitig abgespeicherten Signale werden als ein Ereignis bezeichnet\n",
    "    \n",
    "\n",
    "    \n",
    " &rarr; Aufgaben:\n",
    "       \n",
    " - Detektorsignale von Teilchen und Untergrund trennen\n",
    "    \n",
    " - Teilchen vermessen und bestimmen\n",
    "    \n",
    " - Energie-, Impuls- und Ladungserhaltung prüfen\n",
    "    \n",
    "</td>\n",
    "</tr></table>\n",
    "\n"
   ]
  },
  {
   "cell_type": "markdown",
   "id": "55052966-f890-427a-8b44-730bb22dac76",
   "metadata": {},
   "source": [
    "<div>\n",
    "<img src=\"figures/superkekb_1.JPG\" width=\"1400\"/>\n",
    "</div>"
   ]
  },
  {
   "cell_type": "markdown",
   "id": "04ed8adb-cd19-4159-9e77-d7191be30cdd",
   "metadata": {
    "slideshow": {
     "slide_type": "slide"
    },
    "tags": []
   },
   "source": [
    "---\n",
    "# Wie messen wir Teilchen?\n",
    "---"
   ]
  },
  {
   "cell_type": "markdown",
   "id": "e6fc1b80-cd03-404b-93db-f7e735151ac9",
   "metadata": {},
   "source": [
    "<div>\n",
    "<img src=\"figures/detector_1.JPG\" width=\"1400\"/>\n",
    "</div>"
   ]
  },
  {
   "cell_type": "markdown",
   "id": "5eda8acd-b76c-4c78-a778-dbd4de78eac9",
   "metadata": {
    "slideshow": {
     "slide_type": "subslide"
    },
    "tags": []
   },
   "source": [
    "Elementarteilchen sind zu klein und die meisten ihrer Wechselwirkungen zu schwach, als dass wir sie mit bloßem Auge wahrnehmen können.\n",
    "\n",
    "Wir verwenden riesige, sehr sensible Detektoren, um \"Bilder\" aufzunehmen und dadurch Teilchen, die in unseren Kollisionen entstehen, sichtbar zu machen.\n"
   ]
  },
  {
   "cell_type": "markdown",
   "id": "73c78fff-64a7-4940-b476-133ba30a4d29",
   "metadata": {},
   "source": [
    "# Der Belle II Detektor"
   ]
  },
  {
   "cell_type": "markdown",
   "id": "3f6f6805-0b36-4e0c-af6b-263d273a50a8",
   "metadata": {},
   "source": [
    "\n",
    "<div>\n",
    "<img src=\"figures/Detektor.gif\" width=\"1000\"/>\n",
    "</div>"
   ]
  },
  {
   "cell_type": "markdown",
   "id": "25f623ca-a67b-4232-a1ae-c4a15d71bf8c",
   "metadata": {},
   "source": [
    "Wir wollen die Eigenschaften eines Teilchens messen, um herauszukriegen, was es ist. Jeder Detektorteil hat ein anderes Einsatzgebiet, damit wir in Summe alle Teilcheninformationen messen können."
   ]
  },
  {
   "cell_type": "markdown",
   "id": "0dec724e-09e0-4826-98ff-f80e0ea27165",
   "metadata": {},
   "source": [
    "In unserem Fall:\n",
    " - elektrische Ladung: Für Teilchen gibt es genau drei mögliche Ladungen:\n",
    "     - positive (+) Ladung\n",
    "     - negative (-) Ladung\n",
    "     - neutrale (0) Ladung\n",
    " - Masse\n",
    " - Energie\n",
    " - Impuls\n",
    " - Lebensdauer\n",
    " "
   ]
  },
  {
   "cell_type": "markdown",
   "id": "abf19cd8-5b59-4280-a939-e8d541e07fc3",
   "metadata": {
    "slideshow": {
     "slide_type": "slide"
    },
    "tags": []
   },
   "source": [
    "---\n",
    "## Unsere Subdetektoren\n",
    "---"
   ]
  },
  {
   "cell_type": "markdown",
   "id": "9687871c-b20f-428d-81b5-0ffc936e58f4",
   "metadata": {},
   "source": [
    "Jeder Detektorteil (oder auch Subdetektor) hat seine eigene Funktionsweise, sein eigenes Expertenteam und sein eigenes, optimiertes Anwendungsgebiet. Belle II besteht aus sieben Subdetektoren, wir fokussieren uns hier auf\n",
    "\n",
    "1. Die $\\color{orange}{\\text{Spurdetektoren}}$ (Pixeldetektor, Siliziumvertexdetektor, Driftkammer), \n",
    "2. das $\\color{red}{\\text{Kalorimeter}}$ und \n",
    "3. den  $\\color{blue}{\\text{Muon Detektor (KLM)}}$"
   ]
  },
  {
   "cell_type": "markdown",
   "id": "802e50d4-0972-4a42-99fc-05f812622e7e",
   "metadata": {},
   "source": [
    "\n",
    "<div>\n",
    "<img src=\"figures/Detektor_Aufbau.jpg\" width=\"1200\"/>\n",
    "</div>"
   ]
  },
  {
   "cell_type": "markdown",
   "id": "d098da02-2232-4558-b459-f9535dcf5286",
   "metadata": {},
   "source": [
    "---\n",
    "# 1.  Spurdetektoren\n",
    "---"
   ]
  },
  {
   "cell_type": "markdown",
   "id": "2084468b-6779-4f96-9575-50dc79140d87",
   "metadata": {},
   "source": [
    "Der Belle II Detektor verwendet in Realität drei verschiedene Spurdetektoren, um in der Nähe des Kollisionspunktes eine möglichst gute Auflösung zu erzielen. In unserem vereinfachten Aufbau reduzieren wir das auf einen, der in seiner Art dem Pixeldetektor am Nächsten kommt:\n",
    "\n",
    "<div>\n",
    "<img src=\"figures/Tracking_Highlighted.png\" width=\"400\"/>\n",
    "</div>\n",
    "\n"
   ]
  },
  {
   "cell_type": "markdown",
   "id": "ac9fccdd-bb59-4c4b-ab0f-26917c0253d5",
   "metadata": {},
   "source": [
    "Aufgebaut aus Silizium-Streifen-Detektoren, funktioniert dieser Detektor ähnlich wie ein Kamerasensor in Handys oder Digitalkameras mit vielen Pixeln.\n",
    "\n",
    "Wenn ein geladenes Teilchen durch einen der Pixel fliegt, messen wir ein elektrisches Signal.\n",
    "\n",
    "<div>\n",
    "<img src=\"figures/Spurdetektor_Funktion.gif\" width=\"700\"/>\n",
    "</div>"
   ]
  },
  {
   "cell_type": "markdown",
   "id": "4e12fa6b-f52c-434e-bfb5-290fa612d591",
   "metadata": {},
   "source": [
    "# Messung der Ladung\n",
    "\n",
    "Hierfür verwenden wir die Lorentzkraft (wenn du mehr dazu wissen willst, kannst du [hier](https://www.leifiphysik.de/elektrizitaetslehre/kraft-auf-stromleiter-e-motor/grundwissen/lorentz-kraft) klicken):\n",
    "\n",
    "Bewegt sich ein geladenens Teilchen im Magnetfeld, wird es auf eine Kreisbahn abgelenkt.\n",
    "\n",
    "<div class=\"alert alert-block alert-success\">\n",
    "Für ein positiv geladenes Teilchen gilt die Rechte-Hand-Regel.\n",
    "\n",
    "Für ein negativ geladenes Teilchen gilt die Linke-Hand-Regel.\n",
    "</div>\n",
    "\n",
    "<div>\n",
    "<img src=\"figures/hand_regel.png\" width=\"1000\"/>\n",
    "</div>\n"
   ]
  },
  {
   "cell_type": "markdown",
   "id": "9ef0d792-dbac-4a71-a363-28d9a01c0f23",
   "metadata": {},
   "source": [
    "\n",
    "Aus diesem Grund enthält Belle II einen großen und starken Magneten. Das Magnetfeld beträgt 1,5 Tesla und wird durch Supraleitung erzeugt. Im Vergleich: Das Erdmagnetfeld hat ca. 50 $\\mu$T und ein normaler Hufeisenmagnet ca. 100 mT.\n",
    "\n",
    "<div>\n",
    "<img src=\"figures/belledetector_magnet.png\" width=\"1000\"/>\n",
    "</div>\n",
    "\n",
    "Wenn du mehr über Magnete in Teilchenphysikexperimenten wissen möchtest, klicke [hier](https://youtu.be/M1vraBY8DOk).\n",
    "\n",
    "Verfolgt man nun die Bahn eines Teilchens, kann man daraus folgern, was für eine Ladung das Teilchen hat."
   ]
  },
  {
   "cell_type": "markdown",
   "id": "a36f8a51-5244-4a8a-8480-4624fd4046f3",
   "metadata": {},
   "source": [
    "<div class=\"alert alert-info\">\n",
    "<strong>Versuch:</strong>\n",
    "    \n",
    "Führe die Zelle unten aus.\n",
    "\n",
    "Auf der linken Seite lassen sich die Eigenschaften des Teilchens und die Stärke des Magnetfeldes einstellen.\n",
    "\n",
    "Lasse den Winkel $\\phi = 0$ und setzte das Magnetfeld auf den höchsten möglichen Wert.\n",
    "Wie bewegt sich ein positives/negatives/ungeladenes Teilchen?\n",
    "\n",
    "Wie ändert sich die Situation, wenn der Winkel sich ändert?    \n",
    "</div>"
   ]
  },
  {
   "cell_type": "code",
   "execution_count": null,
   "id": "6ff6bba4-adba-42e8-9b54-06e6cfc6787a",
   "metadata": {},
   "outputs": [],
   "source": [
    "%matplotlib widget\n",
    "from belleIImasterclass.widgets.charge import ChargeWidget\n",
    "chargeWidget = ChargeWidget()\n",
    "chargeWidget.show()"
   ]
  },
  {
   "cell_type": "markdown",
   "id": "664f3359-89a9-4e11-a8a8-bb8b3d64dedd",
   "metadata": {},
   "source": [
    "Damit können wir die Ladung des Teilchens bestimmen, das wir messen.\n",
    "\n",
    "Wir können aber zusätzlich auch den Impuls bestimmen\n",
    "\n",
    "<div class = \"alert alert-info\">\n",
    "<strong> Versuch: </strong>\n",
    "Gehe nochmal zu dem Widget oben. \n",
    "\n",
    "Wie ändert sich die Bahn des Teilchens wenn sich das Magnetfeld ändert? \n",
    "\n",
    "Wie sieht die Bahn für Teilchen mit großen oder kleinen Impuls aus?\n",
    "\n",
    "</div>"
   ]
  },
  {
   "cell_type": "markdown",
   "id": "a8b54812-29da-4a89-a5c0-4bbb3f58c941",
   "metadata": {},
   "source": [
    "<div class = \"alert alert-block alert-success\">\n",
    "    Die Spurdetektoren können nur geladene Teilchen detektieren. Teilchen, die keine Ladung haben, sind für sie unsichtbar!\n",
    "</div>"
   ]
  },
  {
   "cell_type": "markdown",
   "id": "a774859a-8c9a-4616-b5a2-6417cb4ec5b5",
   "metadata": {},
   "source": [
    "<div class = \"alert alert-info\">\n",
    "<strong>Versuch</strong>\n",
    "Führe die Zelle unten aus.\n",
    "\n",
    "Du siehts nun eine schematische Übersicht über unseren Spurdetektor. \n",
    "Jedes der Kreissegmente steht für einen Pixel des Detektors. \n",
    "Wenn sie von einem Teilchen getroffen werden, werden sie blau eingefärbt.\n",
    "\n",
    "Verändere den Impuls und den Winkel des Teilchens und beobachte, welche Detektorpixel es trifft.\n",
    "\n",
    "Verändere auch dir elektrische Ladung des Teilchens.\n",
    "\n",
    "Wie viele Detektorpixel ändern sich bei kleinen Impulsänderungen?\n",
    "Wie viele bei kleinen Winkeländerungen?\n",
    "\n",
    "Was passiert bei ungeladenen Teilchen?\n",
    "\n",
    "</div>    "
   ]
  },
  {
   "cell_type": "code",
   "execution_count": null,
   "id": "0419a690-df07-4e02-a5bd-6c9681c1dc82",
   "metadata": {},
   "outputs": [],
   "source": [
    "from belleIImasterclass.widgets.trackingDemo import TrackingDemonstratorWidget\n",
    "trackingDemoWidget = TrackingDemonstratorWidget()\n",
    "trackingDemoWidget.show()"
   ]
  },
  {
   "cell_type": "markdown",
   "id": "f5ba2966-1c75-4a65-937e-99770eb3675d",
   "metadata": {},
   "source": [
    "## Detektorauflösung"
   ]
  },
  {
   "cell_type": "markdown",
   "id": "474562c4-6e85-45cb-978e-a47baea166cc",
   "metadata": {},
   "source": [
    "Teilchen können, obwohl sie unterschiedliche Eigenschaften haben, die gleichen Signale im Detektor hinterlassen. \n",
    "Diese Ungenaugkeiten nennen wir **Detektorauflösung**.\n",
    "\n",
    "<div>\n",
    "<img src=\"figures/lineal.jpeg\" width=\"700\"/>\n",
    "</div>\n",
    "\n",
    "<div class = \"alert alert-block alert-success\">\n",
    "   Mehr als 1 mm Abstände ist schwer zu messen mit diesem Lineal\n",
    "</div>\n",
    "\n",
    "Genauso funktioniert das mit den Detektorsegmenten. Deshalb haben wir jetzt deutlich mehr Pixel und Schichten.\n",
    "\n",
    "\n",
    "<div class = \"alert alert-info\">\n",
    "<strong>Aufgabe</strong>\n",
    "Kannst du dir vorstellen, warum man nicht noch mehr Pixel machen kann?\n",
    "</div>    \n",
    "\n",
    "Klappe hier auf "
   ]
  },
  {
   "cell_type": "markdown",
   "id": "4a2dd529-c83a-455c-9fd1-d96129aab60a",
   "metadata": {
    "jupyter": {
     "source_hidden": true
    },
    "tags": []
   },
   "source": [
    "Eine Lösung dafür ist, mehr Pixel und mehr Schichten zu bauen. Das ist allerdings teuer, verbraucht Platz für mehr Kabel und benötigt mehr Strom, d.h. wir haben mehr Zwischenräume, in denen wir nichts messen können oder brauchen sehr viel Platz, weil der Detektor sehr groß wird. Wir müssen also einen Kompromiss finden, wenn wir den Detektor bauen. \n",
    "Deswegen hat der Belle II Detektor auch drei verschiedene Spurdetektoren. Nach außen hin werden günstigere und größere Detektoren eingesetzt, die aber oft auch weniger genau sind."
   ]
  },
  {
   "cell_type": "markdown",
   "id": "d09de5cd-bd8a-43c9-9fb6-177844cbe458",
   "metadata": {},
   "source": [
    "---\n",
    "## Detektorrauschen <a id='SubSec:noise'> </a>\n",
    "---\n",
    "\n",
    "Leider ist unser Detektor in Wirklichkeit nicht so schön eindeutig, wie es in der Aufgaben oben dargestellt ist. Einzelne Detektorteile können auch zufällig falsche Signale geben und erschweren uns damit die Arbeit.\n",
    "\n",
    "Vermutlich kennst du so etwas von Bildern, besonders, wenn sie im Dunkeln gemacht wurden. Es gibt ein **Rauschen**, das das Bild unschärfer macht und es schwerer macht, feinere Strukturen zu erkennen.\n",
    "\n",
    "\n",
    "<div>\n",
    "<img src=\"figures/Bildrauschen.jpg\" width=\"300\"/>\n",
    "</div>\n",
    "\n",
    "Genau das Gleiche kann auch hier bei dem Spurdetektor passieren. \n",
    "\n",
    "<div class=\"alert alert-block alert-success\">\n",
    "So wie bei dem Kamerasensor ein Element auf einmal etwas anzeigt, was es gar nicht gemessen hat, kann auch hier ein elektrischer Impuls entstehen, ohne dass ein Teilchen von unserer Kollision das Detektorsegment durchlaufen hat. Das erschwert es uns natürlich, die Teilchenspuren zu finden."
   ]
  },
  {
   "cell_type": "markdown",
   "id": "7cfd2871-75b2-448b-833e-b2687d60e4c3",
   "metadata": {},
   "source": [
    "\n",
    "<div>\n",
    "<img src=\"figures/NoiseComparison.png\" width=\"900\"/>\n",
    "</div>"
   ]
  },
  {
   "cell_type": "markdown",
   "id": "866714e2-211a-48f8-b436-1c9b9f416e76",
   "metadata": {},
   "source": [
    "## Bestimme ein Teilchen im Spurdetektor"
   ]
  },
  {
   "cell_type": "markdown",
   "id": "999a46f3-06ed-4b35-b143-2b3f1aa21628",
   "metadata": {},
   "source": [
    "<div class=\"alert alert-info\">\n",
    "<strong>Aufgabe:</strong>\n",
    "    \n",
    "Wir wiederholen die vorherige Aufgabe. Jetzt aber mit der zusätzlichen Schwierigkeit, dass der Detektor auch Rauschen zeigt, also nicht alle Signale auch zu unserem Teilchen gehören.\n",
    "\n",
    "Bestimme  Impuls, Winkel und elektrische Ladung des Teilchens.\n",
    "    \n",
    "Du kannst mit Hilfe des Buttons `Zeige wahres Teilchen` dein Ergebnis kontrolieren.\n",
    "Wenn du möchtest, kannst du die Aufgabe mit größeren Rauschraten versuchen. Ab was für einer Rauschrate, kanns du die Spur nicht mehr erkennen?"
   ]
  },
  {
   "cell_type": "code",
   "execution_count": null,
   "id": "22363767-3591-471f-8919-e0e656a7df38",
   "metadata": {},
   "outputs": [],
   "source": [
    "from src.widgets import TrackingWidget\n",
    "tw=TrackingWidget('introduction_events/single_track.h5', show_truthbutton = True, noise = 0.1)\n",
    "tw.show()"
   ]
  },
  {
   "cell_type": "markdown",
   "id": "231f188e-4b8c-4003-978d-8c48b2f99a0e",
   "metadata": {},
   "source": [
    "## Der echte Belle II Spurdetektor"
   ]
  },
  {
   "cell_type": "markdown",
   "id": "bec2b00c-c9f2-457c-a274-fc8d0d9e6cd1",
   "metadata": {},
   "source": [
    "### Der Pixeldetektor"
   ]
  },
  {
   "cell_type": "markdown",
   "id": "85578cec-3f33-4b13-92da-7980f660ab07",
   "metadata": {},
   "source": [
    "<div>\n",
    "<img src=\"figures/pxd2_closeup.jpg\" width=\"1000\"/>\n",
    "</div>"
   ]
  },
  {
   "cell_type": "markdown",
   "id": "ec2638eb-34d1-48da-80e0-b253cd3be5b3",
   "metadata": {},
   "source": [
    "Der Pixeldetektor, auch PXD genannt, ist der Detektor, welcher unserem vereinfachten Detektor am Nächsten ist. Er besteht aus zwei Lagen Siliziumdetektoren, welche einen Strom erzeugen, sobald ein Teilchen eine der Siliziumzellen durchquert. \n",
    "\n",
    "Durch die Nähe zum Elektronen- und Positronenstrahl durchqueren den Pixeldetektor ca. 1 Millionen Teilchen pro Sekunde. Der Großteil davon ist Untergrund, wodurch der Detektor den Großteil der Zeit beschäftigt ist. Das heißt, dass der Pixeldetektor aus möglichst vielen, möglichst kleinen Zellen (= Pixel) bestehen muss, die sehr schnell wieder \"frei\" werden für das nächste Teilchen. Der gesamte Detektor hat ca. 8 Millionen dieser Pixel, welche in ca. 100 Nanosekunden ausgelesen werden können."
   ]
  },
  {
   "cell_type": "markdown",
   "id": "f54aede1-22f5-49fa-9d31-66cd316a6cdf",
   "metadata": {},
   "source": [
    "### Der Siliziumvertexdetektor"
   ]
  },
  {
   "cell_type": "markdown",
   "id": "59895216-a8a7-45b9-a4fc-0a150a277e3c",
   "metadata": {},
   "source": [
    "<div>\n",
    "<img src=\"figures/svd_2_cropped.jpg\" width=\"1000\"/>\n",
    "</div>"
   ]
  },
  {
   "cell_type": "markdown",
   "id": "f39b963d-5971-43d0-9eeb-8b8abdd03c5e",
   "metadata": {},
   "source": [
    "Außerhalb des Pixeldetektors befindet sich unser Siliziumvertexdetektor. Der Siliziumvertexdetektor, auch SVD genannt, besteht aus Siliziumstreifen anstatt Siliziumzellen, um die hohe Anzahl an Kanälen, die ein Signal weitergeben können, zu verringern. Viele Kanäle erschweren die Auswertung und sind in diesem Fall sogar hinderlich.\n",
    "\n",
    "Der SVD ist dafür da, den Zerfallspunkt von Teilchen sehr genau zu bestimmen. Da die meisten Teilchen in Belle II eine eher kurze Lebensdauer haben, zerfallen sie in der Nähe des Kollisionspunktes und können im SVD rekonstruiert werden. \n",
    "\n",
    "Der SVD startet in einem Abstand von 3,8 cm vom Strahlrohr entfernt und endet bei 13,5 cm. Insgesamt können wir hier ca. 200.000 Kanäle auslesen, deutlich weniger als im Pixeldetektor, aber immer noch genug, um ein Ereignis gut darstellen zu können."
   ]
  },
  {
   "cell_type": "markdown",
   "id": "adaaf813-40df-42ca-ac1d-3a78d96737cd",
   "metadata": {},
   "source": [
    "### Die zentrale Driftkammer"
   ]
  },
  {
   "cell_type": "markdown",
   "id": "93b65b16-4eeb-40cb-8062-d947889d6e02",
   "metadata": {},
   "source": [
    "<div style=\"display: flex; align-items: flex-start;\">\n",
    "    <img src=\"figures/complete.png\" style=\"width: 50%; margin-right: 10px;\">\n",
    "    <img src=\"figures/cdc_full.JPG\" style=\"width: 50%;\">\n",
    "</div>"
   ]
  },
  {
   "cell_type": "markdown",
   "id": "ead27199-fbe5-45ca-843e-549ee527aba1",
   "metadata": {},
   "source": [
    "Die zentrale Driftkammer, oder auch CDC für Central Drift Chamber, ist der größte der drei Spurdetektoren. Sie ummantelt den Pixeldetektor und den SVD und besteht aus über 50.000 gespannten Drähten. All diese Drähte zu spannen, hat über ein Jahr gedauert! \n",
    "\n",
    "Wenn ein Teilchen die Driftkammer durchquert, ionisiert es das Gas, mit welchem sie gefüllt ist. Wir verwenden ein Gasgemisch aus 50 % Helium und 50 % Ethan, da uns das eine hohe Wahrscheinlichkeit gibt, dass die Teilchen Gasatome ionisieren. Zudem hat dieses Gasgemisch eine hohe Driftgeschwindigkeit. Driftkammern funktionieren, wie der Name auch schon verrät, dadurch, dass die durch die Ionisation entstehenden Elektronen zum nächstgelegenen Draht \"driften\". Dadurch entsteht ein kleiner Strom, welchen wir messen können und daher den Weg des primären Teilchens nachvollziehen können. "
   ]
  },
  {
   "cell_type": "markdown",
   "id": "1da9ca97-1b93-4819-9327-1fdbbd7e4567",
   "metadata": {},
   "source": [
    "## Ein Event Display"
   ]
  },
  {
   "cell_type": "markdown",
   "id": "ccc19fec-3770-48c2-89d0-2e6ac6d45ac8",
   "metadata": {},
   "source": [
    "So sieht ein Ereignis in den Spurdetektoren bei Belle II aus, wenn man den Detektor senkrecht zum Strahlrohr durchschneiden würde. Die grün markierten Punkte sind alles Untergrundspuren, die wir messen. In Realität sind diese natürlich nicht farbig markiert und machen es daher schwerer, die richtigen Spuren zu rekonstruieren."
   ]
  },
  {
   "cell_type": "markdown",
   "id": "20dcb8af-1c58-43c5-a0f3-1e609c916131",
   "metadata": {},
   "source": [
    "<div>\n",
    "<img src=\"figures/track_display.png\" width=\"600\"/>\n",
    "</div>"
   ]
  },
  {
   "cell_type": "markdown",
   "id": "a13a4840-293c-4e60-8236-4052b702c6b6",
   "metadata": {},
   "source": [
    "Für jeden Subdetektor gibt es einen eigenen Algorithmus, wie die Spuren rekonstruiert werden. Wir am KIT arbeiten aktiv an einem Algorithmus, um die Spurfindung in der CDC zu verbessern."
   ]
  }
 ],
 "metadata": {
  "kernelspec": {
   "display_name": "Python 3 (ipykernel)",
   "language": "python",
   "name": "python3"
  },
  "language_info": {
   "codemirror_mode": {
    "name": "ipython",
    "version": 3
   },
   "file_extension": ".py",
   "mimetype": "text/x-python",
   "name": "python",
   "nbconvert_exporter": "python",
   "pygments_lexer": "ipython3",
   "version": "3.11.4"
  }
 },
 "nbformat": 4,
 "nbformat_minor": 5
}
