{
 "cells": [
  {
   "cell_type": "markdown",
   "id": "9c4b894e-679c-47d0-a9d5-d5ea5535b444",
   "metadata": {},
   "source": [
    "# Interpretation von Ereignissen"
   ]
  },
  {
   "cell_type": "markdown",
   "id": "07cbd71d-bc2e-4e47-b814-6ab6154d3e17",
   "metadata": {},
   "source": [
    "<div class=\"alert alert-info\">\n",
    "<strong>Aufgabe:</strong>\n",
    "Führe die untere Zelle aus, um die Aufgabe zu starten."
   ]
  },
  {
   "cell_type": "code",
   "execution_count": null,
   "id": "44fd4566-2e56-4626-b5c1-e8d15eadd2d6",
   "metadata": {},
   "outputs": [],
   "source": [
    "%matplotlib widget\n",
    "from src.widgets import *\n",
    "import warnings\n",
    "warnings.filterwarnings('ignore')\n",
    "two_particle_event = \"barrel/corrected_fourparticles_2000.h5\""
   ]
  },
  {
   "cell_type": "markdown",
   "id": "9504e6b4-a838-424e-9db4-6e054bd498b1",
   "metadata": {},
   "source": [
    "# Ein Ereignis mit vier Teilchen"
   ]
  },
  {
   "cell_type": "markdown",
   "id": "70ad8724-e6f2-4f1d-af4e-e8ff56274476",
   "metadata": {},
   "source": [
    "Wir verwenden wieder den Detektor aus den vorherigen Aufgaben. Jetzt schauen wir uns ein Kollisionsereignis an, indem wir gleich vier Teilchen gemessen haben. Dass heißt es müssen auch vier Spuren rekonstruiert werden. Natürlich können wir nur aus den Detektordaten nicht erkennen, wo welches Teilchen war. \n",
    "\n",
    "Um es euch wieder einfacher zu machen, geben wir euch den Endpunkt der Spur des jeweiligen Teilchens, also wo es in unserem elektromagnetischen Kalorimeter gelandet ist."
   ]
  },
  {
   "cell_type": "markdown",
   "id": "cc18f036-f790-4e5f-98b0-16ce33330d82",
   "metadata": {},
   "source": [
    "<div class=\"alert alert-info\">\n",
    "<strong>Aufgabe:</strong>\n",
    "\n",
    "Rekonstruiere die Spuren der vier Teilchen."
   ]
  },
  {
   "cell_type": "markdown",
   "id": "1b2767b2-3051-45a8-bc3e-e142f5d0eaaf",
   "metadata": {},
   "source": [
    "<div class=\"alert alert-warning\">\n",
    "<strong>Hinweis:</strong>\n",
    "\n",
    "Mit Hilfe der Tabs kannst du zwischen den verschiedenen Teilchen wechseln. Detektorteile, bei denen du bereits festgelegt hast, dass sie von anderen Teilchen getroffen worden sind, werden dann gelb eingefärbt."
   ]
  },
  {
   "cell_type": "code",
   "execution_count": null,
   "id": "affd1c48-6798-4c14-a370-4acf022acb8d",
   "metadata": {},
   "outputs": [],
   "source": [
    "tw = TrackingWidget(two_particle_event)\n",
    "tw.show()"
   ]
  },
  {
   "cell_type": "markdown",
   "id": "21375fc4-9a54-4924-9bce-ae49b824c61f",
   "metadata": {},
   "source": [
    "## Rekonstruieren zweier Cluster"
   ]
  },
  {
   "cell_type": "markdown",
   "id": "33551c4f-b72d-4436-9811-e80506527115",
   "metadata": {},
   "source": [
    "Auch im Kalorimeter erwarten wir nun zwei Cluster, die es zu selektieren gilt. Auch hier gibt haben wir im echten Detektor die Zusatzinformationen, die uns helfen, die richtigen Cluster zu identifizieren. Um es euch einfacher zu machen, färben wir hier den zentralen Kristall des richtigen Clusters, also den Kristall mit der höchsten Energie, schwarz ein. "
   ]
  },
  {
   "cell_type": "markdown",
   "id": "05069d37-a9e8-49c1-b7b2-a2086ad9c516",
   "metadata": {},
   "source": [
    "<div class=\"alert alert-info\">\n",
    "<strong>Aufgabe:</strong>\n",
    "\n",
    "Rekonstruiere die Cluster der vier Teilchen."
   ]
  },
  {
   "cell_type": "markdown",
   "id": "c70bcbda-510e-42e1-adfe-f3a559e2117e",
   "metadata": {},
   "source": [
    "<div class=\"alert alert-warning\">\n",
    "<strong>Hinweis:</strong>\n",
    "\n",
    "Um den Cluster für das nächste Teilchen auszuwählen, kannst du hier das Dropdown-Menu nutzen. Zur Vereinfachung wird der zentrale Kristal des Clusters schwarz umrandet.\n",
    "Bereits ausgewählte Cluster werden als Erinnerung wieder gelb eingefärbt."
   ]
  },
  {
   "cell_type": "code",
   "execution_count": null,
   "id": "d99518bf-d972-491c-9ede-7e8582b29126",
   "metadata": {},
   "outputs": [],
   "source": [
    "ew = ECLWidget(two_particle_event)\n",
    "ew.show()"
   ]
  },
  {
   "cell_type": "markdown",
   "id": "0ef21bed-1d5c-4356-b85f-91bf810e1a35",
   "metadata": {},
   "source": [
    "# Identifizierung der gemessenen Teilchen\n",
    "\n",
    "Durch den Trackingdetektor, auch CDC bei uns, konnten wir jetzt die Ladungen und die Impulse der jeweiligen Teilchen bestimmen. Über das Kalorimeter wurde dann die Energie der Teilchen gemessen. Nun wollen wir die Teilchen natürlich auch identifizieren, da dass Aufschluss darüber gibt, welcher Zerfall tatsächlich stattgefunden hat. Dies können wir über die sogenannte relativistische Energie-Impuls-Beziehung herausfinden. Die besagt, dass die Ruheenergie, was wir als Masse des Teilchens interpretieren, die Differenz zwischen Gesamtenergie und Impuls ist.\n",
    "\n",
    "$$ E_0^2 = E^2 - p^2 $$\n",
    "\n",
    "Mit Hilfe deiner Messungen in den ersten Teilen kannst du jetzt die alle Teilchen hier identifizieren. Natürlich gibt es Messungenauigkeiten, daher musst du hier versuchen, herauszufinden, welche Teilchen es am wahrscheinlichsten waren. Mithilfe der berechneten Masse und der Ladung sollte es eindeutige Kandidaten geben."
   ]
  },
  {
   "cell_type": "code",
   "execution_count": null,
   "id": "0fa0a8a2-3582-41bb-990c-de917c2c903e",
   "metadata": {},
   "outputs": [],
   "source": [
    "mw = MatchingWidget(ew, tw)\n",
    "mw.show()"
   ]
  },
  {
   "cell_type": "markdown",
   "id": "75a39fba-9cd0-4c25-a890-b03241bb312a",
   "metadata": {},
   "source": [
    "# Zusammenfassung\n",
    "\n",
    "Gratulation, du kannst jetzt Teichenphysik studieren :)"
   ]
  },
  {
   "cell_type": "markdown",
   "id": "5fcc4f94-f694-42b3-8503-1ec481a323f6",
   "metadata": {},
   "source": []
  }
 ],
 "metadata": {
  "kernelspec": {
   "display_name": "Python 3",
   "language": "python",
   "name": "python3"
  },
  "language_info": {
   "codemirror_mode": {
    "name": "ipython",
    "version": 3
   },
   "file_extension": ".py",
   "mimetype": "text/x-python",
   "name": "python",
   "nbconvert_exporter": "python",
   "pygments_lexer": "ipython3",
   "version": "3.8.8"
  },
  "widgets": {
   "application/vnd.jupyter.widget-state+json": {
    "state": {},
    "version_major": 2,
    "version_minor": 0
   }
  }
 },
 "nbformat": 4,
 "nbformat_minor": 5
}
