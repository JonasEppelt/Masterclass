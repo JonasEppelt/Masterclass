{
 "cells": [
  {
   "cell_type": "markdown",
   "id": "9c4b894e-679c-47d0-a9d5-d5ea5535b444",
   "metadata": {
    "slideshow": {
     "slide_type": "slide"
    },
    "tags": []
   },
   "source": [
    "# Ereignisreconstruktion\n",
    "\n",
    "#### Ein Teilchen kommt selten allein"
   ]
  },
  {
   "cell_type": "code",
   "execution_count": 1,
   "id": "b0934292-fac6-41c7-80ab-8a04f9d4c003",
   "metadata": {
    "slideshow": {
     "slide_type": "skip"
    },
    "tags": []
   },
   "outputs": [
    {
     "name": "stderr",
     "output_type": "stream",
     "text": [
      "/opt/conda/lib/python3.10/site-packages/numpy/core/_methods.py:115: RuntimeWarning: invalid value encountered in clip\n",
      "  return ufunc(*args, out=out, **kwargs)\n",
      "/opt/conda/lib/python3.10/site-packages/numpy/core/_methods.py:115: RuntimeWarning: invalid value encountered in clip\n",
      "  return ufunc(*args, out=out, **kwargs)\n"
     ]
    }
   ],
   "source": [
    "%matplotlib widget\n",
    "from belleIImasterclass.particlesmanager import ParticlesManager\n",
    "from belleIImasterclass.widgets.clustering import ECLWidget\n",
    "from belleIImasterclass.widgets.klm import KLMWidget\n",
    "from belleIImasterclass.widgets.energy_widget import EnergyWidget\n",
    "from belleIImasterclass.widgets.IDwidget import IDWidget\n",
    "from belleIImasterclass.widgets.tracking import TrackingWidget\n",
    "from belleIImasterclass.utils import hide_code_in_slideshow\n",
    "i = 1\n",
    "pm = ParticlesManager(f\"./event_generation/0_0_{i}.csv\")\n",
    "\n",
    "trackingWidget = TrackingWidget(pm)\n",
    "eclWidget = ECLWidget(pm)\n",
    "klmWidget=KLMWidget(pm)\n",
    "idWidget=IDWidget(pm)\n",
    "missingEnergyWidget=EnergyWidget(pm)"
   ]
  },
  {
   "cell_type": "markdown",
   "id": "dee9bb5e-0060-489f-b545-119bc69164a5",
   "metadata": {
    "slideshow": {
     "slide_type": "slide"
    },
    "tags": []
   },
   "source": [
    "# Was ist ein Ereignis?\n",
    "\n",
    "<table><tr>\n",
    "<td> <img align=\"right\" width=\"400\" src=\"figures/ParticleGuns.png\"> </td>\n",
    "<td> \n",
    "\n",
    " - genau eine Kollision von $e^+$ und $e^-$\n",
    " - es entstehen mehrere Teilchen\n",
    " - jedes Teilchen wird im Detektor vermessen\n",
    "    \n",
    "   -> Detektorsignale für mehrere Teilchen gleichzeitig\n",
    "    \n",
    "   -> Ziele: \n",
    "     - Teilchen identifizieren\n",
    "     - Entstehungsprozess identifizeren </td>\n",
    "</tr></table>\n",
    "\n"
   ]
  },
  {
   "cell_type": "markdown",
   "id": "d8c429b4-62a6-4856-b0b8-a9675dc8d231",
   "metadata": {
    "slideshow": {
     "slide_type": "slide"
    },
    "tags": []
   },
   "source": [
    "## Strategie\n",
    "\n",
    "<table><tr>\n",
    "<td> <img align=\"right\" width=\"400\" src=\"figures/BelleDetector.png\"> </td>\n",
    "<td> \n",
    "    \n",
    " - von innen nach außen\n",
    " - Erst jede Spur reconstruieren\n",
    " - Dann die Energie messen\n",
    " - zuletzt das KLM checken\n",
    " - Informationen zusammentragen\n",
    "    </td>\n",
    "</tr></table>"
   ]
  },
  {
   "cell_type": "markdown",
   "id": "6491db6b-14a1-453d-b4f8-f593f0717f12",
   "metadata": {
    "slideshow": {
     "slide_type": "slide"
    },
    "tags": []
   },
   "source": [
    "# Spurrekonstruktion\n",
    "\n",
    "<div class=\"alert alert-info\">\n",
    "<strong>Aufgabe:</strong>\n",
    "    \n",
    "Führe die \n",
    "Rekonstruiere die Spuren der Teilchen.\n",
    "\n",
    "</div>\n",
    "\n",
    "<div class=\"alert alert-warning\">\n",
    "<strong>Hinweis:</strong>\n",
    "\n",
    "Mit Hilfe der Tabs auf der linken Seite, kannst du zwischen den verschiedenen Teilchen wechseln. \n",
    "    \n",
    "Detektorteile, bei denen du bereits festgelegt hast, dass sie von anderen Teilchen getroffen worden sind, werden dann gelb eingefärbt.\n",
    "  \n",
    "</div>"
   ]
  },
  {
   "cell_type": "code",
   "execution_count": 2,
   "id": "e38c4ea1-8dce-4ae1-bf0d-e03513c96da7",
   "metadata": {
    "slideshow": {
     "slide_type": "subslide"
    },
    "tags": []
   },
   "outputs": [
    {
     "data": {
      "application/vnd.jupyter.widget-view+json": {
       "model_id": "c6d688bcf6df4fdcbf5c988ebe0e94a6",
       "version_major": 2,
       "version_minor": 0
      },
      "text/plain": [
       "HBox(children=(HBox(children=(Accordion(children=(VBox(children=(FloatSlider(value=0.0, description='$p_T$', m…"
      ]
     },
     "metadata": {},
     "output_type": "display_data"
    }
   ],
   "source": [
    "trackingWidget.show()"
   ]
  },
  {
   "cell_type": "markdown",
   "id": "cc174434-aba9-4314-8aa1-77527d03d0dd",
   "metadata": {
    "slideshow": {
     "slide_type": "slide"
    },
    "tags": []
   },
   "source": [
    "## Clusterreconstruktion\n",
    "\n",
    "\n",
    "<div class=\"alert alert-info\">\n",
    "<strong>Aufgabe:</strong>\n",
    "\n",
    "Rekonstruiere die Cluster der Teilchen.\n",
    "</div>\n",
    "\n",
    "<div class=\"alert alert-warning\">\n",
    "<strong>Hinweis:</strong>\n",
    "\n",
    "Um den Cluster für das nächste Teilchen auszuwählen, kannst du hier das Dropdown-Menu nutzen. Zur Vereinfachung wird der zentrale Kristal des Clusters schwarz umrandet.\n",
    "Bereits ausgewählte Cluster werden als Erinnerung wieder gelb eingefärbt.\n",
    "</div>\n"
   ]
  },
  {
   "cell_type": "code",
   "execution_count": 3,
   "id": "d99518bf-d972-491c-9ede-7e8582b29126",
   "metadata": {
    "slideshow": {
     "slide_type": "subslide"
    },
    "tags": []
   },
   "outputs": [
    {
     "data": {
      "application/vnd.jupyter.widget-view+json": {
       "model_id": "a0d05c647e614a57b9ebb5a0c436f239",
       "version_major": 2,
       "version_minor": 0
      },
      "text/plain": [
       "VBox(children=(Accordion(children=(HBox(children=(Text(value='0', description='Gesamte Energie der ausgewählte…"
      ]
     },
     "metadata": {},
     "output_type": "display_data"
    }
   ],
   "source": [
    "eclWidget.show()"
   ]
  },
  {
   "cell_type": "markdown",
   "id": "ff5ffe05-1827-4a6a-b25e-5edcdc4ed907",
   "metadata": {
    "slideshow": {
     "slide_type": "slide"
    },
    "tags": []
   },
   "source": [
    "## KLM\n",
    "\n",
    "<div class=\"alert alert-info\">\n",
    "<strong>Aufgabe:</strong>\n",
    "\n",
    "Finde für die vorher rekonstruierten Spuren herraus, ob sie auch zu einem Signal im KLM-Detektor passen.\n",
    "</div>\n",
    "\n",
    "\n",
    "<div class=\"alert alert-warning\">\n",
    "<strong>Hinweis:</strong>\n",
    "\n",
    "Um die Übersicht zu vereinfachen, wird immer nur die Spur für das aktuelle Teilchen eingeblendet. \n",
    "Bereits verwendete Treffer werden nicht extra markiert.\n",
    "</div>\n"
   ]
  },
  {
   "cell_type": "code",
   "execution_count": 4,
   "id": "e86e2442-9a4c-40e6-abaa-61ce2c93891a",
   "metadata": {
    "slideshow": {
     "slide_type": "subslide"
    },
    "tags": []
   },
   "outputs": [
    {
     "data": {
      "application/vnd.jupyter.widget-view+json": {
       "model_id": "987d58e117934de2b0faab25efbf849e",
       "version_major": 2,
       "version_minor": 0
      },
      "text/plain": [
       "VBox(children=(Accordion(children=(HBox(children=(Text(value='Gibt es einen Treffer im KLM für dieses Teilchen…"
      ]
     },
     "metadata": {},
     "output_type": "display_data"
    }
   ],
   "source": [
    "klmWidget.show()"
   ]
  },
  {
   "cell_type": "markdown",
   "id": "f45b1e97-0f79-4b83-af2a-d607f994c882",
   "metadata": {
    "slideshow": {
     "slide_type": "slide"
    },
    "tags": []
   },
   "source": [
    "# Identifizierung der gemessenen Teilchen\n",
    "\n",
    "<div class=\"alert alert-info\">\n",
    "<strong>Aufgabe:</strong>\n",
    "Identifiziere jedes der Teilchen mit einem der bekannten Teilchen.\n",
    "</div>\n",
    "\n",
    "<div class=\"alert alert-warning\">\n",
    "<strong>Hinweis:</strong>\n",
    "Solltest du Probleme haben, eine entsprechung zu finden, kontroliere deine vorherigen Schritte. Insbesondere leichte Teilchen müssen sehr genau vermessen werden.    \n",
    "</div>\n"
   ]
  },
  {
   "cell_type": "code",
   "execution_count": 5,
   "id": "510d67d2-fa5f-444a-a4ce-1249eb79fdb9",
   "metadata": {
    "tags": []
   },
   "outputs": [
    {
     "data": {
      "application/vnd.jupyter.widget-view+json": {
       "model_id": "85651349df5d43f9a41c641a1c4383b6",
       "version_major": 2,
       "version_minor": 0
      },
      "text/plain": [
       "Tab(children=(HBox(children=(VBox(children=(HBox(children=(Text(value='Resultate', disabled=True), Button(desc…"
      ]
     },
     "metadata": {},
     "output_type": "display_data"
    }
   ],
   "source": [
    "idWidget.show()"
   ]
  },
  {
   "cell_type": "markdown",
   "id": "b1a7f989-c7a6-4aa0-8dbb-71d7fccbb377",
   "metadata": {
    "slideshow": {
     "slide_type": "slide"
    },
    "tags": []
   },
   "source": [
    "# Erhaltungssätze\n",
    " \n",
    " - Ereignisse unterliegen immer Erhaltungssätzen:\n",
    "     - Energieerhaltung: Die Summe der Energien der einzelnen Teilchen im Detektor entspricht der Energie der Kollisionsteilchen\n",
    "     - Impulserhaltung: Die Summe der Impulse der einzelnen Teilchen im Detektor ist 0.\n",
    "     - Ladungserhaltung: Die Summe der Ladungen am der einzelnen Teilchen im Detektor entspricht der Summe der Ladungen der Kollisionsteilchen.\n",
    "         - $e^-$ hat Ladung -1\n",
    "         - $e^+$ hat Ladung +1\n",
    "         - -> Ladung muss in der Summe 0 sein."
   ]
  },
  {
   "cell_type": "markdown",
   "id": "b86032d9-ba98-4b55-a9cd-9330807b6013",
   "metadata": {
    "slideshow": {
     "slide_type": "subslide"
    },
    "tags": []
   },
   "source": [
    "<div class=\"alert alert-info\">\n",
    "<strong>Aufgabe:</strong>\n",
    "\n",
    "Finde herraus, wie viel Energie, Impuls und Ladung im Ereignis fehlt. \n",
    "    \n",
    "</div>\n",
    "\n",
    "<div class=\"alert alert-warning\">\n",
    "<strong>Hinweis:</strong>\n",
    "\n",
    "Das Widget unten visualisiert den Energie- und Impulserhaltungssatz.\n",
    "Die Pfeile auf der rechten Seite stellen deine zuvor gemessenen Teilchen dar. Der Pfeil zeigt in die Richtung des Impulses und seine Länge entspricht dem Betrag des Impulses.\n",
    "Mit den Reglern links, kannst du den fehlenden Impuls und seine Richtung einstellen.\n",
    "\n",
    "\n",
    "Die Balken stellen die Energie dar. Sie sollte sich bis zum schwarzen Strich aufsummieren.\n",
    "    \n",
    "</div>\n"
   ]
  },
  {
   "cell_type": "code",
   "execution_count": 6,
   "id": "8fea9d96-44a5-480e-b659-21e65afbe86a",
   "metadata": {
    "slideshow": {
     "slide_type": "subslide"
    },
    "tags": []
   },
   "outputs": [
    {
     "data": {
      "application/vnd.jupyter.widget-view+json": {
       "model_id": "12ec460b03414d6abdb7c2197486f164",
       "version_major": 2,
       "version_minor": 0
      },
      "text/plain": [
       "HBox(children=(VBox(children=(Button(description='Update!', icon='rotate-right', layout=Layout(margin='3px 3px…"
      ]
     },
     "metadata": {},
     "output_type": "display_data"
    }
   ],
   "source": [
    "missingEnergyWidget.show()"
   ]
  },
  {
   "cell_type": "markdown",
   "id": "75a39fba-9cd0-4c25-a890-b03241bb312a",
   "metadata": {
    "slideshow": {
     "slide_type": "slide"
    },
    "tags": []
   },
   "source": [
    "# Zusammenfassung\n",
    "\n",
    "Gratulation, du kannst jetzt Teichenphysik studieren :)"
   ]
  }
 ],
 "metadata": {
  "kernelspec": {
   "display_name": "Python 3 (ipykernel)",
   "language": "python",
   "name": "python3"
  },
  "language_info": {
   "codemirror_mode": {
    "name": "ipython",
    "version": 3
   },
   "file_extension": ".py",
   "mimetype": "text/x-python",
   "name": "python",
   "nbconvert_exporter": "python",
   "pygments_lexer": "ipython3",
   "version": "3.10.10"
  },
  "vscode": {
   "interpreter": {
    "hash": "6aa15e7b2b03744e62d71d2ec6746d4ecf11cdddddbe19ba13108e7c0421f93d"
   }
  },
  "widgets": {
   "application/vnd.jupyter.widget-state+json": {
    "state": {},
    "version_major": 2,
    "version_minor": 0
   }
  }
 },
 "nbformat": 4,
 "nbformat_minor": 5
}
