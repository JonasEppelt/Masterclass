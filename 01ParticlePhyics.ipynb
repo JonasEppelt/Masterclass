{
 "cells": [
  {
   "cell_type": "markdown",
   "id": "febd4c4a-c267-4a23-8f0a-a6c09ce26233",
   "metadata": {
    "slideshow": {
     "slide_type": "slide"
    },
    "tags": []
   },
   "source": [
    "---\n",
    "# Experimentelle Teilchenphysik\n",
    "---"
   ]
  },
  {
   "cell_type": "markdown",
   "id": "ff7256d1-35f8-40b0-b977-bf5fafd02958",
   "metadata": {
    "slideshow": {
     "slide_type": "subslide"
    },
    "tags": []
   },
   "source": [
    "Wie finden wir neue Teilchen?\n",
    "\n",
    " - Nutzen von Einsteins Formel:\n",
    "    \n",
    "    $ e=m \\cdot c^2$ \n",
    "\n",
    "Kollidiere Materie und Antimaterie um neue Teilchen zu erzeugen:\n",
    "\n",
    "<div>\n",
    "<img src=\"figures/collision.gif\" width=\"300\"/>\n",
    "</div>"
   ]
  },
  {
   "cell_type": "markdown",
   "id": "cee41aeb-0461-4581-a6e0-a4bb50e02773",
   "metadata": {
    "slideshow": {
     "slide_type": "subslide"
    },
    "tags": []
   },
   "source": [
    "# SuperKEKB Teilchenbeschleuniger\n",
    "\n",
    "<table>\n",
    "<tr>\n",
    "<td> \n",
    "<img src=\"figures/Beschleuniger.png\" width=\"700\"/> </td>\n",
    "\n",
    "<td> \n",
    "\n",
    " - Beschleunigt Elektronen ($e^-$) und Positronen ($e^+$)\n",
    "    \n",
    " - Es entstehen mehrere Teilchen.\n",
    "    \n",
    " - Jedes Teilchen hinterlässt Signale im Detektor.\n",
    "    \n",
    " - Gleichzeitig gibt es Untergrundrauschen und Untergrundsignale.\n",
    "    \n",
    " &rarr; Alle gleichzeitig abgespeicherten Signale werden als ein Ereigniss bezeichnet\n",
    "    \n",
    "\n",
    "    \n",
    " &rarr; Aufgaben:\n",
    "       \n",
    " - Detektorsignale von Teilchen und Untergrund trennen\n",
    "    \n",
    " - Teilchen vermessen und bestimmen\n",
    "    \n",
    " - Energie-, Impuls- und Ladungserhaltung prüfen.\n",
    "    \n",
    "</td>\n",
    "</tr></table>\n",
    "\n"
   ]
  },
  {
   "cell_type": "markdown",
   "id": "7007b062-e76c-47b2-8b7c-e3f26e8b0c8c",
   "metadata": {
    "slideshow": {
     "slide_type": "subslide"
    },
    "tags": []
   },
   "source": [
    "SuperKEKB Teilchenbeschleuniger in Tsukuba, Japan\n",
    "\n",
    "Elektronen (Materie) und Positronen (Antimaterie) auf hohe Energien beschleunigen damit bei der Kollision sehr viel Energie zur Verfügung ist\n",
    "<div>\n",
    "</div>"
   ]
  },
  {
   "cell_type": "markdown",
   "id": "04ed8adb-cd19-4159-9e77-d7191be30cdd",
   "metadata": {
    "slideshow": {
     "slide_type": "slide"
    },
    "tags": []
   },
   "source": [
    "---\n",
    "# Wie messen wir Teilchen?\n",
    "---"
   ]
  },
  {
   "cell_type": "markdown",
   "id": "5eda8acd-b76c-4c78-a778-dbd4de78eac9",
   "metadata": {
    "slideshow": {
     "slide_type": "subslide"
    },
    "tags": []
   },
   "source": [
    "Teilchen sind zu klein um sie direkt zu sehen:\n",
    "\n",
    "Teilchendetektoren als riesige \"Kameras\" \n",
    "\n",
    "<div>\n",
    "<img src=\"figures/Detektor.gif\" width=\"700\"/>\n",
    "</div>"
   ]
  },
  {
   "cell_type": "markdown",
   "id": "25f623ca-a67b-4232-a1ae-c4a15d71bf8c",
   "metadata": {},
   "source": [
    "Wir wollen die Eigenschaften eines Teilchens messen um herauszukriegen, was es ist\n",
    "\n",
    "In unserem Fall:\n",
    " - elektrische Ladung: Für Teilchen gibt es genau drei mögliche Ladungen:\n",
    "     - positive + Ladung\n",
    "     - negative - Ladung\n",
    "     - neutrale 0 Ladung\n",
    " - Masse\n",
    " - Energie\n",
    " - Impuls\n",
    " - Lebensdauer\n",
    "\n",
    " \n",
    " Wie man das misst, lernt ihr im folgenden anhand von unserem Beispieldetektor"
   ]
  },
  {
   "cell_type": "markdown",
   "id": "abf19cd8-5b59-4280-a939-e8d541e07fc3",
   "metadata": {
    "slideshow": {
     "slide_type": "slide"
    },
    "tags": []
   },
   "source": [
    "---\n",
    "# Vereinfachter Detektoraufbau\n",
    "---"
   ]
  },
  {
   "cell_type": "markdown",
   "id": "9687871c-b20f-428d-81b5-0ffc936e58f4",
   "metadata": {},
   "source": [
    "Fokus auf \n",
    "1. $\\color{orange}{\\text{Spurdetektoren}}$, \n",
    "2. das $\\color{red}{\\text{Kalorimeter}}$ und \n",
    "3. den  $\\color{blue}{\\text{Muon Detektor (KLM)}}$\n",
    "\n",
    "<div>\n",
    "<img src=\"figures/Detektor_Aufbau.jpg\" width=\"1200\"/>\n",
    "</div>"
   ]
  },
  {
   "cell_type": "markdown",
   "id": "d098da02-2232-4558-b459-f9535dcf5286",
   "metadata": {},
   "source": [
    "---\n",
    "# 1.  Spurdetektoren\n",
    "---"
   ]
  },
  {
   "cell_type": "markdown",
   "id": "2084468b-6779-4f96-9575-50dc79140d87",
   "metadata": {},
   "source": [
    "Belle II Detektor verwendet 3 verschieden Spurdetektoren \n",
    ", in unserem Aufbau reduzieren wir das auf einen:\n",
    "\n",
    "<div>\n",
    "<img src=\"figures/Tracking_Highlighted.png\" width=\"400\"/>\n",
    "</div>\n",
    "\n",
    "Beispiel mit 3 Lagen\n",
    "\n"
   ]
  },
  {
   "cell_type": "markdown",
   "id": "ac9fccdd-bb59-4c4b-ab0f-26917c0253d5",
   "metadata": {},
   "source": [
    "Aufgebaut aus Silizium-Streifen-Detektoren, ähnlich wie ein Kamerasensor in Handys oder Digitalkameras mit vielen Pixeln\n",
    "-> fliegt ein geladenes Teilchen durch einen den Pixel, messen wir ein elektrisches Signal\n",
    "\n",
    "<div>\n",
    "<img src=\"figures/Spurdetektor_Funktion.gif\" width=\"700\"/>\n",
    "</div>"
   ]
  },
  {
   "cell_type": "markdown",
   "id": "4e12fa6b-f52c-434e-bfb5-290fa612d591",
   "metadata": {},
   "source": [
    "# Messung der Ladung\n",
    "\n",
    "Hierfür verwenden wir die Lorentzkraft (wenn du mehr dazu wissen willst, kannst du hier klicken):\n",
    "\n",
    "Bewegt sich ein geladenens Teilchen im Magnetfeld, wird es auf eine Kreisbahn abgelenkt\n",
    "\n",
    "<div class=\"alert alert-block alert-success\">\n",
    "Für ein positiv geladenes Teilchen gilt die Recht-Hand-Regel.\n",
    "\n",
    "Für ein negativ geladenes Teilchen gilt die Linke-Hand-Regel.\n",
    "</div>\n",
    "\n",
    "Aus diesem Grund enthält Belle II einen großen und starken Magneten.\n",
    "\n",
    "Verfolgt man nun die Bahn eines Teilchens, kann man daraus folgern, was für eine Ladung das Teilchen hat."
   ]
  },
  {
   "cell_type": "markdown",
   "id": "a36f8a51-5244-4a8a-8480-4624fd4046f3",
   "metadata": {},
   "source": [
    "<div class=\"alert alert-info\">\n",
    "<strong>Versuch:</strong>\n",
    "    \n",
    "Führe die Zelle unten aus.\n",
    "\n",
    "Auf der linken Seite lassen sich die Eigenschaften des Teilchens und die Stärke des Magnetfeldes einstellen.\n",
    "\n",
    "Lasse den Winkel $\\phi = 0$ und setzte das Magnetfeld auf den höchsten möglichen Wert.\n",
    "Wie bewegt sich ein positives/negatives/ungeladenes Teilchen?\n",
    "\n",
    "Wie ändert sich die Situation, wenn der Winkel sich ändert?    \n",
    "</div>"
   ]
  },
  {
   "cell_type": "code",
   "execution_count": null,
   "id": "6ff6bba4-adba-42e8-9b54-06e6cfc6787a",
   "metadata": {},
   "outputs": [],
   "source": [
    "%matplotlib widget\n",
    "from belleIImasterclass.widgets.charge import ChargeWidget\n",
    "chargeWidget = ChargeWidget()\n",
    "chargeWidget.show()"
   ]
  },
  {
   "cell_type": "markdown",
   "id": "664f3359-89a9-4e11-a8a8-bb8b3d64dedd",
   "metadata": {},
   "source": [
    "Damit können wir die Ladung des Teilchens bestimmen, das wir messen.\n",
    "\n",
    "Wir können aber zusätzlich auch den Impuls bestimmen\n",
    "\n",
    "<div class = \"alert alert-info\">\n",
    "<strong> Versuch: </strong>\n",
    "Gehe nochmal zu dem Widget oben. \n",
    "\n",
    "Wie ändert sich die Bahn des Teilchens wenn sich das Magnetfeld ändert? \n",
    "\n",
    "Wie sieht die Bahn für Teilchen mit großen oder kleinen Impuls aus?\n",
    "\n",
    "</div>"
   ]
  },
  {
   "cell_type": "markdown",
   "id": "a8b54812-29da-4a89-a5c0-4bbb3f58c941",
   "metadata": {},
   "source": [
    "<div class = \"alert alert-block alert-success\">\n",
    "    Die Spurdetektoren können nur geladene Teilchen detektieren. Teilchen, die keine Ladung haben sind für sie unsichtbar!\n",
    "</div>"
   ]
  },
  {
   "cell_type": "markdown",
   "id": "a774859a-8c9a-4616-b5a2-6417cb4ec5b5",
   "metadata": {},
   "source": [
    "<div class = \"alert alert-info\">\n",
    "<strong>Versuch</strong>\n",
    "Führe die Zelle unten aus.\n",
    "\n",
    "Du siehts nun eine schematische Übersicht über unseren Spurdetektor. \n",
    "Jedes der Kreissegmente steht für einen Pixel des Detektors. \n",
    "Wenn sie von einem Teilchen getroffen werden, werden sie blau eingefärbt.\n",
    "\n",
    "Verändere den Impuls und den Winkel des Teilchens und beobachte, welche Detektorpixel es trifft.\n",
    "\n",
    "Verändere auch dir elektrische Ladung des Teilchens.\n",
    "\n",
    "Wie viele Detektorpixel ändern sich bei kleinen Impulsänderungen?\n",
    "Wie viele bei kleinen Winkeländerungen?\n",
    "\n",
    "Was passiert bei ungeladenen Teilchen?\n",
    "\n",
    "</div>    "
   ]
  },
  {
   "cell_type": "code",
   "execution_count": null,
   "id": "0419a690-df07-4e02-a5bd-6c9681c1dc82",
   "metadata": {},
   "outputs": [],
   "source": [
    "from belleIImasterclass.widgets.trackingDemo import TrackingDemonstratorWidget\n",
    "trackingDemoWidget = TrackingDemonstratorWidget()\n",
    "trackingDemoWidget.show()"
   ]
  },
  {
   "cell_type": "markdown",
   "id": "f5ba2966-1c75-4a65-937e-99770eb3675d",
   "metadata": {},
   "source": [
    "## Detektorauflösung"
   ]
  },
  {
   "cell_type": "markdown",
   "id": "474562c4-6e85-45cb-978e-a47baea166cc",
   "metadata": {},
   "source": [
    "Teilchen können, obwohl sie unterschiedliche Eigenschaften haben, die gleichen Signale im Detektor hinterlassen. \n",
    "Diese Ungenaugkeiten nennen wir **Detektorauflösung**.\n",
    "\n",
    "<div>\n",
    "<img src=\"figures/lineal.jpeg\" width=\"700\"/>\n",
    "</div>\n",
    "\n",
    "<div class = \"alert alert-block alert-success\">\n",
    "   Mehr als 1 mm Abstände ist schwer zu messen mit diesem Lineal\n",
    "</div>\n",
    "\n",
    "Genauso funktioniert das mit den Detektorsegmenten. Deshalb haben wir jetzt deutlich mehr Pixel und Schichten.\n",
    "\n",
    "\n",
    "<div class = \"alert alert-info\">\n",
    "<strong>Aufgabe</strong>\n",
    "Kannst du dir vorstellen, warum man nicht noch mehr Pixel machen kann?\n",
    "</div>    \n",
    "\n",
    "Klappe hier auf "
   ]
  },
  {
   "cell_type": "markdown",
   "id": "4a2dd529-c83a-455c-9fd1-d96129aab60a",
   "metadata": {
    "jupyter": {
     "source_hidden": true
    },
    "tags": []
   },
   "source": [
    "Eine Lösung dafür ist, mehr Pixel und mehr Schichten zu bauen. Das ist allerdings teuer, verbraucht Platz für mehr Kabel und benötigt mehr Strom, d.h. wir haben mehr Zwischenräume, in denen wir nichts messen können oder brauchen sehr viel Platz, weil der Detektor sehr groß wird. Wir müssen also einen Kompromiss finden, wenn wir den Detektor bauen. \n",
    "Deswegen hat der Belle II Detektor auch drei verschiedene Spurdetektoren. Nach außen hin werden günstigere und größere Detektoren eingesetzt, die aber oft auch weniger genau sind."
   ]
  },
  {
   "cell_type": "markdown",
   "id": "d09de5cd-bd8a-43c9-9fb6-177844cbe458",
   "metadata": {},
   "source": [
    "---\n",
    "# Detektorrauschen <a id='SubSec:noise'> </a>\n",
    "---\n",
    "\n",
    "Leider ist unser Detektor in Wirklichkeit nicht so schön eindeutig, wie es in der Aufgaben oben dargestellt ist. Einzelne Detektorteile können auch zufällig falsche Signale geben und erschweren uns damit die Arbeit.\n",
    "\n",
    "Vermutlich kennst du so etwas von Bildern, besonders, wenn sie im Dunkeln gemacht wurden. Es gibt ein **Rauschen**, das das Bild unschärfer macht und es schwerer macht, feinere Strukturen zu erkennen.\n",
    "\n",
    "\n",
    "<div>\n",
    "<img src=\"figures/Bildrauschen.jpg\" width=\"300\"/>\n",
    "</div>\n",
    "\n",
    "Genau das Gleiche kann auch hier bei dem Spurdetektor passieren. \n",
    "\n",
    "<div class=\"alert alert-block alert-success\">\n",
    "So wie bei dem Kamerasensor ein Element auf einmal etwas anzeigt, was es gar nicht gemessen hat, kann auch hier ein elektrischer Impuls entstehen, ohne dass ein Teilchen von unserer Kollision das Detektorsegment durchlaufen hat. Das erschwert es uns natürlich, die Teilchenspuren zu finden."
   ]
  },
  {
   "cell_type": "markdown",
   "id": "7cfd2871-75b2-448b-833e-b2687d60e4c3",
   "metadata": {},
   "source": [
    "\n",
    "<div>\n",
    "<img src=\"figures/NoiseComparison.png\" width=\"900\"/>\n",
    "</div>"
   ]
  },
  {
   "cell_type": "markdown",
   "id": "866714e2-211a-48f8-b436-1c9b9f416e76",
   "metadata": {},
   "source": [
    "# Bestimme ein Teilchen im Spurdetektor"
   ]
  },
  {
   "cell_type": "markdown",
   "id": "999a46f3-06ed-4b35-b143-2b3f1aa21628",
   "metadata": {},
   "source": [
    "<div class=\"alert alert-info\">\n",
    "<strong>Aufgabe:</strong>\n",
    "    \n",
    "Wir wiederholen die vorherige Aufgabe. Jetzt aber mit der zusätzlichen Schwierigkeit, dass der Detektor auch Rauschen zeigt, also nicht alle Signale auch zu unserem Teilchen gehören.\n",
    "\n",
    "Bestimme  Impuls, Winkel und elektrische Ladung des Teilchens.\n",
    "    \n",
    "Du kannst mit Hilfe des Buttons `Zeige wahres Teilchen` dein Ergebnis kontrolieren.\n",
    "Wenn du möchtest, kannst du die Aufgabe mit größeren Rauschraten versuchen. Ab was für einer Rauschrate, kanns du die Spur nicht mehr erkennen?"
   ]
  },
  {
   "cell_type": "code",
   "execution_count": null,
   "id": "22363767-3591-471f-8919-e0e656a7df38",
   "metadata": {},
   "outputs": [],
   "source": [
    "from src.widgets import TrackingWidget\n",
    "tw=TrackingWidget('introduction_events/single_track.h5', show_truthbutton = True, noise = 0.1)\n",
    "tw.show()"
   ]
  }
 ],
 "metadata": {
  "kernelspec": {
   "display_name": "Python 3 (ipykernel)",
   "language": "python",
   "name": "python3"
  },
  "language_info": {
   "codemirror_mode": {
    "name": "ipython",
    "version": 3
   },
   "file_extension": ".py",
   "mimetype": "text/x-python",
   "name": "python",
   "nbconvert_exporter": "python",
   "pygments_lexer": "ipython3",
   "version": "3.10.10"
  }
 },
 "nbformat": 4,
 "nbformat_minor": 5
}
