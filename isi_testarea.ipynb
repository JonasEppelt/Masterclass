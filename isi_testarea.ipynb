{
 "cells": [
  {
   "cell_type": "code",
   "execution_count": null,
   "id": "7c215b92-93ca-493e-8e13-f6ca188b2408",
   "metadata": {},
   "outputs": [],
   "source": [
    "%load_ext autoreload\n",
    "%autoreload 2"
   ]
  },
  {
   "cell_type": "code",
   "execution_count": null,
   "id": "0b0f8c7d-2d7e-4648-a3e6-32bc4e163087",
   "metadata": {},
   "outputs": [],
   "source": [
    "%matplotlib widget\n",
    "from src.widgets import *\n",
    "import warnings\n",
    "warnings.filterwarnings('ignore')\n",
    "two_particle_event = \"barrel/corrected_fourparticles_2150.h5\""
   ]
  },
  {
   "cell_type": "code",
   "execution_count": null,
   "id": "d991d14c-97b4-41b7-b851-558e05d35916",
   "metadata": {},
   "outputs": [],
   "source": [
    "ew = ECLWidget(two_particle_event, noise_rate = 0.0, idx=None)\n",
    "ew.show()"
   ]
  },
  {
   "cell_type": "code",
   "execution_count": null,
   "id": "9a47b2dc-acdb-4cea-bcfd-a11cfa7028e6",
   "metadata": {},
   "outputs": [],
   "source": [
    "indices = ew.ecal.crystals_df.loc[ew.ecal.select_particles.loc[2, :].to_numpy()>0]\n",
    "# colored = ew.ecal.crystals_df[indices]\n",
    "hits = indices.query(\"content>0\").index\n",
    "center = ew.ecal.center[2]\n",
    "xdiff = abs(int(center/144.)%46 - (hits/144).astype('int')%46)\n",
    "ydiff = abs(center%144 - hits%144)\n",
    "print(xdiff, ydiff)\n",
    "print(xdiff.max(), ydiff.max())\n",
    "hits"
   ]
  },
  {
   "cell_type": "code",
   "execution_count": null,
   "id": "0c6479c9-c6a5-458b-889a-cf798c5bff4f",
   "metadata": {},
   "outputs": [],
   "source": [
    "tw = TrackingWidget(two_particle_event, noise=0.0, show_truthbutton=True, n_segments=8, B=0.4)\n",
    "tw.show()"
   ]
  },
  {
   "cell_type": "code",
   "execution_count": null,
   "id": "09e8ba6c-d28c-4bb2-ae3e-f2e9570d75a0",
   "metadata": {},
   "outputs": [],
   "source": [
    "mw = MatchingWidget(ew, tw)\n",
    "mw.show()"
   ]
  }
 ],
 "metadata": {
  "kernelspec": {
   "display_name": "masterclass",
   "language": "python",
   "name": "masterclass"
  },
  "language_info": {
   "codemirror_mode": {
    "name": "ipython",
    "version": 3
   },
   "file_extension": ".py",
   "mimetype": "text/x-python",
   "name": "python",
   "nbconvert_exporter": "python",
   "pygments_lexer": "ipython3",
   "version": "3.10.5"
  }
 },
 "nbformat": 4,
 "nbformat_minor": 5
}
