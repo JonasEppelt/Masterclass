{
 "cells": [
  {
   "cell_type": "markdown",
   "id": "99e8bf8d-7459-4f77-83ca-babd5cae8d27",
   "metadata": {
    "ExecuteTime": {
     "end_time": "2022-04-25T08:43:36.990150Z",
     "start_time": "2022-04-25T08:43:36.976245Z"
    }
   },
   "source": [
    "# Import"
   ]
  },
  {
   "cell_type": "code",
   "execution_count": 2,
   "id": "2f3da5b6-776d-4b4d-bb22-830f04185a17",
   "metadata": {
    "ExecuteTime": {
     "end_time": "2022-07-15T08:53:07.493114Z",
     "start_time": "2022-07-15T08:53:06.917924Z"
    }
   },
   "outputs": [],
   "source": [
    "%matplotlib widget\n",
    "import ipywidgets as widgets\n",
    "import matplotlib.pyplot as plt\n",
    "from matplotlib.patches import Rectangle\n",
    "from matplotlib.collections import LineCollection, PatchCollection\n",
    "from matplotlib.colors import to_rgba\n",
    "import numpy as np\n",
    "import math\n",
    "import os\n",
    "import time\n",
    "# from jp_doodle import dual_canvas\n",
    "from IPython.display import display\n",
    "import pandas as pd\n",
    "from itertools import *\n",
    "import warnings\n",
    "warnings.filterwarnings('ignore')"
   ]
  },
  {
   "cell_type": "code",
   "execution_count": 7,
   "id": "36bc5bf7-5ddd-4ccb-b9b8-256ad02a1321",
   "metadata": {
    "ExecuteTime": {
     "end_time": "2022-07-15T08:53:07.493114Z",
     "start_time": "2022-07-15T08:53:06.917924Z"
    }
   },
   "outputs": [],
   "source": [
    "list_of_ls = os.popen(\"ls barrel\").read().split('\\n')[:-1]"
   ]
  },
  {
   "cell_type": "markdown",
   "id": "1402e6d3-5864-486e-88ce-d5f020b904f7",
   "metadata": {
    "ExecuteTime": {
     "end_time": "2022-04-25T09:05:05.296167Z",
     "start_time": "2022-04-25T09:05:05.279885Z"
    }
   },
   "source": [
    "# Tracking"
   ]
  },
  {
   "cell_type": "markdown",
   "id": "ec41eed3-1c0e-4202-bfa3-a98c380bf4f8",
   "metadata": {
    "tags": []
   },
   "source": [
    "## TrackingSegment"
   ]
  },
  {
   "cell_type": "code",
   "execution_count": null,
   "id": "6ebaa7a3-a549-429e-b3ae-0b920a982e93",
   "metadata": {
    "ExecuteTime": {
     "end_time": "2022-04-25T09:05:05.296167Z",
     "start_time": "2022-04-25T09:05:05.279885Z"
    }
   },
   "outputs": [],
   "source": [
    "class TrackingSegment:\n",
    "    \n",
    "    def __init__(self, radius, begin, end, hit=0, matched = False, bkg = False):\n",
    "        self.radius = radius\n",
    "        self.begin = begin\n",
    "        self.end = end\n",
    "        self.hit = hit\n",
    "        self.matched = matched\n",
    "        self.bkg = bkg\n",
    "        t = np.linspace(self.begin, self.end, 100)\n",
    "        self.x = self.radius*np.cos(t)\n",
    "        self.y = self.radius*np.sin(t)\n",
    "        \n",
    "        \n",
    "    def check_hit(self, particle, orig=False):\n",
    "        d=particle.radius\n",
    "        a=(self.radius**2)/(2*d)\n",
    "        h=math.sqrt(abs(self.radius**2-a**2))\n",
    "        x2=a*(particle.x)/d   \n",
    "        y2=a*(particle.y)/d   \n",
    "\n",
    "        x4=x2-h*(particle.y)/d\n",
    "        y4=y2+h*(particle.x)/d\n",
    "        \n",
    "        theta = np.arctan2(y4,x4)\n",
    "        \n",
    "        if theta < 0:\n",
    "            theta += 2*np.pi\n",
    "        \n",
    "        if theta > self.begin and theta < self.end:\n",
    "            if orig:\n",
    "                self.matched = 1\n",
    "            else:\n",
    "                self.hit = 1\n",
    "        else:\n",
    "            self.hit = 0\n",
    "\n",
    "        return x4, y4\n",
    "    def get_line(self):\n",
    "        return self.x, self.y\n",
    "        \n",
    "    def draw(self, ax):\n",
    "        ax.plot(self.x,self.y, color = self.check_color(), linewidth = 4)\n",
    "        return \n",
    "        \n",
    "    def check_color(self, orig=False):\n",
    "        if self.hit:\n",
    "            return \"green\"\n",
    "        elif self.matched:\n",
    "            return \"red\"\n",
    "        elif self.bkg:\n",
    "            return \"red\"\n",
    "        else:\n",
    "            return \"black\""
   ]
  },
  {
   "cell_type": "markdown",
   "id": "aa3cb92f-790d-4834-8d58-15d5c90128e1",
   "metadata": {
    "tags": []
   },
   "source": [
    "## ECLSegment"
   ]
  },
  {
   "cell_type": "code",
   "execution_count": null,
   "id": "77a2bfa0-c546-4fca-82d5-4720387be2a6",
   "metadata": {
    "ExecuteTime": {
     "end_time": "2022-04-25T08:43:38.067728Z",
     "start_time": "2022-04-25T08:43:38.062538Z"
    }
   },
   "outputs": [],
   "source": [
    "class ECLSegment:\n",
    "    def __init__(self, radius, begin, end, width, hit = False, bkg = False, matched = False):\n",
    "        self.radius = radius\n",
    "        self.begin = begin\n",
    "        self.end = end\n",
    "        self.width = width\n",
    "        self.hit = hit\n",
    "        self.bkg = bkg\n",
    "        self.matched = matched\n",
    "        \n",
    "    def check_hit(self, particle, orig=False):\n",
    "        d=particle.radius\n",
    "        a=(self.radius**2)/(2*d)\n",
    "        h=math.sqrt(abs(self.radius**2-a**2))\n",
    "        x2=a*(particle.x)/d   \n",
    "        y2=a*(particle.y)/d   \n",
    "\n",
    "        x4=x2-h*(particle.y)/d\n",
    "        y4=y2+h*(particle.x)/d\n",
    "        \n",
    "        theta = np.arctan2(y4,x4)\n",
    "        \n",
    "        if theta < 0:\n",
    "            theta += 2*np.pi\n",
    "        \n",
    "        if theta > self.begin and theta < self.end:\n",
    "            if orig:\n",
    "                self.matched = 1\n",
    "            else:\n",
    "                self.hit = 1\n",
    "        else:\n",
    "            self.hit = 0\n",
    "\n",
    "        return x4, y4\n",
    "    \n",
    "    def get_lines(self):\n",
    "        t = np.linspace(self.begin, self.end, 100)\n",
    "        inner_x = self.radius*np.cos(t)\n",
    "        inner_y = self.radius*np.sin(t)\n",
    "        outer_x = (self.radius+self.width)*np.cos(t)\n",
    "        outer_y = (self.radius+self.width)*np.sin(t)\n",
    "        right_x = np.linspace(inner_x[0], outer_x[0], 100)\n",
    "        right_y = np.linspace(inner_y[0], outer_y[0], 100)\n",
    "        left_x = np.linspace(inner_x[-1], outer_x[-1], 100)\n",
    "        left_y = np.linspace(inner_y[-1], outer_y[-1], 100)\n",
    "        \n",
    "        return (inner_x, outer_x, right_x, left_x), (inner_y, outer_y, right_y, left_y)\n",
    "    \n",
    "    def draw(self, ax):\n",
    "        t = np.linspace(self.begin, self.end, 100)\n",
    "        x = self.radius*np.cos(t)\n",
    "        y = self.radius*np.sin(t)\n",
    "        ax.plot(x,y, color = self.check_color())\n",
    "        x_ = (self.radius+self.width)*np.cos(t)\n",
    "        y_ = (self.radius+self.width)*np.sin(t)\n",
    "        ax.plot(x_,y_, color = self.check_color())\n",
    "        ax.plot([x[0], x_[0]], [y[0], y_[0]], color = self.check_color())\n",
    "        ax.plot([x[-1], x_[-1]], [y[-1], y_[-1]], color = self.check_color())\n",
    "        return \n",
    "        \n",
    "    def check_color(self, orig=False):\n",
    "        if self.hit:\n",
    "            return \"green\"\n",
    "        elif self.matched:\n",
    "            return \"red\"\n",
    "        elif self.bkg:\n",
    "            return \"red\"\n",
    "        else:\n",
    "            return \"black\""
   ]
  },
  {
   "cell_type": "markdown",
   "id": "d54cd138-7b87-4434-84c3-0a0414d2e2e6",
   "metadata": {
    "ExecuteTime": {
     "end_time": "2022-04-25T08:43:38.067728Z",
     "start_time": "2022-04-25T08:43:38.062538Z"
    },
    "tags": []
   },
   "source": [
    "## Tracker"
   ]
  },
  {
   "cell_type": "code",
   "execution_count": null,
   "id": "73796e98-8333-44d9-8aaa-b7444034abb2",
   "metadata": {
    "ExecuteTime": {
     "end_time": "2022-04-25T08:49:37.689931Z",
     "start_time": "2022-04-25T08:49:37.682275Z"
    }
   },
   "outputs": [],
   "source": [
    "class Tracker:\n",
    "    def __init__(self, layers, n_segments, k = 2, noise = False):\n",
    "        self.noise = noise\n",
    "        self.n_segments = n_segments\n",
    "        self.layers = []\n",
    "        for l in range(layers):\n",
    "            self.layers.append([])\n",
    "            len_segment = 2*np.pi/(n_segments+k*l)\n",
    "            for i in range(n_segments+k*l):\n",
    "                cdcbkg = True if np.random.rand()<self.noise else False\n",
    "                self.layers[l].append(TrackingSegment(l, len_segment*i+(0.2/(l+1)), len_segment*(i+1)-(0.2)/(l+1), bkg = cdcbkg))\n",
    "        self.ecl = []\n",
    "        l = len(self.layers)\n",
    "        len_segment = 2*np.pi/(n_segments+k*l)\n",
    "        for i in range(n_segments+k*l):\n",
    "            eclbkg = True if np.random.rand()<self.noise else False\n",
    "            self.ecl.append(ECLSegment(l, len_segment*i+(0.2/(l+1)), len_segment*(i+1)-(0.2)/(l+1), width = 1, bkg=eclbkg))\n",
    "        \n",
    "        self.coord, self.size = [],[]\n",
    "        self.get_coordinates()\n",
    "        \n",
    "    def mark_hits(self, particle = None, orig = False):\n",
    "        c = []\n",
    "        for layer in self.layers:\n",
    "            for segment in layer:\n",
    "                if particle != None:\n",
    "                    segment.check_hit(particle, orig)\n",
    "                c.append(segment.check_color())\n",
    "        for crystal in self.ecl:\n",
    "            if particle != None:\n",
    "                crystal.check_hit(particle, orig)\n",
    "            for i in range(4): #4 lines in collection for one eclsgement\n",
    "                c.append(crystal.check_color())\n",
    "        return c\n",
    "    \n",
    "    def get_coordinates(self):\n",
    "        self.coord = []\n",
    "        self.size = []\n",
    "        for layer in self.layers:\n",
    "            for segment in layer:\n",
    "                line_x, line_y = segment.get_line()\n",
    "                self.coord.append([line_x,line_y])\n",
    "                self.size.append(8)\n",
    "        for crystal in self.ecl:\n",
    "            lines_x, lines_y = crystal.get_lines()\n",
    "            for l_x, l_y in zip(lines_x, lines_y):\n",
    "                self.coord.append([l_x,l_y])\n",
    "                self.size.append(1)\n",
    "        self.coord = np.array(self.coord)\n",
    "        self.coord = np.moveaxis(self.coord,1,-1)\n",
    "\n",
    "    def make_collections(self, particle, orig_particle=None):\n",
    "        coord = []\n",
    "        size = []\n",
    "        c = []\n",
    "        for layer in self.layers:\n",
    "            for segment in layer:\n",
    "                line_x, line_y = segment.get_line()\n",
    "                coord.append([line_x,line_y])\n",
    "                segment.check_hit(particle)\n",
    "                \n",
    "                if (orig_particle is not None) & (not segment.hit):\n",
    "                    segment.check_hit(orig_particle, orig=True)\n",
    "                    # c.append(segment.check_color(orig=True))\n",
    "                c.append(segment.check_color())\n",
    "                size.append(4)\n",
    "        for crystal in self.ecl:\n",
    "            lines_x, lines_y = crystal.get_lines()\n",
    "            for l_x, l_y in zip(lines_x, lines_y):\n",
    "                coord.append([l_x,l_y])\n",
    "                crystal.check_hit(particle)\n",
    "                if (orig_particle is not None) & (not crystal.hit):\n",
    "                    crystal.check_hit(orig_particle, orig=True)\n",
    "                c.append(crystal.check_color())\n",
    "                size.append(1)\n",
    "        \n",
    "        line_collection = LineCollection(coord, color = c, linewidths = size)\n",
    "        return line_collection\n",
    "    \n",
    "    def draw_collection(self, ax):\n",
    "        c = self.mark_hits()\n",
    "        line_collection = LineCollection(self.coord, color = c, linewidths = self.size)\n",
    "        #line_collection = self.make_collections(particle, orig_particle=orig_particle)\n",
    "        ax.add_collection(line_collection)\n",
    "        # if orig_particle is not None:\n",
    "        #     orig_line_collection = self.make_collections(orig_particle)\n",
    "        #     ax.add_collection(orig_line_collection)\n",
    "        \n",
    "        \n",
    "    def draw(self, ax, particle):\n",
    "        for l in self.layers:\n",
    "            for s in l:\n",
    "                s.check_hit(particle)\n",
    "                s.draw(ax)\n",
    "        for e in self.ecl:\n",
    "            e.draw(ax)"
   ]
  },
  {
   "cell_type": "markdown",
   "id": "212f8525-7f18-4f83-ba50-2731d8ca999c",
   "metadata": {
    "tags": []
   },
   "source": [
    "# Particle"
   ]
  },
  {
   "cell_type": "code",
   "execution_count": null,
   "id": "441cbd1c-cc0a-47df-86db-90ad3c5708d2",
   "metadata": {
    "ExecuteTime": {
     "end_time": "2022-04-25T08:43:39.178888Z",
     "start_time": "2022-04-25T08:43:39.174637Z"
    }
   },
   "outputs": [],
   "source": [
    "class Particle:\n",
    "    def __init__(self,r, phi, B=1., charge=1.):\n",
    "        self.x = r*np.cos(phi)\n",
    "        self.y = r*np.sin(phi)\n",
    "        self.radius = r\n",
    "        self.phi = phi\n",
    "        self.B = B\n",
    "        self.charge = charge\n",
    "        \n",
    "    def momentum(self):\n",
    "        return abs(self.radius) * self.B * abs(self.charge)\n",
    "    \n",
    "    def draw(self, ax):\n",
    "        self.x = self.radius*np.cos(self.phi)\n",
    "        self.y = self.radius*np.sin(self.phi)\n",
    "        theta = np.linspace(0,np.pi,100)\n",
    "        x = abs(self.radius)*np.cos(theta+self.phi)+ self.x\n",
    "        y = abs(self.radius)*np.sin(theta+self.phi)+ self.y\n",
    "        c = \"blue\" #if self.radius<0 else \"red\"\n",
    "        self.lines = ax.plot(x,y,color = c, label=f'$p_T$ = {round(self.momentum(),5)} GeV, Q = {self.charge}')\n",
    "        plt.legend()"
   ]
  },
  {
   "cell_type": "markdown",
   "id": "eade5b6d-4aff-4190-b12a-cdf6a1e6d2df",
   "metadata": {},
   "source": [
    "# Track reco"
   ]
  },
  {
   "cell_type": "code",
   "execution_count": null,
   "id": "808f1206",
   "metadata": {},
   "outputs": [],
   "source": [
    "def track_values(p, charge=1., B=1.):\n",
    "    return p/(charge*B)"
   ]
  },
  {
   "cell_type": "code",
   "execution_count": null,
   "id": "cf0dc6ab",
   "metadata": {},
   "outputs": [],
   "source": [
    "# load in data\n",
    "\n",
    "data = pd.read_hdf('EEEE/0_allcomb_0.h5')\n",
    "coords = [f'{i}' for i in np.arange(0, 6624)]\n",
    "hits = data[coords]\n",
    "momenta = data.loc[:,['phi', 'pt']]\n",
    "momenta.loc[:,'charge'] = data.loc[:,'pdg']/abs(data.loc[:,'pdg'])\n",
    "momenta.loc[:,'phi'] = momenta.loc[:,'phi']*np.pi/180.\n",
    "momenta.reset_index(inplace = True)\n",
    "momenta"
   ]
  },
  {
   "cell_type": "code",
   "execution_count": null,
   "id": "3b4ba728-e95d-4738-b19c-2e06d27f37a8",
   "metadata": {},
   "outputs": [],
   "source": [
    "class TrackingWidget:\n",
    "    def __init__(self, particles_df, B = 0.1):\n",
    "        self.tracker = Tracker(8,1,k=2)\n",
    "        self.particles_df = particles_df\n",
    "        self.n_particles = len(particles_df)\n",
    "        print(self.n_particles)\n",
    "        self.B = B\n",
    "        self.particles_df.loc[:, \"radius\"] = self.particles_df.loc[:,\"pt\"]/(self.particles_df.loc[:,\"charge\"]*self.B)\n",
    "        self.particles = []\n",
    "        for i in range(self.n_particles):\n",
    "            p_df = particles_df.iloc[i]\n",
    "            p = Particle(p_df[\"radius\"], p_df[\"phi\"], B, p_df[\"charge\"])\n",
    "            self.particles.append(p)\n",
    "            self.tracker.mark_hits(p, orig = True)\n",
    "            \n",
    "    def show(self):\n",
    "        fig, ax = plt.subplots(figsize=(10,10))\n",
    "        ax.set_ylim([-10,10])\n",
    "        ax.set_xlim([-10,10])\n",
    "        self.tracker.draw_collection(ax,)\n",
    "        particles = []\n",
    "       \n",
    "        def update(**particle_dict):\n",
    "            [l.remove() for l in ax.lines]\n",
    "            for i in range(self.n_particles):\n",
    "                if particle_dict[f\"p_{i}_r\"] != 0 :\n",
    "                    self.particles[i].r = particle_dict[f\"p_{i}_r\"]\n",
    "                    self.particles[i].phi = particle_dict[f\"p_{i}_phi\"]\n",
    "                    c = self.tracker.mark_hits(self.particles[i], False)\n",
    "                self.particles[i].draw(ax)    \n",
    "            self.tracker.draw_collection(ax, )\n",
    "            print(c)\n",
    "            \n",
    "        w_grid = widgets.GridspecLayout(2,self.n_particles)\n",
    "        wids = []\n",
    "        for i in range(self.n_particles):\n",
    "            r   = widgets.FloatSlider(i+1,min = -10, max = 10, step = 0.1, description = f\"$r_{i}$\")\n",
    "            phi = widgets.FloatSlider((i+1)/10,min = -np.pi, max = np.pi, step = 0.1, description = f\"$\\phi_{i}$\")\n",
    "            w_grid[0,i] = r\n",
    "            w_grid[1,i] = phi\n",
    "            wids.append(r)\n",
    "            wids.append(phi)\n",
    "        out = widgets.interactive_output(update,{f\"p_{i}_{v}\": wid for wid,(i,v) in zip(wids,product(list(range(self.n_particles)), [\"r\", \"phi\"]))})\n",
    "        display(w_grid, out)\n",
    "        '''\n",
    "        for i in range(self.n_particles):\n",
    "            #@widgets.interact(phi = (-np.pi, np.pi, 0.1), r=(-50,50,0.1))\n",
    "            def update(r=5, phi = 0):\n",
    "                if r != 0 :\n",
    "                    particles[i].radius = r\n",
    "                    particles[i].phi = phi\n",
    "                    [l.remove() for l in ax.lines]\n",
    "                    for j in range(self.n_particles):\n",
    "                        particles[j].draw(ax)\n",
    "                    c = self.tracker.mark_hits(particles[i], False)\n",
    "                    # tracking.draw_collection(ax, original_particle)\n",
    "                    self.tracker.draw_collection(ax, )\n",
    "        '''"
   ]
  },
  {
   "cell_type": "code",
   "execution_count": null,
   "id": "430944e2-759c-4a68-91a3-4259991acdaa",
   "metadata": {},
   "outputs": [],
   "source": [
    "tw = TrackingWidget(momenta.loc[:1,:], B = 0.1)"
   ]
  },
  {
   "cell_type": "code",
   "execution_count": null,
   "id": "1f0de09b-5f1d-4ec3-8330-3fb0b757d41a",
   "metadata": {},
   "outputs": [],
   "source": [
    "tw.show()"
   ]
  },
  {
   "cell_type": "code",
   "execution_count": null,
   "id": "b031ce60-d817-43fb-8614-2af962b2c844",
   "metadata": {
    "ExecuteTime": {
     "end_time": "2022-04-25T09:05:08.242660Z",
     "start_time": "2022-04-25T09:05:08.090484Z"
    }
   },
   "outputs": [],
   "source": [
    "# set up plot\n",
    "plt.clf()\n",
    "fig, ax = plt.subplots(figsize=(10,10))\n",
    "ax.set_ylim([-10,10])\n",
    "ax.set_xlim([-10,10])\n",
    "\n",
    "# generate x values\n",
    "x = np.linspace(0, 2 * np.pi, 100)\n",
    "\n",
    "# radius = track_values(, charge=-1., B=0.2)\n",
    " \n",
    "B = 0.1\n",
    "momenta['radius'] = track_values(momenta['pt'], charge=momenta['charge'], B=B)\n",
    "particle = Particle(5,0, B=B, charge=-1.)\n",
    "\n",
    "chosen_particle = momenta.iloc[1]\n",
    "# print(chosen_particle\n",
    "original_particle = Particle(chosen_particle['radius'].item(), \n",
    "                             chosen_particle['phi'].item(), \n",
    "                             B=B, \n",
    "                             charge=chosen_particle['charge'].item())\n",
    "\n",
    "\n",
    "tracking = Tracking(8,1, k = 2)\n",
    "c = tracking.mark_hits(original_particle, True)\n",
    "@widgets.interact(phi = (-np.pi,np.pi, 0.1), r = (-50,50,0.1))\n",
    "def update(r=5, phi = 0):\n",
    "    \"\"\"Remove old lines from plot and plot new one\"\"\"\n",
    "    if r != 0 :\n",
    "        particle.radius = r\n",
    "        particle.phi = phi\n",
    "        [l.remove() for l in ax.lines]\n",
    "        particle.draw(ax)\n",
    "        c = tracking.mark_hits(particle, False)\n",
    "        # tracking.draw_collection(ax, original_particle)\n",
    "        tracking.draw_collection(ax, )"
   ]
  },
  {
   "cell_type": "code",
   "execution_count": 3,
   "id": "80238006-c88c-4ab7-be3b-ce37da8c31c7",
   "metadata": {
    "ExecuteTime": {
     "end_time": "2022-07-15T08:53:23.807936Z",
     "start_time": "2022-07-15T08:53:23.797035Z"
    }
   },
   "outputs": [],
   "source": [
    "class ECLCrystal:\n",
    "    def __init__(self, x, y, edge, hit=False, center=False, color=\"blue\"):\n",
    "        self.x = x\n",
    "        self.y = y\n",
    "        self.edge = edge\n",
    "        self.hit = hit\n",
    "        self.color = color\n",
    "        self.center = center\n",
    "        self.chosen = False\n",
    "        self.facecolor = to_rgba(\"white\")\n",
    "        self.edgecolor = to_rgba(\"black\")\n",
    "        \n",
    "    def draw(self,ax):\n",
    "        ax.add_patch(Rectangle((self.x, self.y), self.edge, self.edge, edgecolor = self.edgecolor, facecolor = self.check_color(), linewidth = 0.5))\n",
    "        \n",
    "    def get_patch(self):\n",
    "        return Rectangle((self.x, self.y), self.edge, self.edge, edgecolor = self.edgecolor, facecolor = self.check_color(), linewidth = 0.5)\n",
    "    \n",
    "    def check_color(self):\n",
    "        if self.center:\n",
    "            return self.color\n",
    "        elif self.chosen:\n",
    "            return \"red\"\n",
    "        elif self.hit:\n",
    "            return \"red\"\n",
    "        else:\n",
    "            return \"grey\""
   ]
  },
  {
   "cell_type": "code",
   "execution_count": 4,
   "id": "16b60d2c-6ed5-42a2-950b-1bf14f91ce43",
   "metadata": {
    "ExecuteTime": {
     "end_time": "2022-07-15T08:53:24.117329Z",
     "start_time": "2022-07-15T08:53:24.102277Z"
    }
   },
   "outputs": [],
   "source": [
    "class ECal:\n",
    "    def __init__(self, nrows, ncols, hits, max_hit, centercolor, crystal_edge = 1):\n",
    "        self.crystals = np.empty((nrows, ncols), dtype = ECLCrystal)\n",
    "        hit = False\n",
    "        center = False\n",
    "        color = 'blue'\n",
    "        for c in range(ncols):\n",
    "            for r in range(nrows):\n",
    "                if hits[144*c+r] > 0.0:\n",
    "                    hit = True\n",
    "                if np.random.rand() < 0.0:\n",
    "                    hit = True\n",
    "                if int(144*c+r) in max_hit.keys():\n",
    "                    center = True\n",
    "                    color = centercolor[max_hit[int(144*c+r)]] \n",
    "                self.crystals[r,c] = ECLCrystal(r*crystal_edge, c*crystal_edge, crystal_edge-0.1, hit=hit, center=center, color=color)\n",
    "                hit = False\n",
    "                center = False\n",
    "    \n",
    "    def draw(self, ax):\n",
    "        for r in self.crystals:\n",
    "            for c in r:\n",
    "                c.draw(ax)\n",
    "    \n",
    "    def draw_collection(self,ax):\n",
    "        ax.add_collection(self.collection)\n",
    "                \n",
    "    def get_coords(self):\n",
    "        coords = []\n",
    "        for cols in self.crystals:\n",
    "            for crystal in cols:\n",
    "                coords.append([crystal.x, crystal.y])\n",
    "        return coords\n",
    "    \n",
    "    def get_collection(self):\n",
    "        crystals = []\n",
    "        for c in self.crystals.flatten():\n",
    "            crystals.append(c.get_patch())\n",
    "        self.collection = PatchCollection(crystals, match_original=True)\n",
    "        return self.collection\n",
    "    \n",
    "    def get_crystal(self, rectangle):\n",
    "        x,y = rectangle.get_xy()\n",
    "        for i,r in enumerate(self.crystals):\n",
    "            for j,c in enumerate(r):\n",
    "                if x == c.x and y==c.y:\n",
    "                    return i,j"
   ]
  },
  {
   "cell_type": "markdown",
   "id": "576118db-8ea4-4e05-9c98-ec07f8d74ac1",
   "metadata": {
    "tags": []
   },
   "source": [
    "## V2"
   ]
  },
  {
   "cell_type": "code",
   "execution_count": 5,
   "id": "171b2cc2-a99c-4515-bc15-9e57fcdd117e",
   "metadata": {
    "ExecuteTime": {
     "end_time": "2022-07-15T08:53:25.667619Z",
     "start_time": "2022-07-15T08:53:25.656437Z"
    }
   },
   "outputs": [],
   "source": [
    "import numpy as np\n",
    "\n",
    "from matplotlib.widgets import LassoSelector\n",
    "from matplotlib.path import Path\n",
    "\n",
    "\n",
    "class SelectFromCollection:\n",
    "\n",
    "    def __init__(self, ax, ecal):\n",
    "        self.canvas = ax.figure.canvas\n",
    "        self.ecal = ecal    \n",
    "        \n",
    "        xy = np.array(ecal.get_coords()).T      \n",
    "        self.ecal.get_collection()\n",
    "        self.ecal.draw_collection(ax)\n",
    "        self.collection = ax.scatter(xy[0], xy[1], s=0)\n",
    "        self.xys = self.collection.get_offsets()\n",
    "        self.Npts = len(self.xys)\n",
    "    \n",
    "        # Ensure that we have separate colors for each object\n",
    "        self.fc = self.ecal.collection.get_edgecolors()\n",
    "        if len(self.fc) == 0:\n",
    "            raise ValueError('Collection must have a facecolor')\n",
    "        elif len(self.fc) == 1:\n",
    "            self.fc = np.tile(self.fc, (self.Npts, 1))\n",
    "        self.lasso = LassoSelector(ax, onselect=self.onselect)\n",
    "        self.ind = []\n",
    "\n",
    "    def onselect(self, verts):\n",
    "        path = Path(verts)\n",
    "        self.ind = np.nonzero(path.contains_points(self.xys))[0]\n",
    "        self.fc[:] = to_rgba(\"Black\")\n",
    "        self.fc[self.ind] = to_rgba(\"green\")\n",
    "        self.ecal.collection.set_edgecolors(self.fc)\n",
    "        self.canvas.draw_idle()"
   ]
  },
  {
   "cell_type": "code",
   "execution_count": 11,
   "id": "e0883545",
   "metadata": {
    "ExecuteTime": {
     "end_time": "2022-07-15T08:54:54.283482Z",
     "start_time": "2022-07-15T08:54:54.059577Z"
    }
   },
   "outputs": [
    {
     "data": {
      "text/plain": [
       "{1628: 0, 6478: 1, 243: 2, 3568: 3}"
      ]
     },
     "execution_count": 11,
     "metadata": {},
     "output_type": "execute_result"
    }
   ],
   "source": [
    "filepath = '/ceph/ihaide/GirlsDay/events/'\n",
    "data = pd.read_hdf(filepath + 'EEMuMu/fourparticles_00.h5')\n",
    "coords = [f'{i}' for i in np.arange(0, 6624)]\n",
    "hits = data[coords]\n",
    "\n",
    "max_hit = {}\n",
    "for i in range(4):\n",
    "    max_hit[int(hits.iloc[i].idxmax())] = i\n",
    "    \n",
    "max_hit"
   ]
  },
  {
   "cell_type": "code",
   "execution_count": 12,
   "id": "afc33df3-f872-4001-b261-a0bf1dd322fc",
   "metadata": {
    "ExecuteTime": {
     "end_time": "2022-07-15T08:54:57.136723Z",
     "start_time": "2022-07-15T08:54:55.887061Z"
    }
   },
   "outputs": [
    {
     "data": {
      "application/vnd.jupyter.widget-view+json": {
       "model_id": "506ad7647ae3400bb858bf8bd9da69dc",
       "version_major": 2,
       "version_minor": 0
      },
      "image/png": "[encoded data removed]",
      "text/html": [
       "\n",
       "            <div style=\"display: inline-block;\">\n",
       "                <div class=\"jupyter-widgets widget-label\" style=\"text-align: center;\">\n",
       "                    Figure\n",
       "                </div>\n",
       "                <img src='data:image/png;base64,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' width=800.0/>\n",
       "            </div>\n",
       "        "
      ],
      "text/plain": [
       "Canvas(toolbar=Toolbar(toolitems=[('Home', 'Reset original view', 'home', 'home'), ('Back', 'Back to previous …"
      ]
     },
     "metadata": {},
     "output_type": "display_data"
    }
   ],
   "source": [
    "\n",
    "plt.rc('font', size=5) \n",
    "\n",
    "centercolor = ['blue', 'cyan', 'gold', 'chartreuse']\n",
    "\n",
    "ecal = ECal(144,46,hits.sum().to_numpy(), max_hit, centercolor, crystal_edge=5)\n",
    "subplot_kw = dict(xlim=(-5,725), ylim=(-5,235), autoscale_on=False)\n",
    "fig, ax = plt.subplots(figsize=(2,1), subplot_kw=subplot_kw, dpi=400)\n",
    "\n",
    "selector = SelectFromCollection(ax, ecal)\n",
    "#selector.onselect([[0,10],[10,10],[9,10],[0,1]])\n",
    "\n",
    "def accept(event):\n",
    "    if event.key == \"enter\":\n",
    "        print(\"Selected points:\")\n",
    "        print(selector.xys[selector.ind])\n",
    "        selector.disconnect()\n",
    "        ax.set_title(\"\")\n",
    "        fig.canvas.draw()\n",
    "\n",
    "fig.canvas.mpl_connect(\"key_press_event\", accept)\n",
    "ax.set_title(\"Press enter to accept selected points.\")\n",
    "# plt.savefig('ecltest.pdf')\n",
    "# plt.gcf().set_dpi(300)\n",
    "plt.tick_params(left=False,\n",
    "                bottom=False,\n",
    "                labelleft=False,\n",
    "                labelbottom=False)\n",
    "\n",
    "plt.show()"
   ]
  },
  {
   "cell_type": "code",
   "execution_count": null,
   "id": "7074f19b-8584-469f-b433-c04f4f3bf4e9",
   "metadata": {},
   "outputs": [],
   "source": [
    "ecal.collection.get_facecolors()"
   ]
  },
  {
   "cell_type": "code",
   "execution_count": null,
   "id": "bc5df2c8-6369-4b25-879f-2c2e5b50e54a",
   "metadata": {},
   "outputs": [],
   "source": []
  }
 ],
 "metadata": {
  "kernelspec": {
   "display_name": "Python 3",
   "language": "python",
   "name": "python3"
  },
  "language_info": {
   "codemirror_mode": {
    "name": "ipython",
    "version": 3
   },
   "file_extension": ".py",
   "mimetype": "text/x-python",
   "name": "python",
   "nbconvert_exporter": "python",
   "pygments_lexer": "ipython3",
   "version": "3.8.13"
  },
  "varInspector": {
   "cols": {
    "lenName": 16,
    "lenType": 16,
    "lenVar": 40
   },
   "kernels_config": {
    "python": {
     "delete_cmd_postfix": "",
     "delete_cmd_prefix": "del ",
     "library": "var_list.py",
     "varRefreshCmd": "print(var_dic_list())"
    },
    "r": {
     "delete_cmd_postfix": ") ",
     "delete_cmd_prefix": "rm(",
     "library": "var_list.r",
     "varRefreshCmd": "cat(var_dic_list()) "
    }
   },
   "types_to_exclude": [
    "module",
    "function",
    "builtin_function_or_method",
    "instance",
    "_Feature"
   ],
   "window_display": false
  },
  "vscode": {
   "interpreter": {
    "hash": "43fd9337e704dd8e13305c807a6b57daa15d25b713892ff9e56b00b5253b2fb7"
   }
  }
 },
 "nbformat": 4,
 "nbformat_minor": 5
}
