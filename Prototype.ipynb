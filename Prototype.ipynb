{
 "cells": [
  {
   "cell_type": "markdown",
   "id": "99e8bf8d-7459-4f77-83ca-babd5cae8d27",
   "metadata": {
    "ExecuteTime": {
     "end_time": "2022-04-25T08:43:36.990150Z",
     "start_time": "2022-04-25T08:43:36.976245Z"
    }
   },
   "source": [
    "# Import"
   ]
  },
  {
   "cell_type": "code",
   "execution_count": null,
   "id": "4d7c0396-aedd-4475-a22a-b8235c913d90",
   "metadata": {
    "ExecuteTime": {
     "end_time": "2022-04-25T08:43:36.990150Z",
     "start_time": "2022-04-25T08:43:36.976245Z"
    }
   },
   "outputs": [],
   "source": [
    "%matplotlib widget\n",
    "import ipywidgets as widgets\n",
    "import matplotlib.pyplot as plt\n",
    "from matplotlib.patches import Rectangle\n",
    "from matplotlib.collections import LineCollection, PatchCollection\n",
    "from matplotlib.colors import to_rgba\n",
    "import numpy as np\n",
    "import math\n",
    "import time\n",
    "from jp_doodle import dual_canvas\n",
    "from IPython.display import display\n",
    "import pandas as pd"
   ]
  },
  {
   "cell_type": "markdown",
   "id": "1402e6d3-5864-486e-88ce-d5f020b904f7",
   "metadata": {
    "ExecuteTime": {
     "end_time": "2022-04-25T09:05:05.296167Z",
     "start_time": "2022-04-25T09:05:05.279885Z"
    }
   },
   "source": [
    "# Tracking"
   ]
  },
  {
   "cell_type": "code",
   "execution_count": null,
   "id": "6ebaa7a3-a549-429e-b3ae-0b920a982e93",
   "metadata": {
    "ExecuteTime": {
     "end_time": "2022-04-25T09:05:05.296167Z",
     "start_time": "2022-04-25T09:05:05.279885Z"
    }
   },
   "outputs": [],
   "source": [
    "class TrackingSegment:\n",
    "    \n",
    "    def __init__(self, radius, begin, end, hit=0):\n",
    "        self.radius = radius\n",
    "        self.begin = begin\n",
    "        self.end = end\n",
    "        self.hit = hit\n",
    "        t = np.linspace(self.begin, self.end, 100)\n",
    "        self.x = self.radius*np.cos(t)\n",
    "        self.y = self.radius*np.sin(t)\n",
    "        \n",
    "        \n",
    "    def check_hit(self, particle, orig=False):\n",
    "        d=particle.radius\n",
    "        a=(self.radius**2)/(2*d)\n",
    "        h=math.sqrt(abs(self.radius**2-a**2))\n",
    "        x2=a*(particle.x)/d   \n",
    "        y2=a*(particle.y)/d   \n",
    "\n",
    "        x4=x2-h*(particle.y)/d\n",
    "        y4=y2+h*(particle.x)/d\n",
    "        \n",
    "        theta = np.arctan2(y4,x4)\n",
    "        \n",
    "        if theta < 0:\n",
    "            theta += 2*np.pi\n",
    "        \n",
    "        if theta > self.begin and theta < self.end:\n",
    "            if orig:\n",
    "                self.hit = 2\n",
    "            else:\n",
    "                self.hit = 1\n",
    "        else:\n",
    "            self.hit = 0\n",
    "\n",
    "        return x4, y4\n",
    "    def get_line(self):\n",
    "        return self.x, self.y\n",
    "        \n",
    "    def draw(self, ax):\n",
    "        ax.plot(self.x,self.y, color = self.check_color(), linewidth = 4)\n",
    "        return \n",
    "        \n",
    "    def check_color(self, orig=False):\n",
    "        if self.hit==2:\n",
    "            return \"red\"\n",
    "        elif self.hit==1:\n",
    "            return \"green\"\n",
    "        else:\n",
    "            return \"black\""
   ]
  },
  {
   "cell_type": "markdown",
   "id": "53988d1b-a019-4fce-a6a6-29f044cdbfc9",
   "metadata": {
    "ExecuteTime": {
     "end_time": "2022-04-25T08:43:38.067728Z",
     "start_time": "2022-04-25T08:43:38.062538Z"
    }
   },
   "source": [
    "# ECL"
   ]
  },
  {
   "cell_type": "code",
   "execution_count": null,
   "id": "12ec572a-85dc-4fd1-a5ee-760a96a8d076",
   "metadata": {
    "ExecuteTime": {
     "end_time": "2022-04-25T08:43:38.067728Z",
     "start_time": "2022-04-25T08:43:38.062538Z"
    }
   },
   "outputs": [],
   "source": [
    "class ECLSegment:\n",
    "    def __init__(self, radius, begin, end, width):\n",
    "        self.radius = radius\n",
    "        self.begin = begin\n",
    "        self.end = end\n",
    "        self.width = width\n",
    "        self.hit = False\n",
    "        \n",
    "    def check_hit(self, particle, orig=False):\n",
    "        d=particle.radius\n",
    "        a=(self.radius**2)/(2*d)\n",
    "        h=math.sqrt(abs(self.radius**2-a**2))\n",
    "        x2=a*(particle.x)/d   \n",
    "        y2=a*(particle.y)/d   \n",
    "\n",
    "        x4=x2-h*(particle.y)/d\n",
    "        y4=y2+h*(particle.x)/d\n",
    "        \n",
    "        theta = np.arctan2(y4,x4)\n",
    "        \n",
    "        if theta < 0:\n",
    "            theta += 2*np.pi\n",
    "        \n",
    "        if theta > self.begin and theta < self.end:\n",
    "            if orig:\n",
    "                self.hit = 2\n",
    "            else:\n",
    "                self.hit = 1\n",
    "        else:\n",
    "            self.hit = 0\n",
    "\n",
    "        return x4, y4\n",
    "    \n",
    "    def get_lines(self):\n",
    "        t = np.linspace(self.begin, self.end, 100)\n",
    "        inner_x = self.radius*np.cos(t)\n",
    "        inner_y = self.radius*np.sin(t)\n",
    "        outer_x = (self.radius+self.width)*np.cos(t)\n",
    "        outer_y = (self.radius+self.width)*np.sin(t)\n",
    "        right_x = np.linspace(inner_x[0], outer_x[0], 100)\n",
    "        right_y = np.linspace(inner_y[0], outer_y[0], 100)\n",
    "        left_x = np.linspace(inner_x[-1], outer_x[-1], 100)\n",
    "        left_y = np.linspace(inner_y[-1], outer_y[-1], 100)\n",
    "        \n",
    "        return (inner_x, outer_x, right_x, left_x), (inner_y, outer_y, right_y, left_y)\n",
    "    \n",
    "    def draw(self, ax):\n",
    "        t = np.linspace(self.begin, self.end, 100)\n",
    "        x = self.radius*np.cos(t)\n",
    "        y = self.radius*np.sin(t)\n",
    "        ax.plot(x,y, color = self.check_color())\n",
    "        x_ = (self.radius+self.width)*np.cos(t)\n",
    "        y_ = (self.radius+self.width)*np.sin(t)\n",
    "        ax.plot(x_,y_, color = self.check_color())\n",
    "        ax.plot([x[0], x_[0]], [y[0], y_[0]], color = self.check_color())\n",
    "        ax.plot([x[-1], x_[-1]], [y[-1], y_[-1]], color = self.check_color())\n",
    "        return \n",
    "        \n",
    "    def check_color(self):\n",
    "        if self.hit==2:\n",
    "            return \"red\"\n",
    "        elif self.hit==1:\n",
    "            return \"green\"\n",
    "        else:\n",
    "            return \"black\""
   ]
  },
  {
   "cell_type": "code",
   "execution_count": null,
   "id": "73796e98-8333-44d9-8aaa-b7444034abb2",
   "metadata": {
    "ExecuteTime": {
     "end_time": "2022-04-25T08:49:37.689931Z",
     "start_time": "2022-04-25T08:49:37.682275Z"
    }
   },
   "outputs": [],
   "source": [
    "class Tracking:\n",
    "    def __init__(self, layers, n_segments, k = 2):\n",
    "        self.n_segments = n_segments\n",
    "        self.layers = []\n",
    "        for l in range(layers):\n",
    "            self.layers.append([])\n",
    "            len_segment = 2*np.pi/(n_segments+k*l)\n",
    "            for i in range(n_segments+k*l):\n",
    "                #print(l, i, round(len_segment*i+(0.2/(l+1)), 3), round(len_segment*(i+1)-(0.2)/(l+1), 3))\n",
    "                self.layers[l].append(TrackingSegment((l+1)/2, len_segment*i+(0.2/(l+1)), len_segment*(i+1)-(0.2)/(l+1)))\n",
    "        self.ecl = []\n",
    "        l = len(self.layers)\n",
    "        len_segment = 2*np.pi/(n_segments+k*l)\n",
    "        for i in range(n_segments+k*l):\n",
    "            self.ecl.append(ECLSegment((l+1)/2, len_segment*i+(0.2/(l+1)), len_segment*(i+1)-(0.2)/(l+1), width = 1))\n",
    "        # if orig_particle is not None:\n",
    "        #     for l in self.layers:\n",
    "        #         for s in l:\n",
    "        #             s.check_hit(orig_particle)\n",
    "    \n",
    "    def make_collections(self, particle, orig_particle=None):\n",
    "        coord = []\n",
    "        size = []\n",
    "        c = []\n",
    "        for layer in self.layers:\n",
    "            for segment in layer:\n",
    "                line_x, line_y = segment.get_line()\n",
    "                coord.append([line_x,line_y])\n",
    "                segment.check_hit(particle)\n",
    "                \n",
    "                if (orig_particle is not None) & (not segment.hit):\n",
    "                    segment.check_hit(orig_particle, orig=True)\n",
    "                    # c.append(segment.check_color(orig=True))\n",
    "                c.append(segment.check_color())\n",
    "                size.append(2)\n",
    "        for crystal in self.ecl:\n",
    "            lines_x, lines_y = crystal.get_lines()\n",
    "            for l_x, l_y in zip(lines_x, lines_y):\n",
    "                coord.append([l_x,l_y])\n",
    "                crystal.check_hit(particle)\n",
    "                if (orig_particle is not None) & (not crystal.hit):\n",
    "                    crystal.check_hit(orig_particle, orig=True)\n",
    "                c.append(crystal.check_color())\n",
    "                size.append(1)\n",
    "        coord = np.array(coord)\n",
    "        coord = np.moveaxis(coord,1,-1)\n",
    "        line_collection = LineCollection(coord, color = c, linewidths = size)\n",
    "        return line_collection\n",
    "    \n",
    "    def draw_collection(self, ax, particle, orig_particle=None):\n",
    "        line_collection = self.make_collections(particle, orig_particle=orig_particle)\n",
    "        ax.add_collection(line_collection)\n",
    "        # if orig_particle is not None:\n",
    "        #     orig_line_collection = self.make_collections(orig_particle)\n",
    "        #     ax.add_collection(orig_line_collection)\n",
    "        \n",
    "        \n",
    "    def draw(self, ax, particle):\n",
    "        for l in self.layers:\n",
    "            for s in l:\n",
    "                s.check_hit(particle)\n",
    "                s.draw(ax)\n",
    "        for e in self.ecl:\n",
    "            e.draw(ax)"
   ]
  },
  {
   "cell_type": "markdown",
   "id": "212f8525-7f18-4f83-ba50-2731d8ca999c",
   "metadata": {},
   "source": [
    "# Particle"
   ]
  },
  {
   "cell_type": "code",
   "execution_count": null,
   "id": "441cbd1c-cc0a-47df-86db-90ad3c5708d2",
   "metadata": {
    "ExecuteTime": {
     "end_time": "2022-04-25T08:43:39.178888Z",
     "start_time": "2022-04-25T08:43:39.174637Z"
    }
   },
   "outputs": [],
   "source": [
    "class Particle:\n",
    "    def __init__(self,r, phi, B=1., charge=1.):\n",
    "        self.x = r*np.cos(phi)\n",
    "        self.y = r*np.sin(phi)\n",
    "        self.radius = r\n",
    "        self.phi = phi\n",
    "        self.B = B\n",
    "        self.charge = charge\n",
    "        \n",
    "    def momentum(self):\n",
    "        return abs(self.radius) * self.B * abs(self.charge)\n",
    "    \n",
    "    def draw(self, ax):\n",
    "        self.x = self.radius*np.cos(self.phi)\n",
    "        self.y = self.radius*np.sin(self.phi)\n",
    "        theta = np.linspace(0,np.pi,100)\n",
    "        x = abs(self.radius)*np.cos(theta+self.phi)+ self.x\n",
    "        y = abs(self.radius)*np.sin(theta+self.phi)+ self.y\n",
    "        c = \"blue\" if self.radius<0 else \"red\"\n",
    "        self.lines = ax.plot(x,y,color = c, label=f'p = {self.momentum()} GeV')\n",
    "        plt.legend()"
   ]
  },
  {
   "cell_type": "markdown",
   "id": "eade5b6d-4aff-4190-b12a-cdf6a1e6d2df",
   "metadata": {},
   "source": [
    "# Track reco"
   ]
  },
  {
   "cell_type": "code",
   "execution_count": null,
   "id": "808f1206",
   "metadata": {},
   "outputs": [],
   "source": [
    "def track_values(p, charge=1., B=1.):\n",
    "    return p/(charge*B)"
   ]
  },
  {
   "cell_type": "code",
   "execution_count": null,
   "id": "cf0dc6ab",
   "metadata": {},
   "outputs": [],
   "source": [
    "# load in data\n",
    "\n",
    "data = pd.read_hdf('EEEE/0_allcomb_0.h5')\n",
    "coords = [f'{i}' for i in np.arange(0, 6624)]\n",
    "hits = data[coords]\n",
    "momenta = data[['phi', 'pt']]\n",
    "momenta['charge'] = data['pdg']/abs(data['pdg'])\n",
    "momenta['phi'] = momenta['phi']*np.pi/180."
   ]
  },
  {
   "cell_type": "code",
   "execution_count": null,
   "id": "cbc38ee4-4475-4e1c-8ae6-8a3f37528152",
   "metadata": {
    "ExecuteTime": {
     "end_time": "2022-04-25T09:05:08.242660Z",
     "start_time": "2022-04-25T09:05:08.090484Z"
    }
   },
   "outputs": [],
   "source": [
    "# set up plot\n",
    "fig, ax = plt.subplots(figsize=(10,10))\n",
    "ax.set_ylim([-20,20])\n",
    "ax.set_xlim([-20,20])\n",
    "\n",
    "# generate x values\n",
    "x = np.linspace(0, 2 * np.pi, 100)\n",
    "\n",
    "# radius = track_values(, charge=-1., B=0.2)\n",
    " \n",
    "B = 0.1\n",
    "momenta['radius'] = track_values(momenta['pt'], charge=momenta['charge'], B=B)\n",
    "particle = Particle(5,0, B=B, charge=-1.)\n",
    "\n",
    "chosen_particle = momenta.iloc[1]\n",
    "# print(chosen_particle\n",
    "original_particle = Particle(chosen_particle['radius'].item(), \n",
    "                             chosen_particle['phi'].item(), \n",
    "                             B=B, \n",
    "                             charge=chosen_particle['charge'].item())\n",
    "\n",
    "\n",
    "tracking = Tracking(15,2, k = 2)\n",
    "@widgets.interact(phi = (-np.pi,np.pi, 0.1), r = (-50,50,0.1))\n",
    "def update(r=5, phi = 0):\n",
    "    \"\"\"Remove old lines from plot and plot new one\"\"\"\n",
    "    if r != 0 :\n",
    "        particle.radius = r\n",
    "        particle.phi = phi\n",
    "        [l.remove() for l in ax.lines]\n",
    "        particle.draw(ax)\n",
    "        # tracking.draw_collection(ax, original_particle)\n",
    "        tracking.draw_collection(ax, particle, orig_particle=original_particle)\n",
    "        "
   ]
  },
  {
   "cell_type": "code",
   "execution_count": null,
   "id": "07ef2501",
   "metadata": {},
   "outputs": [],
   "source": [
    "#trying to calculate ecl hit, ignore this please\n",
    "def find_crystal(radius, phi):\n",
    "    x = radius*np.cos(phi)\n",
    "    y = radius*np.sin(phi)\n",
    "    d=math.sqrt(x**2 + y**2)\n",
    "    a=(139**2-radius**2+d**2)/(2*d)\n",
    "    h=math.sqrt(abs(radius**2-a**2))\n",
    "    x2=a*(x)/d   \n",
    "    y2=a*(y)/d   \n",
    "    x3=x2+h*(y)/d     \n",
    "    y3=y2-h*(x)/d \n",
    "\n",
    "    x4=x2-h*(y)/d\n",
    "    y4=y2+h*(x)/d\n",
    "\n",
    "\n",
    "    rho = math.sqrt(x4**2 + y4**2)\n",
    "    theta = np.arctan2(y4,x4)\n",
    "\n",
    "    if theta < 0:\n",
    "        theta += 2*np.pi\n",
    "        \n",
    "    return theta\n",
    "\n",
    "radius = 21.0\n",
    "phi = 2.86\n",
    "\n",
    "find_crystal(radius, phi)"
   ]
  },
  {
   "cell_type": "code",
   "execution_count": null,
   "id": "80238006-c88c-4ab7-be3b-ce37da8c31c7",
   "metadata": {},
   "outputs": [],
   "source": [
    "class ECLCrystal:\n",
    "    def __init__(self, x, y, edge, hit=False):\n",
    "        self.x = x\n",
    "        self.y = y\n",
    "        self.edge = edge\n",
    "        self.hit = hit\n",
    "        self.chosen = False\n",
    "        self.facecolor = to_rgba(\"white\")\n",
    "        self.edgecolor = to_rgba(\"black\")\n",
    "        \n",
    "    def draw(self,ax):\n",
    "        ax.add_patch(Rectangle((self.x, self.y), self.edge, self.edge, edgecolor = self.edgecolor, facecolor = self.check_color(), linewidth = 1))\n",
    "        \n",
    "    def get_patch(self):\n",
    "        return Rectangle((self.x, self.y), self.edge, self.edge, edgecolor = self.edgecolor, facecolor = self.check_color(), linewidth = 1)\n",
    "    \n",
    "    def check_color(self):\n",
    "        if self.chosen:\n",
    "            return \"red\"\n",
    "        elif self.hit:\n",
    "            return \"red\"\n",
    "        else:\n",
    "            return \"grey\""
   ]
  },
  {
   "cell_type": "code",
   "execution_count": null,
   "id": "16b60d2c-6ed5-42a2-950b-1bf14f91ce43",
   "metadata": {},
   "outputs": [],
   "source": [
    "class ECal:\n",
    "    def __init__(self, nrows, ncols, hits, crystal_edge = 1):\n",
    "        self.crystals = np.empty((nrows, ncols), dtype = ECLCrystal)\n",
    "        hit = False\n",
    "        #he did this just to confuse the fuck out of me\n",
    "        for c in range(ncols):\n",
    "            for r in range(nrows):\n",
    "                if hits[144*c+r] > 0.0:\n",
    "                    hit = True\n",
    "                self.crystals[r,c] = ECLCrystal(r*crystal_edge, c*crystal_edge, crystal_edge-0.2, hit=hit)\n",
    "                hit = False\n",
    "    \n",
    "    def draw(self, ax):\n",
    "        for r in self.crystals:\n",
    "            for c in r:\n",
    "                c.draw(ax)\n",
    "    \n",
    "    def draw_collection(self,ax):\n",
    "        ax.add_collection(self.collection)\n",
    "                \n",
    "    def get_coords(self):\n",
    "        coords = []\n",
    "        for cols in self.crystals:\n",
    "            for crystal in cols:\n",
    "                coords.append([crystal.x, crystal.y])\n",
    "        return coords\n",
    "    \n",
    "    def get_collection(self):\n",
    "        crystals = []\n",
    "        for c in self.crystals.flatten():\n",
    "            crystals.append(c.get_patch())\n",
    "        self.collection = PatchCollection(crystals, match_original=True)\n",
    "        return self.collection\n",
    "    \n",
    "    def get_crystal(self, rectangle):\n",
    "        x,y = rectangle.get_xy()\n",
    "        for i,r in enumerate(self.crystals):\n",
    "            for j,c in enumerate(r):\n",
    "                if x == c.x and y==c.y:\n",
    "                    return i,j"
   ]
  },
  {
   "cell_type": "markdown",
   "id": "576118db-8ea4-4e05-9c98-ec07f8d74ac1",
   "metadata": {
    "tags": []
   },
   "source": [
    "## V2"
   ]
  },
  {
   "cell_type": "code",
   "execution_count": null,
   "id": "171b2cc2-a99c-4515-bc15-9e57fcdd117e",
   "metadata": {},
   "outputs": [],
   "source": [
    "import numpy as np\n",
    "\n",
    "from matplotlib.widgets import LassoSelector\n",
    "from matplotlib.path import Path\n",
    "\n",
    "\n",
    "class SelectFromCollection:\n",
    "\n",
    "    def __init__(self, ax, ecal):\n",
    "        self.canvas = ax.figure.canvas\n",
    "        self.ecal = ecal    \n",
    "        \n",
    "        xy = np.array(ecal.get_coords()).T      \n",
    "        self.ecal.get_collection()\n",
    "        self.ecal.draw_collection(ax)\n",
    "        self.collection = ax.scatter(xy[0], xy[1], s=0)\n",
    "        self.xys = self.collection.get_offsets()\n",
    "        self.Npts = len(self.xys)\n",
    "    \n",
    "        # Ensure that we have separate colors for each object\n",
    "        self.fc = self.ecal.collection.get_edgecolors()\n",
    "        if len(self.fc) == 0:\n",
    "            raise ValueError('Collection must have a facecolor')\n",
    "        elif len(self.fc) == 1:\n",
    "            self.fc = np.tile(self.fc, (self.Npts, 1))\n",
    "        self.lasso = LassoSelector(ax, onselect=self.onselect)\n",
    "        self.ind = []\n",
    "\n",
    "    def onselect(self, verts):\n",
    "        path = Path(verts)\n",
    "        self.ind = np.nonzero(path.contains_points(self.xys))[0]\n",
    "        self.fc[:] = to_rgba(\"Black\")\n",
    "        self.fc[self.ind] = to_rgba(\"green\")\n",
    "        self.ecal.collection.set_edgecolors(self.fc)\n",
    "        self.canvas.draw_idle()"
   ]
  },
  {
   "cell_type": "code",
   "execution_count": null,
   "id": "afc33df3-f872-4001-b261-a0bf1dd322fc",
   "metadata": {},
   "outputs": [],
   "source": [
    "ecal = ECal(144,46,hits.iloc[0].to_numpy())\n",
    "subplot_kw = dict(xlim=(-10,150), ylim=(-10,50), autoscale_on=False)\n",
    "fig, ax = plt.subplots(figsize=(15,10), subplot_kw=subplot_kw)\n",
    "\n",
    "selector = SelectFromCollection(ax, ecal)\n",
    "#selector.onselect([[0,10],[10,10],[9,10],[0,1]])\n",
    "\n",
    "def accept(event):\n",
    "    if event.key == \"enter\":\n",
    "        print(\"Selected points:\")\n",
    "        print(selector.xys[selector.ind])\n",
    "        selector.disconnect()\n",
    "        ax.set_title(\"\")\n",
    "        fig.canvas.draw()\n",
    "\n",
    "fig.canvas.mpl_connect(\"key_press_event\", accept)\n",
    "ax.set_title(\"Press enter to accept selected points.\")\n",
    "\n",
    "plt.show()"
   ]
  },
  {
   "cell_type": "code",
   "execution_count": null,
   "id": "7074f19b-8584-469f-b433-c04f4f3bf4e9",
   "metadata": {},
   "outputs": [],
   "source": [
    "ecal.collection.get_facecolors()"
   ]
  },
  {
   "cell_type": "code",
   "execution_count": null,
   "id": "bc5df2c8-6369-4b25-879f-2c2e5b50e54a",
   "metadata": {},
   "outputs": [],
   "source": []
  }
 ],
 "metadata": {
  "kernelspec": {
   "display_name": "Python 3.8.13 ('metrics')",
   "language": "python",
   "name": "python3"
  },
  "language_info": {
   "codemirror_mode": {
    "name": "ipython",
    "version": 3
   },
   "file_extension": ".py",
   "mimetype": "text/x-python",
   "name": "python",
   "nbconvert_exporter": "python",
   "pygments_lexer": "ipython3",
   "version": "3.8.13"
  },
  "varInspector": {
   "cols": {
    "lenName": 16,
    "lenType": 16,
    "lenVar": 40
   },
   "kernels_config": {
    "python": {
     "delete_cmd_postfix": "",
     "delete_cmd_prefix": "del ",
     "library": "var_list.py",
     "varRefreshCmd": "print(var_dic_list())"
    },
    "r": {
     "delete_cmd_postfix": ") ",
     "delete_cmd_prefix": "rm(",
     "library": "var_list.r",
     "varRefreshCmd": "cat(var_dic_list()) "
    }
   },
   "types_to_exclude": [
    "module",
    "function",
    "builtin_function_or_method",
    "instance",
    "_Feature"
   ],
   "window_display": false
  },
  "vscode": {
   "interpreter": {
    "hash": "43fd9337e704dd8e13305c807a6b57daa15d25b713892ff9e56b00b5253b2fb7"
   }
  }
 },
 "nbformat": 4,
 "nbformat_minor": 5
}
