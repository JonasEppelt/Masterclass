{
 "cells": [
  {
   "cell_type": "markdown",
   "id": "99e8bf8d-7459-4f77-83ca-babd5cae8d27",
   "metadata": {
    "ExecuteTime": {
     "end_time": "2022-04-25T08:43:36.990150Z",
     "start_time": "2022-04-25T08:43:36.976245Z"
    }
   },
   "source": [
    "# Import"
   ]
  },
  {
   "cell_type": "code",
   "execution_count": null,
   "id": "4d7c0396-aedd-4475-a22a-b8235c913d90",
   "metadata": {
    "ExecuteTime": {
     "end_time": "2022-04-25T08:43:36.990150Z",
     "start_time": "2022-04-25T08:43:36.976245Z"
    }
   },
   "outputs": [],
   "source": [
    "%matplotlib widget\n",
    "import ipywidgets as widgets\n",
    "import matplotlib.pyplot as plt\n",
    "from src.particle import *\n",
    "from src.tracker import *\n",
    "from src.widgets import *\n",
    "import warnings\n",
    "warnings.filterwarnings('ignore')"
   ]
  },
  {
   "cell_type": "markdown",
   "id": "1402e6d3-5864-486e-88ce-d5f020b904f7",
   "metadata": {
    "ExecuteTime": {
     "end_time": "2022-04-25T09:05:05.296167Z",
     "start_time": "2022-04-25T09:05:05.279885Z"
    }
   },
   "source": [
    "# Tracking"
   ]
  },
  {
   "cell_type": "code",
   "execution_count": null,
   "id": "808f1206",
   "metadata": {},
   "outputs": [],
   "source": [
    "def track_values(p, charge=1., B=1.):\n",
    "    return p/(charge*B)"
   ]
  },
  {
   "cell_type": "code",
   "execution_count": null,
   "id": "cf0dc6ab",
   "metadata": {},
   "outputs": [],
   "source": [
    "# load in data\n",
    "\n",
    "data = pd.read_hdf('EEEE/0_allcomb_0.h5')\n",
    "coords = [f'{i}' for i in np.arange(0, 6624)]\n",
    "hits = data[coords]\n",
    "momenta = data.loc[:,['phi', 'pt']]\n",
    "momenta.loc[:,'charge'] = data.loc[:,'pdg']/abs(data.loc[:,'pdg'])\n",
    "momenta.loc[:,'phi'] = momenta.loc[:,'phi']*np.pi/180.\n",
    "momenta.reset_index(inplace = True)\n",
    "momenta"
   ]
  },
  {
   "cell_type": "code",
   "execution_count": null,
   "id": "430944e2-759c-4a68-91a3-4259991acdaa",
   "metadata": {},
   "outputs": [],
   "source": [
    "tw = TrackingWidget(momenta.loc[:1,:], B = 0.1)"
   ]
  },
  {
   "cell_type": "code",
   "execution_count": null,
   "id": "1f0de09b-5f1d-4ec3-8330-3fb0b757d41a",
   "metadata": {
    "scrolled": false
   },
   "outputs": [],
   "source": [
    "tw.show()"
   ]
  },
  {
   "cell_type": "code",
   "execution_count": null,
   "id": "80238006-c88c-4ab7-be3b-ce37da8c31c7",
   "metadata": {},
   "outputs": [],
   "source": [
    "class ECLCrystal:\n",
    "    def __init__(self, x, y, edge, hit=False, center=False, color=\"blue\"):\n",
    "        self.x = x\n",
    "        self.y = y\n",
    "        self.edge = edge\n",
    "        self.hit = hit\n",
    "        self.color = color\n",
    "        self.center = center\n",
    "        self.chosen = False\n",
    "        self.facecolor = to_rgba(\"white\")\n",
    "        self.edgecolor = to_rgba(\"black\")\n",
    "        \n",
    "    def draw(self,ax):\n",
    "        ax.add_patch(Rectangle((self.x, self.y), self.edge, self.edge, edgecolor = self.edgecolor, facecolor = self.check_color(), linewidth = 0.5))\n",
    "        \n",
    "    def get_patch(self):\n",
    "        return Rectangle((self.x, self.y), self.edge, self.edge, edgecolor = self.edgecolor, facecolor = self.check_color(), linewidth = 0.5)\n",
    "    \n",
    "    def check_color(self):\n",
    "        if self.center:\n",
    "            return self.color\n",
    "        elif self.chosen:\n",
    "            return \"red\"\n",
    "        elif self.hit:\n",
    "            return \"red\"\n",
    "        else:\n",
    "            return \"grey\""
   ]
  },
  {
   "cell_type": "code",
   "execution_count": null,
   "id": "16b60d2c-6ed5-42a2-950b-1bf14f91ce43",
   "metadata": {},
   "outputs": [],
   "source": [
    "class ECal:\n",
    "    def __init__(self, nrows, ncols, hits, max_hit, centercolor, crystal_edge = 1):\n",
    "        self.crystals = np.empty((nrows, ncols), dtype = ECLCrystal)\n",
    "        hit = False\n",
    "        center = False\n",
    "        color = 'blue'\n",
    "        for c in range(ncols):\n",
    "            for r in range(nrows):\n",
    "                if hits[144*c+r] > 0.0:\n",
    "                    hit = True\n",
    "                if np.random.rand() < 0.0:\n",
    "                    hit = True\n",
    "                if int(144*c+r) in max_hit.keys():\n",
    "                    center = True\n",
    "                    color = centercolor[max_hit[int(144*c+r)]] \n",
    "                self.crystals[r,c] = ECLCrystal(r*crystal_edge, c*crystal_edge, crystal_edge-0.1, hit=hit, center=center, color=color)\n",
    "                hit = False\n",
    "                center = False\n",
    "    \n",
    "    def draw(self, ax):\n",
    "        for r in self.crystals:\n",
    "            for c in r:\n",
    "                c.draw(ax)\n",
    "    \n",
    "    def draw_collection(self,ax):\n",
    "        ax.add_collection(self.collection)\n",
    "                \n",
    "    def get_coords(self):\n",
    "        coords = []\n",
    "        for cols in self.crystals:\n",
    "            for crystal in cols:\n",
    "                coords.append([crystal.x, crystal.y])\n",
    "        return coords\n",
    "    \n",
    "    def get_collection(self):\n",
    "        crystals = []\n",
    "        for c in self.crystals.flatten():\n",
    "            crystals.append(c.get_patch())\n",
    "        self.collection = PatchCollection(crystals, match_original=True)\n",
    "        return self.collection\n",
    "    \n",
    "    def get_crystal(self, rectangle):\n",
    "        x,y = rectangle.get_xy()\n",
    "        for i,r in enumerate(self.crystals):\n",
    "            for j,c in enumerate(r):\n",
    "                if x == c.x and y==c.y:\n",
    "                    return i,j"
   ]
  },
  {
   "cell_type": "markdown",
   "id": "576118db-8ea4-4e05-9c98-ec07f8d74ac1",
   "metadata": {
    "tags": []
   },
   "source": [
    "## V2"
   ]
  },
  {
   "cell_type": "code",
   "execution_count": null,
   "id": "171b2cc2-a99c-4515-bc15-9e57fcdd117e",
   "metadata": {},
   "outputs": [],
   "source": [
    "import numpy as np\n",
    "import pandas as pd\n",
    "\n",
    "from matplotlib.widgets import LassoSelector\n",
    "from matplotlib.path import Path\n",
    "\n",
    "\n",
    "class SelectFromCollection:\n",
    "\n",
    "    def __init__(self, ax, ecal):\n",
    "        self.canvas = ax.figure.canvas\n",
    "        self.ecal = ecal    \n",
    "        \n",
    "        xy = np.array(ecal.get_coords()).T      \n",
    "        self.ecal.get_collection()\n",
    "        self.ecal.draw_collection(ax)\n",
    "        self.collection = ax.scatter(xy[0], xy[1], s=0)\n",
    "        self.xys = self.collection.get_offsets()\n",
    "        self.Npts = len(self.xys)\n",
    "    \n",
    "        # Ensure that we have separate colors for each object\n",
    "        self.fc = self.ecal.collection.get_edgecolors()\n",
    "        if len(self.fc) == 0:\n",
    "            raise ValueError('Collection must have a facecolor')\n",
    "        elif len(self.fc) == 1:\n",
    "            self.fc = np.tile(self.fc, (self.Npts, 1))\n",
    "        self.lasso = LassoSelector(ax, onselect=self.onselect)\n",
    "        self.ind = []\n",
    "\n",
    "    def onselect(self, verts):\n",
    "        path = Path(verts)\n",
    "        self.ind = np.nonzero(path.contains_points(self.xys))[0]\n",
    "        self.fc[:] = to_rgba(\"Black\")\n",
    "        self.fc[self.ind] = to_rgba(\"green\")\n",
    "        self.ecal.collection.set_edgecolors(self.fc)\n",
    "        self.canvas.draw_idle()"
   ]
  },
  {
   "cell_type": "code",
   "execution_count": null,
   "id": "64800c8a",
   "metadata": {},
   "outputs": [],
   "source": [
    "data = pd.read_hdf('EEEE/0_allcomb_0.h5')\n",
    "coords = [f'{i}' for i in np.arange(0, 6624)]\n",
    "hits = data[coords]\n",
    "\n",
    "max_hit = {}\n",
    "for i in range(4):\n",
    "    max_hit[int(hits.iloc[i].idxmax())] = i"
   ]
  },
  {
   "cell_type": "code",
   "execution_count": null,
   "id": "afc33df3-f872-4001-b261-a0bf1dd322fc",
   "metadata": {},
   "outputs": [],
   "source": [
    "\n",
    "plt.rc('font', size=5) \n",
    "\n",
    "centercolor = ['blue', 'cyan', 'gold', 'chartreuse']\n",
    "\n",
    "ecal = ECal(144,46,hits.sum().to_numpy(), max_hit, centercolor, crystal_edge=5)\n",
    "subplot_kw = dict(xlim=(-5,725), ylim=(-5,235), autoscale_on=False)\n",
    "fig, ax = plt.subplots(figsize=(2,1), subplot_kw=subplot_kw, dpi=400)\n",
    "\n",
    "selector = SelectFromCollection(ax, ecal)\n",
    "#selector.onselect([[0,10],[10,10],[9,10],[0,1]])\n",
    "\n",
    "def accept(event):\n",
    "    if event.key == \"enter\":\n",
    "        print(\"Selected points:\")\n",
    "        print(selector.xys[selector.ind])\n",
    "        selector.disconnect()\n",
    "        ax.set_title(\"\")\n",
    "        fig.canvas.draw()\n",
    "\n",
    "fig.canvas.mpl_connect(\"key_press_event\", accept)\n",
    "ax.set_title(\"Press enter to accept selected points.\")\n",
    "\n",
    "plt.tick_params(left=False,\n",
    "                bottom=False,\n",
    "                labelleft=False,\n",
    "                labelbottom=False)\n",
    "\n",
    "plt.show()"
   ]
  },
  {
   "cell_type": "code",
   "execution_count": null,
   "id": "7074f19b-8584-469f-b433-c04f4f3bf4e9",
   "metadata": {},
   "outputs": [],
   "source": [
    "ecal.collection.get_facecolors()"
   ]
  },
  {
   "cell_type": "code",
   "execution_count": null,
   "id": "bc5df2c8-6369-4b25-879f-2c2e5b50e54a",
   "metadata": {},
   "outputs": [],
   "source": []
  }
 ],
 "metadata": {
  "kernelspec": {
   "display_name": "Python 3 (ipykernel)",
   "language": "python",
   "name": "python3"
  },
  "language_info": {
   "codemirror_mode": {
    "name": "ipython",
    "version": 3
   },
   "file_extension": ".py",
   "mimetype": "text/x-python",
   "name": "python",
   "nbconvert_exporter": "python",
   "pygments_lexer": "ipython3",
   "version": "3.9.6"
  },
  "varInspector": {
   "cols": {
    "lenName": 16,
    "lenType": 16,
    "lenVar": 40
   },
   "kernels_config": {
    "python": {
     "delete_cmd_postfix": "",
     "delete_cmd_prefix": "del ",
     "library": "var_list.py",
     "varRefreshCmd": "print(var_dic_list())"
    },
    "r": {
     "delete_cmd_postfix": ") ",
     "delete_cmd_prefix": "rm(",
     "library": "var_list.r",
     "varRefreshCmd": "cat(var_dic_list()) "
    }
   },
   "types_to_exclude": [
    "module",
    "function",
    "builtin_function_or_method",
    "instance",
    "_Feature"
   ],
   "window_display": false
  },
  "vscode": {
   "interpreter": {
    "hash": "43fd9337e704dd8e13305c807a6b57daa15d25b713892ff9e56b00b5253b2fb7"
   }
  }
 },
 "nbformat": 4,
 "nbformat_minor": 5
}
