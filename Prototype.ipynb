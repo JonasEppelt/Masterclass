{
 "cells": [
  {
   "cell_type": "code",
   "execution_count": null,
   "id": "335e22e4-238d-438c-b662-fc3417424f62",
   "metadata": {
    "ExecuteTime": {
     "end_time": "2022-04-25T08:43:36.990150Z",
     "start_time": "2022-04-25T08:43:36.976245Z"
    }
   },
   "outputs": [],
   "source": [
    "%matplotlib widget\n",
    "import ipywidgets as widgets\n",
    "import matplotlib.pyplot as plt\n",
    "from matplotlib.patches import Rectangle\n",
    "import numpy as np\n",
    "import math\n",
    "from jp_doodle import dual_canvas\n",
    "from IPython.display import display\n",
    "import pandas as pd"
   ]
  },
  {
   "cell_type": "code",
   "execution_count": null,
   "id": "f0d4a932-8615-4aa6-8699-3c8f30c355af",
   "metadata": {
    "ExecuteTime": {
     "end_time": "2022-04-25T09:05:05.296167Z",
     "start_time": "2022-04-25T09:05:05.279885Z"
    }
   },
   "outputs": [],
   "source": [
    "class TrackingSegment:\n",
    "    \n",
    "    def __init__(self, radius, begin, end):\n",
    "        self.radius = radius\n",
    "        self.begin = begin\n",
    "        self.end = end\n",
    "        self.hit = False\n",
    "        t = np.linspace(self.begin, self.end, 100)\n",
    "        self.x = self.radius*np.cos(t)\n",
    "        self.y = self.radius*np.sin(t)\n",
    "        \n",
    "        \n",
    "    def check_hit(self, particle):\n",
    "        d=math.sqrt(particle.x**2 + particle.y**2)\n",
    "        a=(self.radius**2-particle.radius**2+d**2)/(2*d)\n",
    "        h=math.sqrt(abs(self.radius**2-a**2))\n",
    "        x2=a*(particle.x)/d   \n",
    "        y2=a*(particle.y)/d   \n",
    "        x3=x2+h*(particle.y)/d     \n",
    "        y3=y2-h*(particle.x)/d \n",
    "\n",
    "        x4=x2-h*(particle.y)/d\n",
    "        y4=y2+h*(particle.x)/d\n",
    "        \n",
    "        \n",
    "        rho = math.sqrt(x4**2 + y4**2)\n",
    "        theta = np.arctan2(y4,x4)\n",
    "        \n",
    "        if theta < 0:\n",
    "            theta += 2*np.pi\n",
    "        \n",
    "        #print(theta, self.begin, self.end)\n",
    "        #print(self. radius, self.begin/2/np.pi, theta/2/np.pi, self.end/2/np.pi, self.hit)\n",
    "        if theta > self.begin and theta < self.end:\n",
    "            self.hit = True\n",
    "        else:\n",
    "            self.hit = False\n",
    "        #print(self.hit)\n",
    "        return x4, y4\n",
    "    \n",
    "    def draw(self, ax):\n",
    "        ax.plot(self.x,self.y, color = self.check_color(), linewidth = 4)\n",
    "        return \n",
    "        \n",
    "    def check_color(self):\n",
    "        if self.hit:\n",
    "            return \"green\"\n",
    "        else:\n",
    "            return \"black\""
   ]
  },
  {
   "cell_type": "code",
   "execution_count": null,
   "id": "23089cb6-0715-48d8-8f24-5f7664152372",
   "metadata": {
    "ExecuteTime": {
     "end_time": "2022-04-25T08:43:38.067728Z",
     "start_time": "2022-04-25T08:43:38.062538Z"
    }
   },
   "outputs": [],
   "source": [
    "class ECLSegment:\n",
    "    def __init__(self, radius, begin, end, width):\n",
    "        self.radius = radius\n",
    "        self.begin = begin\n",
    "        self.end = end\n",
    "        self.width = width\n",
    "        self.hit = False\n",
    "        \n",
    "    def check_hit(self, particle):\n",
    "        pass\n",
    "    \n",
    "    def draw(self, ax):\n",
    "        t = np.linspace(self.begin, self.end, 100)\n",
    "        x = self.radius*np.cos(t)\n",
    "        y = self.radius*np.sin(t)\n",
    "        ax.plot(x,y, color = self.check_color())\n",
    "        x_ = (self.radius+self.width)*np.cos(t)\n",
    "        y_ = (self.radius+self.width)*np.sin(t)\n",
    "        ax.plot(x_,y_, color = self.check_color())\n",
    "        ax.plot([x[0], x_[0]], [y[0], y_[0]], color = self.check_color())\n",
    "        ax.plot([x[-1], x_[-1]], [y[-1], y_[-1]], color = self.check_color())\n",
    "        return \n",
    "        \n",
    "    def check_color(self):\n",
    "        if self.hit:\n",
    "            return \"green\"\n",
    "        else:\n",
    "            return \"black\""
   ]
  },
  {
   "cell_type": "code",
   "execution_count": null,
   "id": "73796e98-8333-44d9-8aaa-b7444034abb2",
   "metadata": {
    "ExecuteTime": {
     "end_time": "2022-04-25T08:49:37.689931Z",
     "start_time": "2022-04-25T08:49:37.682275Z"
    }
   },
   "outputs": [],
   "source": [
    "class Tracking:\n",
    "    def __init__(self, layers, n_segments):\n",
    "        self.n_segments = n_segments\n",
    "        self.layers = []\n",
    "        for l in range(layers):\n",
    "            self.layers.append([])\n",
    "            len_segment = 2*np.pi/(n_segments+2*l)\n",
    "            for i in range(n_segments+2*l):\n",
    "                print(l, i, round(len_segment*i+(0.2/(l+1)), 3), round(len_segment*(i+1)-(0.2)/(l+1), 3))\n",
    "                self.layers[l].append(TrackingSegment((l+1)/2, len_segment*i+(0.2/(l+1)), len_segment*(i+1)-(0.2)/(l+1)))\n",
    "        self.ecl = []\n",
    "        l = len(self.layers)\n",
    "        len_segment = 2*np.pi/(n_segments+2*l)\n",
    "        for i in range(n_segments+2*l):\n",
    "            self.ecl.append(ECLSegment((l+1)/2, len_segment*i+(0.2/(l+1)), len_segment*(i+1)-(0.2)/(l+1), width = 1))\n",
    "\n",
    "    def draw(self, ax, particle):\n",
    "        for l in self.layers:\n",
    "            for s in l:\n",
    "                s.check_hit(particle)\n",
    "                s.draw(ax)\n",
    "        for e in self.ecl:\n",
    "            e.draw(ax)"
   ]
  },
  {
   "cell_type": "code",
   "execution_count": null,
   "id": "441cbd1c-cc0a-47df-86db-90ad3c5708d2",
   "metadata": {
    "ExecuteTime": {
     "end_time": "2022-04-25T08:43:39.178888Z",
     "start_time": "2022-04-25T08:43:39.174637Z"
    }
   },
   "outputs": [],
   "source": [
    "class Particle:\n",
    "    def __init__(self,r, phi, B=1., charge=1.):\n",
    "        self.x = r*np.cos(phi)\n",
    "        self.y = r*np.sin(phi)\n",
    "        self.radius = r\n",
    "        self.phi = phi\n",
    "        self.B = B\n",
    "        self.charge = charge\n",
    "        \n",
    "    def momentum(self):\n",
    "        return abs(self.radius) * self.B * self.charge\n",
    "    \n",
    "    def draw(self, ax):\n",
    "        self.x = self.radius*np.cos(self.phi)\n",
    "        self.y = self.radius*np.sin(self.phi)\n",
    "        theta = np.linspace(0,np.pi,100)\n",
    "        x = self.radius*np.cos(theta+self.phi)+self.x\n",
    "        y = self.radius*np.sin(theta+self.phi)+self.y\n",
    "        c = \"blue\" if self.radius<0 else \"red\"\n",
    "        self.lines = ax.plot(x,y,color = c, label=f'p = {self.momentum()} GeV')\n",
    "        plt.legend()"
   ]
  },
  {
   "cell_type": "code",
   "execution_count": null,
   "id": "cbc38ee4-4475-4e1c-8ae6-8a3f37528152",
   "metadata": {
    "ExecuteTime": {
     "end_time": "2022-04-25T09:05:08.242660Z",
     "start_time": "2022-04-25T09:05:08.090484Z"
    }
   },
   "outputs": [],
   "source": [
    "# set up plot\n",
    "fig, ax = plt.subplots(figsize=(6,6))\n",
    "ax.set_ylim([-6,6])\n",
    "ax.set_xlim([-6,6])\n",
    "\n",
    "# generate x values\n",
    "x = np.linspace(0, 2 * np.pi, 100)\n",
    " \n",
    "tracking = Tracking(10,10)\n",
    "particle = Particle(10,0)\n",
    " \n",
    "@widgets.interact(phi = (-np.pi,np.pi, 0.1), r = (-5,5,0.1))\n",
    "\n",
    "def update(r=10, phi = 0):\n",
    "    \"\"\"Remove old lines from plot and plot new one\"\"\"\n",
    "    if r != 0 :\n",
    "        [l.remove() for l in ax.lines]\n",
    "        particle.radius = r\n",
    "        particle.phi = phi\n",
    "        particle.draw(ax)\n",
    "        tracking.draw(ax, particle)"
   ]
  },
  {
   "cell_type": "code",
   "execution_count": null,
   "id": "80238006-c88c-4ab7-be3b-ce37da8c31c7",
   "metadata": {},
   "outputs": [],
   "source": [
    "class ECLCrystal:\n",
    "    def __init__(self, x, y, edge):\n",
    "        self.x = x\n",
    "        self.y = y\n",
    "        self.edge = edge\n",
    "        self.hit = False\n",
    "        self.chosen = False\n",
    "        \n",
    "    def draw(self,ax):\n",
    "        ax.rect(name=f\"crystal{self.x}{self.y}\", x=self.x, y=self.y, w = self.edge, h = self.edge, color=\"green\", fill = False)\n",
    "        #ax.add_patch(Rectangle((self.x, self.y), self.edge, self.edge, edgecolor = \"black\", picker = True, pickradius = self.edge, facecolor = self.check_color(), linewidth = 1))\n",
    "    \n",
    "    def check_color(self):\n",
    "        if self.chosen:\n",
    "            return \"red\"\n",
    "        elif self.hit:\n",
    "            return \"green\"\n",
    "        else:\n",
    "            return \"grey\""
   ]
  },
  {
   "cell_type": "code",
   "execution_count": null,
   "id": "9fd73610-80a6-4fe8-81f6-6e89e83ba6d6",
   "metadata": {},
   "outputs": [],
   "source": [
    "class ECal:\n",
    "    def __init__(self, nrows, ncols, crystal_edge = 10):\n",
    "        self.crystals = []\n",
    "        for r in range(nrows):\n",
    "            self.crystals.append([])\n",
    "            for c in range(ncols):\n",
    "                self.crystals[r].append(ECLCrystal(r*crystal_edge, c*crystal_edge, crystal_edge))\n",
    "    \n",
    "    def draw(self, ax):\n",
    "        for r in self.crystals:\n",
    "            for c in r:\n",
    "                c.draw(ax)\n",
    "    def get_crystal(self, rectangle):\n",
    "        x,y = rectangle.get_xy()\n",
    "        for i,r in enumerate(self.crytals):\n",
    "            for j,c in enumerate(r):\n",
    "                if x == c.x and y==c.y:\n",
    "                    return i,j"
   ]
  },
  {
   "cell_type": "code",
   "execution_count": null,
   "id": "ea7d7ade-b0c5-4ded-bab8-43b746d98c4c",
   "metadata": {},
   "outputs": [],
   "source": [
    "class SelectorLasso:\n",
    "    def __init__(self, name, ax, ecal):\n",
    "        self.selected_crystalls = []\n",
    "        self.name = name\n",
    "        self.ax = ax\n",
    "        self.ax.do_lasso(self.callback, delete_after = False, name = self.name)\n",
    "        self.ecal = ecal\n",
    "        \n",
    "    def callback(names_mapping):\n",
    "        self.m = names_mapping\n",
    "        self.selected_crystalls[:] = []\n",
    "        for name in names_mapping:\n",
    "            print(name)\n",
    "            self.selected_crystalls.append(name)\n",
    "            self.ax.change(name, color = \"red\")\n",
    "            \n",
    "    def reset(self,a):\n",
    "        with self.ax.delay_redraw():\n",
    "            self.ax.forget_objects([self.name])\n",
    "            self.ecal.draw(self.ax)\n",
    "            self.ax.do_lasso(self.callback, delete_after = False, name = self.name)\n",
    "            self.selected_crystalls = []\n",
    "            \n",
    "    def connect_buttons(self, button):\n",
    "        button.on_click(self.reset)"
   ]
  },
  {
   "cell_type": "code",
   "execution_count": null,
   "id": "6a2d224f-a289-4d88-86b0-3f95de418bf7",
   "metadata": {},
   "outputs": [],
   "source": [
    "def callback(names_mapping):\n",
    "    selected[:] = []\n",
    "    for name in names_mapping:\n",
    "        selected.append(name)\n",
    "        demo2.change(name, color = \"red\")\n",
    "\n",
    "        \n",
    "def reset(self,a):\n",
    "    with self.ax.delay_redraw():\n",
    "        demo2.forget_objects([self.name])\n",
    "        ecal.draw(self.ax)\n",
    "        demo2.do_lasso(callback, delete_after = False, name = \"lasso\")\n",
    "        seleced = []\n",
    "\n",
    "button = widgets.Button(\n",
    "    description='Reset',\n",
    "    disabled=False,\n",
    "    button_style='',\n",
    "    tooltip='Reset',\n",
    ")"
   ]
  },
  {
   "cell_type": "code",
   "execution_count": null,
   "id": "a6089db9-62a8-4dc0-8978-be8a153bdffa",
   "metadata": {},
   "outputs": [],
   "source": [
    "demo2 = dual_canvas.DualCanvasWidget(width=1600, height=500)\n",
    "ecal = ECal(10,10)#ECal(144,46)\n",
    "#ecal.draw(demo2)\n",
    "lasso = SelectorLasso(\"lasso\", demo2, ecal)\n",
    "lasso.reset(0)\n",
    "button = widgets.Button(\n",
    "    description='Reset',\n",
    "    disabled=False,\n",
    "    button_style='',\n",
    "    tooltip='Reset',\n",
    ")\n",
    "lasso.connect_buttons(button)\n",
    "demo2.do_lasso(lasso.callback, delete_after = False, name = \"lasso\")\n",
    "display(demo2)\n",
    "button"
   ]
  },
  {
   "cell_type": "code",
   "execution_count": null,
   "id": "8e6e9b73-76c5-4a7d-bda6-9a95d5c2d098",
   "metadata": {
    "tags": []
   },
   "outputs": [],
   "source": [
    "lasso.m"
   ]
  },
  {
   "cell_type": "code",
   "execution_count": null,
   "id": "8718eab3-2b0a-4f4e-a79e-754b2234b45d",
   "metadata": {},
   "outputs": [],
   "source": [
    "demo2 = dual_canvas.DualCanvasWidget(width=320, height=220)\n",
    "\n",
    "def make_circles():\n",
    "    for i in range(20, 400, 20):\n",
    "        for j in range(20, 400, 20):\n",
    "            name = \"circle\" + repr((i,j))\n",
    "            demo2.rect(name=name, x=i, y=j, w=4, h=4, color=\"green\")\n",
    "            \n",
    "selected = []\n",
    "def lasso_callback(names_mapping):\n",
    "    selected[:] = []\n",
    "    for name in names_mapping:\n",
    "        selected.append(name)\n",
    "        demo2.change(name, color=\"pink\")\n",
    "\n",
    "lasso_name = \"my_lasso_polygon\"\n",
    "\n",
    "def reset_lasso():\n",
    "    \n",
    "    with demo2.delay_redraw():\n",
    "        demo2.forget_objects([lasso_name])\n",
    "        make_circles()\n",
    "        demo2.do_lasso(c.lasso_callback, delete_after=False, name=lasso_name)\n",
    "\n",
    "reset_lasso()\n",
    "demo2.fit()\n",
    "demo2.debugging_display()\n",
    "display(demo2)"
   ]
  },
  {
   "cell_type": "code",
   "execution_count": null,
   "id": "61676469-3fce-4d82-b0e7-432e655c21eb",
   "metadata": {},
   "outputs": [],
   "source": [
    "selected"
   ]
  },
  {
   "cell_type": "code",
   "execution_count": null,
   "id": "39c6f697-d19c-436f-96e0-0e156edba496",
   "metadata": {},
   "outputs": [],
   "source": []
  }
 ],
 "metadata": {
  "kernelspec": {
   "display_name": "metrics",
   "language": "python",
   "name": "metrics"
  },
  "language_info": {
   "codemirror_mode": {
    "name": "ipython",
    "version": 3
   },
   "file_extension": ".py",
   "mimetype": "text/x-python",
   "name": "python",
   "nbconvert_exporter": "python",
   "pygments_lexer": "ipython3",
   "version": "3.8.12"
  },
  "varInspector": {
   "cols": {
    "lenName": 16,
    "lenType": 16,
    "lenVar": 40
   },
   "kernels_config": {
    "python": {
     "delete_cmd_postfix": "",
     "delete_cmd_prefix": "del ",
     "library": "var_list.py",
     "varRefreshCmd": "print(var_dic_list())"
    },
    "r": {
     "delete_cmd_postfix": ") ",
     "delete_cmd_prefix": "rm(",
     "library": "var_list.r",
     "varRefreshCmd": "cat(var_dic_list()) "
    }
   },
   "types_to_exclude": [
    "module",
    "function",
    "builtin_function_or_method",
    "instance",
    "_Feature"
   ],
   "window_display": false
  }
 },
 "nbformat": 4,
 "nbformat_minor": 5
}
