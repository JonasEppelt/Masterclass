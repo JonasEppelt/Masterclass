{
 "cells": [
  {
   "cell_type": "markdown",
   "id": "bd93b4e7-3033-42fd-81bd-ebe7fce207e0",
   "metadata": {
    "slideshow": {
     "slide_type": "slide"
    },
    "tags": []
   },
   "source": [
    "# Die Suche nach Dunkler Materie\n",
    "\n",
    "Jetzt, da wir wissen, wie wir ganze Ereignisse mit unserem Detektor rekonstruieren können, können wir versuchen nach dunkler Materie zu suchen.\n",
    "Dafür haben wir eine Reihe verschiedener Ereignisse mit einem Dunklen Materie Teilchen vorbereitet. \n",
    "\n",
    "Das Ziel dieser Aufgabe ist es die Masse dieses Teilchens zu bestimmen.\n",
    "Dafür verwenden wir die Spurerekonstruktion, Energiemessung und Teilchenidentifikation aus den letzten beiden Übungen.\n",
    "\n",
    "Sobald wir bestimmt haben, was für bekannte Teilchen in einem Ereignis vorkommen, können wir anfangen, die Erhaltungssätze anzuwenden.\n",
    "Dadurch können wir rausfinden, was für Eigenschaften ein Dunkles Materie Teilchen hat.\n",
    "\n",
    "<div class=\"alert alert-info\">    \n",
    "                           \n",
    "<strong>Aufgabe:</strong>\n",
    "        \n",
    "Um zu beginnen, führe die Zelle unten aus, um die Software und Widgets aus den lezten beiden Übungen wieder zu laden.\n"
   ]
  },
  {
   "cell_type": "code",
   "execution_count": null,
   "id": "984365a4-d438-4651-a151-44949bc37627",
   "metadata": {
    "slideshow": {
     "slide_type": "skip"
    },
    "tags": []
   },
   "outputs": [],
   "source": [
    "%matplotlib widget\n",
    "from belleIImasterclass import *\n",
    "from belleIImasterclass.widgets.tracking import *\n",
    "from belleIImasterclass.particlesmanager import ParticlesManager\n",
    "from belleIImasterclass.elements.ecal import *\n",
    "from belleIImasterclass.widgets.clustering import ECLWidget\n",
    "from belleIImasterclass.widgets.klm import KLMWidget\n",
    "from belleIImasterclass.widgets.energy_widget import EnergyWidget\n",
    "from belleIImasterclass.widgets.IDwidget import IDWidget\n",
    "\n",
    "import numpy as np\n",
    "from itertools import *\n",
    "import matplotlib.pyplot as plt\n",
    "import ipywidgets as widgets\n",
    "import warnings\n",
    "warnings.filterwarnings('ignore')"
   ]
  },
  {
   "cell_type": "markdown",
   "id": "d4a761a0-b427-4270-afd7-be00869a8bc9",
   "metadata": {},
   "source": [
    "## Laden eines Ereignisses\n",
    "\n",
    "Als nächstes, wollen wir ein Ereigniss mit einem Dunklen Materie Teilchen laden. \n",
    "\n",
    "<div class=\"alert alert-block alert-warning\">\n",
    "\n",
    "Trage in der Zelle unten einen Wert für die Event Nummer ein. Dafür kannst du einfach der Stelle `event_number = ` eine Zahl zwischen 0 und 20 eintragen. Führe danach die Zelle aus\n",
    "<strong> Hast du die Zelle schon ausgeführt und möchtest die Zahl ändern, musst du alle folgenden Zellen erneut ausführen! </strong>\n"
   ]
  },
  {
   "cell_type": "code",
   "execution_count": null,
   "id": "d65c5a5e-463b-4963-a85a-fa1539137718",
   "metadata": {
    "slideshow": {
     "slide_type": "skip"
    },
    "tags": []
   },
   "outputs": [],
   "source": [
    "i = 10\n",
    "pm = ParticlesManager(f\"./dm_events\", event_number = i)\n",
    "\n",
    "trackingWidget = TrackingWidget(pm, truthvalues = True)\n",
    "eclWidget = ECLWidget(pm, noise_ratio=0)\n",
    "klmWidget=KLMWidget(pm)\n",
    "idWidget=IDWidget(pm)\n",
    "missingEnergyWidget=EnergyWidget(pm)"
   ]
  },
  {
   "cell_type": "markdown",
   "id": "36da12c0-ba85-4bc8-9f69-eef56a10abb4",
   "metadata": {},
   "source": [
    "## Spurrekonstruction\n",
    "\n",
    "<div class=\"alert alert-info\">    \n",
    "                           \n",
    "<strong>Aufgabe:</strong>\n",
    "        \n",
    "Rekonstruiere die Teilchenspuren im Detektor und bestimme die Ladung und den Impuls."
   ]
  },
  {
   "cell_type": "code",
   "execution_count": null,
   "id": "991b59c1-35d2-427b-80e8-9beba2010362",
   "metadata": {
    "slideshow": {
     "slide_type": "skip"
    },
    "tags": []
   },
   "outputs": [],
   "source": [
    "trackingWidget.show()"
   ]
  },
  {
   "cell_type": "markdown",
   "id": "05e28298-012b-4f69-b6b2-b2c25cbf5720",
   "metadata": {},
   "source": [
    "## Energiemessung\n",
    "\n",
    "<div class=\"alert alert-info\">    \n",
    "                           \n",
    "<strong>Aufgabe:</strong>\n",
    "\n",
    "Bestimme die Energie der Teilchen."
   ]
  },
  {
   "cell_type": "code",
   "execution_count": null,
   "id": "f48532f3-3564-47a3-87c3-7a227e2b0d24",
   "metadata": {
    "slideshow": {
     "slide_type": "skip"
    },
    "tags": []
   },
   "outputs": [],
   "source": [
    "eclWidget.show()"
   ]
  },
  {
   "cell_type": "markdown",
   "id": "31c18190-f604-43db-ba92-55badcc10c6c",
   "metadata": {},
   "source": [
    "## Muondetektor\n",
    "\n",
    "<div class=\"alert alert-info\">    \n",
    "                           \n",
    "<strong>Aufgabe:</strong>\n",
    "\n",
    "Schau im Muondetektor nach, ob die Teilchen dort Signale hinterlassen haben."
   ]
  },
  {
   "cell_type": "code",
   "execution_count": null,
   "id": "d4d0192e-5af1-471c-b5e9-3033d5c550f2",
   "metadata": {
    "slideshow": {
     "slide_type": "skip"
    },
    "tags": []
   },
   "outputs": [],
   "source": [
    "klmWidget.show()"
   ]
  },
  {
   "cell_type": "markdown",
   "id": "469a025d-14cc-4e99-9ec1-bc33ec7aabb7",
   "metadata": {},
   "source": [
    "## Teilchenidentifikation\n",
    "\n",
    "<div class=\"alert alert-info\">    \n",
    "                           \n",
    "<strong>Aufgabe:</strong>\n",
    "\n",
    "Trage nun die gesammelten Informationen zusammen und bestimme die Teilchen."
   ]
  },
  {
   "cell_type": "code",
   "execution_count": null,
   "id": "6421d522-cbb9-4fba-8214-a2307cae16e0",
   "metadata": {
    "slideshow": {
     "slide_type": "skip"
    },
    "tags": []
   },
   "outputs": [],
   "source": [
    "idWidget.show()"
   ]
  },
  {
   "cell_type": "markdown",
   "id": "cc96c5e5-d1ca-4503-8e34-883642ad1426",
   "metadata": {},
   "source": [
    "## Die Masse der Dunkeln Materie\n",
    "<div class=\"alert alert-info\">    \n",
    "                           \n",
    "<strong>Aufgabe:</strong>\n",
    "\n",
    "Nutze die Erhaltungssätze um die Masse des Dunkle Materie Teilchens zu bestimmen."
   ]
  },
  {
   "cell_type": "code",
   "execution_count": null,
   "id": "20cb0767-318f-4412-a3f5-ea7ee8bf25a1",
   "metadata": {
    "slideshow": {
     "slide_type": "skip"
    },
    "tags": []
   },
   "outputs": [],
   "source": [
    "missingEnergyWidget.show()"
   ]
  },
  {
   "cell_type": "markdown",
   "id": "f4e61b4f-60db-4b76-8c25-16ab2c5351ed",
   "metadata": {},
   "source": [
    "<div class = \"alert alert-block alert-success\">\n",
    "Gratulation, du hast nun dein erstes Dunkle Materie Teilchen gefunden und seine Masse bestimmt!\n",
    "Wenn du möchtest, kannst du an den Anfang der Übung gehen, eine andere Ereignisnummer auswählen und von vorne anfangen.\n",
    "</div>"
   ]
  }
 ],
 "metadata": {
  "kernelspec": {
   "display_name": "Python 3 (ipykernel)",
   "language": "python",
   "name": "python3"
  },
  "language_info": {
   "codemirror_mode": {
    "name": "ipython",
    "version": 3
   },
   "file_extension": ".py",
   "mimetype": "text/x-python",
   "name": "python",
   "nbconvert_exporter": "python",
   "pygments_lexer": "ipython3",
   "version": "3.10.11"
  }
 },
 "nbformat": 4,
 "nbformat_minor": 5
}
