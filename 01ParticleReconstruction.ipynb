{
 "cells": [
  {
   "cell_type": "markdown",
   "id": "d5b0bee9-fab2-4842-876c-242fd4ca9c9a",
   "metadata": {
    "slideshow": {
     "slide_type": "skip"
    },
    "tags": []
   },
   "source": [
    "# Teilchenrekonstruction"
   ]
  },
  {
   "cell_type": "markdown",
   "id": "d672b8df-3c4d-40bb-bb60-d2cbda46010d",
   "metadata": {},
   "source": [
    "## Spurenrekonstruktion - Messen von Ladung und Impuls"
   ]
  },
  {
   "cell_type": "markdown",
   "id": "77d5a685-68b7-478e-a8b5-a48af8e22e52",
   "metadata": {},
   "source": [
    "---\n",
    "### Ein Teilchen im Magnetfeld\n",
    "---\n",
    "Bewegt sich ein Teilchen in einem Magnetfeld, ändert es seine Bewegung abhängig davon, wie groß sein Impuls ist und wie es geladen ist.\n",
    "Wir wollen uns jetzt anschauen, was diese Änderungen sind."
   ]
  },
  {
   "cell_type": "markdown",
   "id": "a36f8a51-5244-4a8a-8480-4624fd4046f3",
   "metadata": {
    "slideshow": {
     "slide_type": "slide"
    },
    "tags": []
   },
   "source": [
    "<div class=\"alert alert-block alert-warning\">\n",
    "\n",
    "<strong> Widget 1 </strong>\n",
    "    \n",
    "Führe die Zelle unten aus indem du `strg`+`enter` gleichzeitig drückst.\n",
    "    \n",
    "Auf der linken Seite siehst du dann mehrere Regler und Knöpfe. Damit lassen sich die Eigenschaften des Teilchens und die Stärke des Magnetfeldes einstellen.\n",
    "Auf der rechten Seite siehst du in blau die Flugbahn des Teilchens. Im Moment ist das noch einfach ein Strich. \n",
    "\n",
    " <u> Nimm jetzt den Magnetfeldregler und verändere das Magnetfeld.</u><br>\n",
    "    Wie verändert sich die Flugbahn? \n",
    "    \n",
    " <u> Lass jetzt das Magnetfeld auf einem Wert (der nicht 0 ist!) und ändere die Ladung auf **negativ**.</u><br>\n",
    "    Was hat sich jetzt an der Flugbahn geändert? \n",
    "\n",
    " <u> Verändere jetzt den Impuls des Teilchens. </u> <br>\n",
    "    Wie beeinflusst das die Teilchenbahn?\n",
    "\n",
    " <u> Zuletzt setze die elektrische Ladung auf **neutral**. </u><br>\n",
    "    Wie sieht die Flugbahn des Teilchens jetzt aus?\n",
    "</div>"
   ]
  },
  {
   "cell_type": "code",
   "execution_count": null,
   "id": "6ff6bba4-adba-42e8-9b54-06e6cfc6787a",
   "metadata": {
    "slideshow": {
     "slide_type": "skip"
    },
    "tags": []
   },
   "outputs": [],
   "source": [
    "%matplotlib widget\n",
    "from belleIImasterclass.widgets.charge import ChargeWidget\n",
    "chargeWidget = ChargeWidget()\n",
    "chargeWidget.show()"
   ]
  },
  {
   "cell_type": "markdown",
   "id": "b7b4e50a-09dd-4978-85f6-4e1f08cc61c4",
   "metadata": {
    "slideshow": {
     "slide_type": "skip"
    },
    "tags": []
   },
   "source": [
    "<div class = \"alert alert-info\">\n",
    "\n",
    "Wir wissen jetzt also, wie sich ein Magnetfeld auf die Flugbahn eines Teilchens auswirkt:\n",
    "    \n",
    "- Wenn das Teilchen keine Ladung hat, hat das Magnetfeld keinen Einfluss.\n",
    "- Wenn das Teilchen eine Ladung hat, fliegt es in einem Bogen.\n",
    "- Je größer der Impuls des Teilchens ist, desto kleiner ist der Bogen.\n",
    "- Je schwächer das Magnetfeld ist, desto größer wird der Bogen.\n",
    "- Für ein negatives geladenes Teilchen geht der Bogen in genau die entgegengesetzte Richtung, wie für ein positiv geladenes Teilchen.\n",
    "</div>"
   ]
  },
  {
   "cell_type": "markdown",
   "id": "a8b54812-29da-4a89-a5c0-4bbb3f58c941",
   "metadata": {
    "slideshow": {
     "slide_type": "skip"
    },
    "tags": []
   },
   "source": [
    "<div class = \"alert alert-block alert-success\">\n",
    "Wenn wir also die Flugbahn eines Teilchens durch ein Magnetfeld kennen, können wir herrausfinden, wie groß sein Impuls war und welche Ladung es hatte.\n",
    "</div>"
   ]
  },
  {
   "cell_type": "markdown",
   "id": "4371c1bd-7582-40b6-9e54-7a1e83ec4df2",
   "metadata": {},
   "source": [
    "---\n",
    "### Messen der Flugbahn\n",
    "---\n",
    "Leider ist es sehr schwer sehr kleine Teilchen wie z.B. Elektronen zu filmen. Wir brauchen also eine andere Art und Weise, wie wir die Flugbahn eines Teilchens herrausfinden können.\n",
    "Dafür verwenden wir sogenannte Trackingdetektoren. Solche Detektoren kann man in verschiedenen Varianten bauen. Wir wollen uns hier auf die sogenannten Pixeldetektoren beschränken.\n",
    "\n",
    "Pixeldetektoren sind ähnlich aufgebaut wie der Sensor einer Kamera: Viele kleine Pixel aus z.B. Silizium nebeneinander angeordnet. Jeder Pixel gibt ein Signal, wenn ein *geladenes* Teilchen durch ihn hindurch geht. Mit mehreren Lagen solcher Pixel hintereinander können wir damit die Spur eines Teilchens nachverfolgen.\n",
    "\n",
    "Wie das dann aussieht, schaunen wir uns jetzt mal genauer an.\n"
   ]
  },
  {
   "cell_type": "markdown",
   "id": "a774859a-8c9a-4616-b5a2-6417cb4ec5b5",
   "metadata": {
    "slideshow": {
     "slide_type": "skip"
    },
    "tags": []
   },
   "source": [
    "<div class = \"alert alert-warning\">\n",
    "\n",
    "<strong> Widget 2 </strong>\n",
    "                                 \n",
    "Führe die Zelle unten aus indem du `strg`+`enter` gleichzeitig drückst.\n",
    "\n",
    "Auf der linken Seite siehtst du die gleichen Kontrollmöglichkeiten wie vorher.\n",
    "    \n",
    "Rechts siehtst du auch wieder die Teilchenspur in blau. Zusätzlich siehst du jetzt mehrere Lagen eines Pixeldetektors. Jedes Pixel, durch das das Teilchen geht gibt ein Signal. Wir zeigen das an, indem wir den Pixel blau einfärben. \n",
    "\n",
    "    \n",
    "<u> Stelle den Impuls und das Magnetfeld auf einen beliebigen Wert (außer 0) ein. Wähle die elektrische Ladung *positiv*. Stelle nun verschiedene Winkel ein. </u> <br>\n",
    "    Wie verändert sich welche Pixel getroffen werden?\n",
    "\n",
    "<u> Wähle nun die Ladung *neutral* aus. </u> <br>\n",
    "Wie sieht die Flugbahn des Teilchens aus? Wie viele Pixel werden jetzt getroffen? Warum?\n",
    "\n",
    "<u> Stelle nun die Ladung wieder auf *positiv* oder *negativ*. Verändere den Winkel um so wenig wie möglich. </u> <br>\n",
    "Wie viele Pixel ändern ihre Farbe? \n",
    "    \n",
    "</div>    "
   ]
  },
  {
   "cell_type": "code",
   "execution_count": null,
   "id": "0419a690-df07-4e02-a5bd-6c9681c1dc82",
   "metadata": {
    "slideshow": {
     "slide_type": "skip"
    },
    "tags": []
   },
   "outputs": [],
   "source": [
    "from belleIImasterclass.widgets.trackingDemo import TrackingDemonstratorWidget\n",
    "trackingDemoWidget = TrackingDemonstratorWidget()\n",
    "trackingDemoWidget.show()"
   ]
  },
  {
   "cell_type": "markdown",
   "id": "6f803283-b0aa-43b3-bc2d-f62943ab5cc1",
   "metadata": {},
   "source": [
    "<div class = \"alert alert-info\">\n",
    "\n",
    "Wir können also die Flugbahn eines *geladenen* Teilchens in Pixeln messen.\n",
    "    \n",
    "- Von *neutral* geladenen Teilchen können wir keine Spur messen. \n",
    "- Weil die Pixel aber eine gewisse größe haben, können wir nicht beliebig genau messen. Wie genau wir etwas messen können, nennen wir Auflösung.\n",
    "</div>"
   ]
  },
  {
   "cell_type": "markdown",
   "id": "574e36e0-f5db-4af7-8de4-a00fcb721be3",
   "metadata": {
    "slideshow": {
     "slide_type": "fragment"
    },
    "tags": []
   },
   "source": [
    "---\n",
    "### Detektorrauschen\n",
    "---\n",
    "\n",
    "\n",
    "\n",
    "Leider ist unser Detektor in Wirklichkeit nicht so schön eindeutig, wie es in der Aufgaben oben dargestellt ist. Einzelne Detektorteile können auch zufällig falsche Signale geben und erschweren uns damit die Arbeit.\n",
    "\n",
    "Vermutlich kennst du so etwas von Bildern, besonders, wenn sie im Dunkeln gemacht wurden. Es gibt ein **Rauschen**, das das Bild unschärfer macht und es schwerer macht, feinere Strukturen zu erkennen.\n",
    "\n",
    "Genau das Gleiche kann auch hier bei dem Spurdetektor passieren. \n"
   ]
  },
  {
   "cell_type": "markdown",
   "id": "866714e2-211a-48f8-b436-1c9b9f416e76",
   "metadata": {
    "slideshow": {
     "slide_type": "slide"
    },
    "tags": []
   },
   "source": [
    "---\n",
    "### Bestimme ein Teilchen im Spurdetektor\n",
    "---"
   ]
  },
  {
   "cell_type": "markdown",
   "id": "999a46f3-06ed-4b35-b143-2b3f1aa21628",
   "metadata": {
    "slideshow": {
     "slide_type": "fragment"
    },
    "tags": []
   },
   "source": [
    "<div class=\"alert alert-warning\">\n",
    "\n",
    "<strong>Widget 3 </strong>\n",
    "    \n",
    "Führe die Zelle unten aus indem du `strg`+`enter` gleichzeitig drückst.\n",
    "    \n",
    "Links siehst du eine Box, in der `Teilchen 0` steht. Klick darauf und du siehst wieder die bekannten Kontrolpanels und die Teilchenflugbahn ist rechst wieder in blau eingezeichnet.\n",
    "\n",
    "Eine Anzahl Pixel hat einen Treffer registriert (rot eingefärbt).\n",
    "\n",
    "<u> Nutze die Regler auf der rechten Seite für Impuls ($p_T$), Winkel ($\\phi$) und elektrische Ladung um die Flugbahn zu finden, die zu den roten Treffern passt. </u> <br>\n",
    "Zur Unterstützung  werden alle Pixel, von der aktuel eingestellten Flugbahn getroffen werden blau eingefärbt. \n",
    "Welcher Impuls, welcher Winkel und welche elektrische Ladung passen zu den Treffern?    \n",
    "    \n",
    "</div>"
   ]
  },
  {
   "cell_type": "code",
   "execution_count": null,
   "id": "22363767-3591-471f-8919-e0e656a7df38",
   "metadata": {
    "slideshow": {
     "slide_type": "skip"
    },
    "tags": []
   },
   "outputs": [],
   "source": [
    "from belleIImasterclass.particlesmanager import ParticlesManager\n",
    "pm = ParticlesManager(f\"./events/a_electron.csv\",)\n",
    "from belleIImasterclass.widgets.tracking import TrackingWidget\n",
    "tw=TrackingWidget(pm, noise_ratio = 0)\n",
    "tw.show()"
   ]
  },
  {
   "cell_type": "markdown",
   "id": "63e8478f-2edc-4ac8-9492-3c4240450873",
   "metadata": {
    "slideshow": {
     "slide_type": "slide"
    },
    "tags": []
   },
   "source": [
    "---\n",
    "## Clustering - Messen der Energie\n",
    "---"
   ]
  },
  {
   "cell_type": "markdown",
   "id": "b51fa470-5902-4f8a-a5dc-d523fc18adfa",
   "metadata": {},
   "source": [
    "---\n",
    "### Clustern von Kristallen im elektromagnetischen Kalorimeter\n",
    "---"
   ]
  },
  {
   "cell_type": "markdown",
   "id": "2f70f237-29e7-4e36-a197-a01348b8c391",
   "metadata": {
    "slideshow": {
     "slide_type": "fragment"
    },
    "tags": []
   },
   "source": [
    "<div class=\"alert alert-warning\">\n",
    "\n",
    "<strong>Widget 4 </strong>\n",
    "    \n",
    "Führe die Zelle unten aus indem du `strg`+`enter` gleichzeitig drückst.\n",
    "\n",
    "Auf der linken Seite siehst du die dir bereits bekannte auswahl der Teilchen.\n",
    "    \n",
    "Rechts siehst du das Kalorimeter ausgerollt. Jedes der Vierecke steht dabei für einen Kristal. \n",
    "Die Kristalle in der unteren, rechteckigen Fläche sind aus dem Mantel. Die beiden kreisförmigen Anordnungen sind aus den beiden Endkappen.\n",
    "Je $\\color{red}{\\text{roter}}$ die Kristalle eingefärbt sind, desto mehr Energie haben sie gemessen.\n",
    "Sind sie grau eingefärbt, bedeutet das, dass sie keine Energie gemessen haben.\n",
    "\n",
    "<u> Wähle das Teilchen 0 auf der linken Seite aus.</u> <br>\n",
    "Mit einem blauen Kreis wird der Bereich gekennzeichnet, an dem die Spur, die du oben gezeichnet hast, auf das Kalorimeter trifft.\n",
    "    \n",
    "<u> Du kannst dann mit gedrückter Maustaste all die Kristalle umranden, die rot eingefärbt sind. </u> <br>\n",
    "Alle Kristalle, die du ausgewählt hast, werden blau umrandet. Falls du Probleme hast die richtigen Kristalle auszuwählen, kannst du die Kontrollleiste rechtsnutzen, die auftaucht, wenn du mit der Maus über die Grafik fährst.\n",
    "\n",
    "Was für eine Energie hat das Teilchen?\n",
    "</div>"
   ]
  },
  {
   "cell_type": "code",
   "execution_count": null,
   "id": "71468031-58ce-4548-8cbe-062f42293b73",
   "metadata": {
    "slideshow": {
     "slide_type": "skip"
    },
    "tags": []
   },
   "outputs": [],
   "source": [
    "from belleIImasterclass.widgets.clustering import ECLWidget\n",
    "ew = ECLWidget(pm, noise_ratio=0.)\n",
    "ew.show()"
   ]
  },
  {
   "cell_type": "markdown",
   "id": "41f1f449-7f5e-44fc-afac-d5de635542f0",
   "metadata": {
    "slideshow": {
     "slide_type": "skip"
    },
    "tags": []
   },
   "source": [
    "Auch die Form des Energiecluster unterscheidet sich für die verschiedenen Teilchenarten.\n",
    "Diese Signatur kann ebenfalls verwendet werden, um Teilchen zu identifizieren.\n",
    "<div class=\"alert alert-info\">    \n",
    "                                  \n",
    "<strong>Aufgabe:</strong>\n",
    "        \n",
    "Du kannst dir im Folgenden die verschiedenen Teilchen anschauen, um dich mit den Signaturen vertraut zu machen."
   ]
  },
  {
   "cell_type": "markdown",
   "id": "f4d6f449-154e-4046-af47-c9abccfd6cf3",
   "metadata": {
    "slideshow": {
     "slide_type": "slide"
    },
    "tags": []
   },
   "source": [
    "---\n",
    "## Detektorrauschen\n",
    "---"
   ]
  },
  {
   "cell_type": "markdown",
   "id": "ee794700-1d40-4a96-aee9-c6e38b5c5a42",
   "metadata": {
    "slideshow": {
     "slide_type": "fragment"
    },
    "tags": []
   },
   "source": [
    "Wie auch beim Spurdetektor gibt es auch beim elektromagnetischen Kalorimeter Rauschen, was es uns erschwert, die Energie zu messen.\n",
    "\n",
    "<div class=\"alert alert-info\">    \n",
    "                           \n",
    "<strong>Aufgabe:</strong>\n",
    "        \n",
    "Bestimme die Art und Energie der 2 Teilchen bei Detektorrauschen."
   ]
  },
  {
   "cell_type": "markdown",
   "id": "b41b9e7d-a9e3-4eab-b00c-fbb176d0d69e",
   "metadata": {
    "slideshow": {
     "slide_type": "fragment"
    },
    "tags": []
   },
   "source": [
    "<div class=\"alert alert-warning\">\n",
    "                              \n",
    "<strong>Hinweis:</strong>\n",
    "\n",
    "Um den Cluster für das nächste Teilchen auszuwählen, kannst du hier das Dropdown-Menu nutzen. Bereits ausgewählte Cluster werden als Erinnerung wieder gelb eingefärbt."
   ]
  },
  {
   "cell_type": "code",
   "execution_count": null,
   "id": "e1e332f3-0a38-40b4-a7f6-16a82f51a3f8",
   "metadata": {
    "slideshow": {
     "slide_type": "skip"
    },
    "tags": []
   },
   "outputs": [],
   "source": [
    "%matplotlib widget\n",
    "from belleIImasterclass.widgets.clustering import ECLWidget\n",
    "from belleIImasterclass.particlesmanager import ParticlesManager\n",
    "\n",
    "ew = ECLWidget(pm)\n",
    "ew.show()"
   ]
  },
  {
   "cell_type": "markdown",
   "id": "e48e748a-b95e-47a1-9b3e-0fcf5d480ba7",
   "metadata": {
    "slideshow": {
     "slide_type": "slide"
    },
    "tags": []
   },
   "source": [
    "## Spezialdetektoren und Teilchenidentifikation"
   ]
  },
  {
   "cell_type": "code",
   "execution_count": null,
   "id": "4d5bf3e4-ac19-495f-bc37-d481e6471184",
   "metadata": {},
   "outputs": [],
   "source": [
    "from belleIImasterclass.widgets.klm import KLMWidget\n",
    "klmWidget=KLMWidget(pm)\n",
    "klmWidget.show()"
   ]
  },
  {
   "cell_type": "code",
   "execution_count": null,
   "id": "ad1ee21d-4496-49ad-8974-e84e5a3dbecf",
   "metadata": {},
   "outputs": [],
   "source": []
  }
 ],
 "metadata": {
  "kernelspec": {
   "display_name": "Python 3 (ipykernel)",
   "language": "python",
   "name": "python3"
  },
  "language_info": {
   "codemirror_mode": {
    "name": "ipython",
    "version": 3
   },
   "file_extension": ".py",
   "mimetype": "text/x-python",
   "name": "python",
   "nbconvert_exporter": "python",
   "pygments_lexer": "ipython3",
   "version": "3.9.13"
  }
 },
 "nbformat": 4,
 "nbformat_minor": 5
}
