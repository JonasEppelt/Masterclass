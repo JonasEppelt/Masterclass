{
 "cells": [
  {
   "cell_type": "markdown",
   "id": "9c4b894e-679c-47d0-a9d5-d5ea5535b444",
   "metadata": {},
   "source": [
    "# Interpretation von Ereignissen"
   ]
  },
  {
   "cell_type": "markdown",
   "id": "07cbd71d-bc2e-4e47-b814-6ab6154d3e17",
   "metadata": {},
   "source": [
    "<div class=\"alert alert-info\">\n",
    "<strong>Aufgabe:</strong>\n",
    "Führe die untere Zelle aus, um die Aufgabe zu starten."
   ]
  },
  {
   "cell_type": "code",
   "execution_count": 2,
   "id": "44fd4566-2e56-4626-b5c1-e8d15eadd2d6",
   "metadata": {},
   "outputs": [],
   "source": [
    "%matplotlib widget\n",
    "from src.widgets import *\n",
    "import warnings\n",
    "warnings.filterwarnings('ignore')\n",
    "two_particle_event = \"dark_matter_events/dark_matter_event_0.h5\""
   ]
  },
  {
   "cell_type": "code",
   "execution_count": 3,
   "id": "21571317-b7e4-403b-89e1-e8c67cc49938",
   "metadata": {},
   "outputs": [
    {
     "data": {
      "text/html": [
       "<style>\n",
       "div.jupyter-widgets.widget-label {display: none;}\n",
       "</style>\n"
      ],
      "text/plain": [
       "<IPython.core.display.HTML object>"
      ]
     },
     "metadata": {},
     "output_type": "display_data"
    }
   ],
   "source": [
    "%%html\n",
    "<style>\n",
    "div.jupyter-widgets.widget-label {display: none;}\n",
    "</style>"
   ]
  },
  {
   "cell_type": "markdown",
   "id": "9504e6b4-a838-424e-9db4-6e054bd498b1",
   "metadata": {},
   "source": [
    "# Ein Ereignis mit Dunkler Materie"
   ]
  },
  {
   "cell_type": "markdown",
   "id": "70ad8724-e6f2-4f1d-af4e-e8ff56274476",
   "metadata": {},
   "source": [
    "Ihr solltet jetzt damit vertraut sein wie ihr Teilchen im Detektor findet, ihre Spur, Energie und Masse bestimmen könnt.\n",
    "Dieses wissen könnt ihr jetzt nutzen um euch auf die Suche eines Teilchens der Dunklen Materie zu geben.\n",
    "Wir haben für euch ein mögliches Beispiel vorbereitet.\n",
    "Wie bereits bekannt, starten wir wieder mit den Spuren und Energieclustern."
   ]
  },
  {
   "cell_type": "markdown",
   "id": "cc18f036-f790-4e5f-98b0-16ce33330d82",
   "metadata": {},
   "source": [
    "<div class=\"alert alert-info\">\n",
    "<strong>Aufgabe:</strong>\n",
    "\n",
    "Rekonstruiere die Spuren der vier Teilchen."
   ]
  },
  {
   "cell_type": "code",
   "execution_count": null,
   "id": "affd1c48-6798-4c14-a370-4acf022acb8d",
   "metadata": {},
   "outputs": [],
   "source": [
    "tw = TrackingWidget(two_particle_event)\n",
    "tw.show()"
   ]
  },
  {
   "cell_type": "markdown",
   "id": "05069d37-a9e8-49c1-b7b2-a2086ad9c516",
   "metadata": {},
   "source": [
    "<div class=\"alert alert-info\">\n",
    "<strong>Aufgabe:</strong>\n",
    "\n",
    "Rekonstruiere die Cluster der vier Teilchen."
   ]
  },
  {
   "cell_type": "code",
   "execution_count": null,
   "id": "d99518bf-d972-491c-9ede-7e8582b29126",
   "metadata": {},
   "outputs": [],
   "source": [
    "ew = ECLWidget(two_particle_event)\n",
    "ew.show()"
   ]
  },
  {
   "cell_type": "markdown",
   "id": "0ef21bed-1d5c-4356-b85f-91bf810e1a35",
   "metadata": {},
   "source": [
    "# Identifizierung der gemessenen Teilchen\n",
    "Jetzt können wir auch wieder versuchen die Teilchen zu identifizieren."
   ]
  },
  {
   "cell_type": "markdown",
   "id": "676a181b-f5fb-42d2-b750-09ddcc084b92",
   "metadata": {},
   "source": [
    "<div class=\"alert alert-info\">\n",
    "<strong>Aufgabe:</strong>\n",
    "\n",
    "Identfiziere die Teilchen"
   ]
  },
  {
   "cell_type": "code",
   "execution_count": 4,
   "id": "0fa0a8a2-3582-41bb-990c-de917c2c903e",
   "metadata": {},
   "outputs": [
    {
     "ename": "NameError",
     "evalue": "name 'ew' is not defined",
     "output_type": "error",
     "traceback": [
      "\u001b[0;31m---------------------------------------------------------------------------\u001b[0m",
      "\u001b[0;31mNameError\u001b[0m                                 Traceback (most recent call last)",
      "\u001b[0;32m/tmp/ipykernel_1053203/3803935254.py\u001b[0m in \u001b[0;36m<module>\u001b[0;34m\u001b[0m\n\u001b[0;32m----> 1\u001b[0;31m \u001b[0mmw\u001b[0m \u001b[0;34m=\u001b[0m \u001b[0mMatchingWidget\u001b[0m\u001b[0;34m(\u001b[0m\u001b[0mew\u001b[0m\u001b[0;34m,\u001b[0m \u001b[0mtw\u001b[0m\u001b[0;34m)\u001b[0m\u001b[0;34m\u001b[0m\u001b[0;34m\u001b[0m\u001b[0m\n\u001b[0m\u001b[1;32m      2\u001b[0m \u001b[0mmw\u001b[0m\u001b[0;34m.\u001b[0m\u001b[0mshow\u001b[0m\u001b[0;34m(\u001b[0m\u001b[0;34m)\u001b[0m\u001b[0;34m\u001b[0m\u001b[0;34m\u001b[0m\u001b[0m\n",
      "\u001b[0;31mNameError\u001b[0m: name 'ew' is not defined"
     ]
    }
   ],
   "source": [
    "mw = MatchingWidget(ew, tw)\n",
    "mw.show()"
   ]
  },
  {
   "cell_type": "markdown",
   "id": "7a0d120e-99a8-49e8-aaf1-a127f81add40",
   "metadata": {},
   "source": [
    "# Berechnen des Dunklen Materie Teilchens\n"
   ]
  },
  {
   "cell_type": "code",
   "execution_count": null,
   "id": "bacac43c-3886-4a09-8660-01bd2134bc8a",
   "metadata": {},
   "outputs": [],
   "source": []
  }
 ],
 "metadata": {
  "kernelspec": {
   "display_name": "Python 3 (ipykernel)",
   "language": "python",
   "name": "python3"
  },
  "language_info": {
   "codemirror_mode": {
    "name": "ipython",
    "version": 3
   },
   "file_extension": ".py",
   "mimetype": "text/x-python",
   "name": "python",
   "nbconvert_exporter": "python",
   "pygments_lexer": "ipython3",
   "version": "3.8.8"
  },
  "widgets": {
   "application/vnd.jupyter.widget-state+json": {
    "state": {},
    "version_major": 2,
    "version_minor": 0
   }
  }
 },
 "nbformat": 4,
 "nbformat_minor": 5
}
