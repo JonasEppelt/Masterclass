get_ipython().run_line_magic("matplotlib", " widget")
from src.widgets import *
import warnings
import os
warnings.filterwarnings('ignore')


get_ipython().run_line_magic("load_ext", " autoreload")
get_ipython().run_line_magic("autoreload", " 2")


import copy
import pandas as pd


path = "/ceph/jeppelt/girlsday/results"
list_of_ls = os.popen(f"ls {path}").read().split('\n')[:-1]
print(len(list_of_ls))


i = 3
ev = list_of_ls[i]
print(ev.split(r".")[0])
path_ = f"{path}/{ev.split('.')[0]}/{ev}.h5"
tw = TrackingWidget(path_, noise=0.0, show_truthbutton=True)
tw.show()


ew = ECLWidget(path_, noise_rate = 0.0)
ew.show()


tw.particles_df.energy



