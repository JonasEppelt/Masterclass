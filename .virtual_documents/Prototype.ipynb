get_ipython().run_line_magic("matplotlib", " ipympl")
from src.widgets import *
import warnings
import os
warnings.filterwarnings('ignore')


get_ipython().run_cell_magic("html", "", """<style>
div.jupyter-widgets.widget-label {display: none;}
</style>""")


get_ipython().run_line_magic("load_ext", " autoreload")
get_ipython().run_line_magic("autoreload", " 2")


import copy
import pandas as pd


path = "/ceph/jeppelt/girlsday/results"
list_of_ls = os.popen(f"ls {path}").read().split('\n')[:-1]
print(len(list_of_ls))


list_of_ls_ = []
for ev in list_of_ls:
    if "pipi" in ev and not "ee" in ev:
        list_of_ls_.append(ev)


for ev in list_of_ls_:
    path_ = f"{path}/{ev}/{ev}.h5" #{ev.split('.')[0]}/.h5
    df = pd.read_hdf(path_)
    print(path_)
    print(df.loc[:,["px", "py", "pz", "energy", "pt", "phi", "theta", "pdg"]])
    tw = TrackingWidget(path_, noise=0.0, show_truthbutton=True)
    tw.show()
    break


ew = ECLWidget(path_, noise_rate = 0.0)
ew.show()






