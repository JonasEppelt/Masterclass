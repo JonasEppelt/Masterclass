get_ipython().run_line_magic("matplotlib", " widget")
from src.widgets import *
import warnings
warnings.filterwarnings('ignore')
two_particle_event = "4part_event/4part_event_0.h5"


tw = TrackingWidget(two_particle_event)
tw.show()


ew = ECLWidget(two_particle_event)
ew.show()


mw = MatchingWidget(ew, tw)
mw.show()
