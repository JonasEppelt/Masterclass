print("Hello World!")


get_ipython().run_line_magic("matplotlib", " widget")
import ipywidgets as widgets
import matplotlib.pyplot as plt
import pandas as pd
from src.particle import *
from src.tracker import *
from src.widgets import *
import warnings
warnings.filterwarnings('ignore')


get_ipython().run_cell_magic("html", "", """<style>
div.jupyter-widgets.widget-label {display: none;}
</style>""")


tw = TestDetektor(layers = 4)
tw.show()


tw = TestDetektor(layers = 10)
tw.show()


tw=TrackingWidget('introduction_events/single_track2.h5', noise = 0, show_truthbutton = True)
tw.show()


tw=TrackingWidget('introduction_events/single_track.h5', show_truthbutton = True, noise = 0.1)
tw.show()


ew = ECLWidget('introduction_events/electron.h5', noise_rate = 0.00, )
ew.show()


ew = ECLWidget('introduction_events/positron.h5', noise_rate = 0.00, )
ew.show()


ew = ECLWidget('introduction_events/muon.h5', noise_rate = 0.00, )
ew.show()


ew = ECLWidget('introduction_events/pion.h5', noise_rate = 0.00, )
ew.show()


ew = ECLWidget('barrel/ECLnoise.h5', noise_rate = 0.05)
ew.show()
