print("Hello World!")


get_ipython().run_line_magic("matplotlib", " widget")
import ipywidgets as widgets
import matplotlib.pyplot as plt
import pandas as pd
from src.particle import *
from src.tracker import *
from src.widgets import *
import warnings
warnings.filterwarnings('ignore')


tw = TestDetektor(layers = 4)
tw.show()


tw = TestDetektor(layers = 10)
tw.show()


tw=TrackingWidget('events/single_track.h5', noise = 0, show_truthbutton = True)
tw.show()


tw=TrackingWidget('events/single_track.h5', show_truthbutton = True)
tw.show()


ew = ECLWidget('barrel/electron.h5', noise_rate = 0.00, )
ew.show()


ew = ECLWidget('barrel/positron.h5', noise_rate = 0.00, )
ew.show()


ew = ECLWidget('barrel/muon.h5', noise_rate = 0.00, )
ew.show()


ew = ECLWidget('barrel/pion.h5', noise_rate = 0.00, )
ew.show()


ew = ECLWidget('barrel/ECLnoise.h5', noise_rate = 0.05)
ew.show()
