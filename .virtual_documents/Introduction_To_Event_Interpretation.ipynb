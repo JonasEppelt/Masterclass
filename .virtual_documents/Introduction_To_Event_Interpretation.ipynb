get_ipython().run_line_magic("matplotlib", " widget")
from src.widgets import *
import warnings
warnings.filterwarnings('ignore')
two_particle_event = "barrel/corrected_fourparticles_2150.h5"


tw = TrackingWidget(two_particle_event, noise=0.0)
tw.show()


ew = ECLWidget(two_particle_event, noise_rate = 0.00)
ew.show()


mw = MatchingWidget(ew, tw)
mw.show()



