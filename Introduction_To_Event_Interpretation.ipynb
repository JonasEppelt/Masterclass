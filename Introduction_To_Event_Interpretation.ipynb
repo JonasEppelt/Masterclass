{
 "cells": [
  {
   "cell_type": "markdown",
   "id": "f0188369-84b1-4cb3-8bd3-10c8a32aa57b",
   "metadata": {},
   "source": [
    "# Einführung zu Ereignissinterpretation"
   ]
  },
  {
   "cell_type": "markdown",
   "id": "a130644e-5d3e-4e92-ac40-4651f3ae8f89",
   "metadata": {},
   "source": [
    "<div class=\"alert alert-info\">\n",
    "<strong>Aufgabe:</strong>\n",
    "Führe die untere Zelle aus, um die Aufgabe zu starten."
   ]
  },
  {
   "cell_type": "code",
   "execution_count": 1,
   "id": "d56d905b-27bc-4a0c-970a-180b55dcba79",
   "metadata": {},
   "outputs": [],
   "source": [
    "%matplotlib widget\n",
    "from src.widgets import *\n",
    "import warnings\n",
    "warnings.filterwarnings('ignore')\n",
    "two_particle_event = \"2part_events/2part_event_0.h5\""
   ]
  },
  {
   "cell_type": "code",
   "execution_count": 2,
   "id": "6dd9cb42-a3b5-4391-bdd1-0b71b304c0dd",
   "metadata": {},
   "outputs": [
    {
     "data": {
      "text/html": [
       "<style>\n",
       "div.jupyter-widgets.widget-label {display: none;}\n",
       "</style>\n"
      ],
      "text/plain": [
       "<IPython.core.display.HTML object>"
      ]
     },
     "metadata": {},
     "output_type": "display_data"
    }
   ],
   "source": [
    "%%html\n",
    "<style>\n",
    "div.jupyter-widgets.widget-label {display: none;}\n",
    "</style>"
   ]
  },
  {
   "cell_type": "markdown",
   "id": "8a12e208-37ad-4e26-91df-0556fc4d2fc6",
   "metadata": {},
   "source": [
    "## Was ist ein Ereignis?"
   ]
  },
  {
   "cell_type": "markdown",
   "id": "a4ec8c88-c8fa-4893-8a6d-4e0164e7030a",
   "metadata": {},
   "source": [
    "Ein Teilchendetektor sieht meistens nicht nur ein Teilchen nach dem anderen, sondern mehrere gleichzeitig. Nimmt ein Detektor also mehrere Teilchen gleichzeitig wahr, wird das ein Ereignis genannt. Wie genau das Ereignis aussieht, können wir im Voraus nicht sagen, sondern müssen es nach der Auswertung entscheiden. Es gibt aber bestimmte Muster, die für alle Ereignisse gelten:\n",
    " - *Energieerhaltung*: Die Summe der Energien am Anfang des Ereignisses ist gleich der Summe der Energien am Ende des Ereignis. Anders gesagt: Energie kann nicht einfach verschwinden.\n",
    " - *Ladungserhaltung*: Die Summe der Ladungen am Anfang des Ereignisses ist gleich der Summe der Ladungen am Ende des Ereignis.\n",
    " - *Impulserhaltung*: Die Summe aller Impulse am Anfang des Ereignisses ist gleich der Summe der Impulse am Ende des Ereignis. \n",
    " \n",
    " Da wir genau wissen, wie groß die Energie, die Ladung und der Impuls der Elektronen und Positronen, die wir miteinander kollidieren, ist, wissen wir auch das Ergebnis, was am Ende des Ereignisses herauskommen muss. Das erleichtert uns das Auswerten unserer Detektordaten und hilft uns, zu überprüfen, ob wir alles richtig gemacht haben."
   ]
  },
  {
   "cell_type": "markdown",
   "id": "a01ec78f-967c-4500-8826-44210c01f176",
   "metadata": {
    "tags": []
   },
   "source": [
    "# Ein Ereignis mit zwei Teilchen"
   ]
  },
  {
   "cell_type": "markdown",
   "id": "1b95fab2-4167-4453-8859-fb7d08c2ffb5",
   "metadata": {},
   "source": [
    "## Rekonstruieren zweier Teilchenspuren"
   ]
  },
  {
   "cell_type": "markdown",
   "id": "6ff9554f-f8ac-45ef-ad40-431d76be8a89",
   "metadata": {},
   "source": [
    "Wir verwenden wieder den Detektor aus den vorherigen Aufgaben. Jetzt schauen wir uns ein Kollisionsereignis an, in dem wir gleich zwei Teilchen gemessen haben. Damit müssen auch zwei Spuren rekonstruiert werden. Natürlich können wir nur aus den Detektordaten nicht erkennen, wo welches Teilchen war. Mithilfe von zusätzlichen Informationen wie der Zeit der Messung können wir Anhaltspunkte finden. \n",
    "\n",
    "Um es dir hier einfacher zu machen, geben wir dir den Endpunkt der Spur des jeweiligen Teilchens an, also wo es in unserem elektromagnetischen Kalorimeter gelandet ist. Außerdem zeigen wir für diese Einführung das Detektorrauschen nicht an, das heißt, es werden nur die tatsächlichen Signale der Teilchen angezeigt."
   ]
  },
  {
   "cell_type": "markdown",
   "id": "34c296af-2088-4a0f-9ce0-774ea49c85fb",
   "metadata": {},
   "source": [
    "<div class=\"alert alert-info\">\n",
    "<strong>Aufgabe:</strong>\n",
    "\n",
    "Rekonstruiere die Spuren der beiden Teilchen."
   ]
  },
  {
   "cell_type": "markdown",
   "id": "38798815-2de2-425f-a8cb-30d71747438d",
   "metadata": {},
   "source": [
    "<div class=\"alert alert-warning\">\n",
    "<strong>Hinweis:</strong>\n",
    "\n",
    "Mit Hilfe der Tabs kannst du zwischen den verschiedenen Teilchen wechseln. Detektorteile, bei denen du bereits festgelegt hast, dass sie von anderen Teilchen getroffen worden sind, werden dann gelb eingefärbt."
   ]
  },
  {
   "cell_type": "code",
   "execution_count": 3,
   "id": "55e28430-18da-4384-b56c-6b0f1b1991b8",
   "metadata": {},
   "outputs": [
    {
     "data": {
      "application/vnd.jupyter.widget-view+json": {
       "model_id": "c23e0284894642a5934af6bb8c7aca38",
       "version_major": 2,
       "version_minor": 0
      },
      "text/plain": [
       "HBox(children=(HBox(children=(Accordion(children=(VBox(children=(FloatSlider(value=0.0, description='$p_T$', m…"
      ]
     },
     "metadata": {},
     "output_type": "display_data"
    }
   ],
   "source": [
    "tw = TrackingWidget(two_particle_event, noise=0.0)\n",
    "tw.show()"
   ]
  },
  {
   "cell_type": "markdown",
   "id": "d5f1a8e1-6d51-457e-97a3-3e432e68a1ec",
   "metadata": {},
   "source": [
    "## Rekonstruieren zweier Cluster"
   ]
  },
  {
   "cell_type": "markdown",
   "id": "85c3ddd9-e8a4-4508-bd28-b2a55889fed2",
   "metadata": {},
   "source": [
    "Auch im Kalorimeter erwarten wir nun zwei Cluster, die es zu selektieren gilt. Auch hier gibt haben wir im echten Detektor die Zusatzinformationen, die uns helfen, die richtigen Cluster zu identifizieren. Um es dir einfacher zu machen, färben wir hier den zentralen Kristall des richtigen Clusters, also den Kristall mit der höchsten Energie, schwarz ein. "
   ]
  },
  {
   "cell_type": "markdown",
   "id": "045f7a92-c55e-4104-9345-008889dfad82",
   "metadata": {},
   "source": [
    "<div class=\"alert alert-info\">\n",
    "<strong>Aufgabe:</strong>\n",
    "\n",
    "Rekonstruiere die Cluster der beiden Teilchen."
   ]
  },
  {
   "cell_type": "markdown",
   "id": "fb4d73de-5e3c-4899-ab87-17cdc85ade0d",
   "metadata": {},
   "source": [
    "<div class=\"alert alert-warning\">\n",
    "<strong>Hinweis:</strong>\n",
    "\n",
    "Um den Cluster für das nächste Teilchen auszuwählen, kannst du hier das Dropdown-Menu nutzen. Zur Vereinfachung wird der zentrale Kristal des Clusters schwarz umrandet.\n",
    "Bereits ausgewählte Cluster werden als Erinnerung wieder gelb eingefärbt."
   ]
  },
  {
   "cell_type": "code",
   "execution_count": 4,
   "id": "fa1059b9-304b-4c44-b54d-b71bc261462b",
   "metadata": {},
   "outputs": [
    {
     "data": {
      "application/vnd.jupyter.widget-view+json": {
       "model_id": "03f76934d32f4bf098d793046583ba78",
       "version_major": 2,
       "version_minor": 0
      },
      "text/plain": [
       "VBox(children=(Accordion(children=(HBox(children=(Text(value='0', description='Gesamte Energie der ausgewählte…"
      ]
     },
     "metadata": {},
     "output_type": "display_data"
    }
   ],
   "source": [
    "ew = ECLWidget(two_particle_event)\n",
    "ew.show()"
   ]
  },
  {
   "cell_type": "markdown",
   "id": "9d3f65ea-f4c9-4640-8c84-23ed062bfc35",
   "metadata": {},
   "source": [
    "# Identifizierung der gemessenen Teilchen\n",
    "\n",
    "Durch den Trackingdetektor, auch CDC bei uns, konnten wir jetzt die Ladungen und die Impulse der jeweiligen Teilchen bestimmen. Über das Kalorimeter wurde dann die Energie der Teilchen gemessen. Nun wollen wir die Teilchen natürlich auch identifizieren, da dass Aufschluss darüber gibt, welcher Zerfall tatsächlich stattgefunden hat. Dies können wir über die sogenannte relativistische Energie-Impuls-Beziehung herausfinden. Die besagt, dass die Ruheenergie, was wir als Masse des Teilchens interpretieren, die Differenz zwischen Gesamtenergie und Impuls ist.\n",
    "\n",
    "$$ E_0^2 = E^2 - p^2 $$\n",
    "\n",
    "(Wir haben hier an verschiedensten Stellen c's weggelassen, das spielt aber keine Rolle, wenn wir in natürlichen Einheiten rechnen.) Mit Hilfe deiner Messungen in den ersten Teilen kannst du jetzt die beiden Teilchen hier identifizieren. Natürlich gibt es Messungenauigkeiten, daher musst du hier versuchen, herauszufinden, welche Teilchen es am wahrscheinlichsten waren. Mithilfe der berechneten Masse und der Ladung sollte es eindeutige Kandidaten geben. Ein großes Problem ist natürlich die Genauigkeit, mit der wir alles bestimmen konnten. Wenn die Masse des Teilchens sehr viel kleiner als die Energie ist, spiele kleine Änderungen eine große Rolle. Verwende daher am Besten auch noch die Information, wie groß die Energiedeposition war. Wie du in der Einführung gesehen hast, hinterlassen verschiedene Teilchenarten verschieden große Energieschauer."
   ]
  },
  {
   "cell_type": "code",
   "execution_count": null,
   "id": "105c8683-2e9e-43a4-ba59-89aedbb6c5fe",
   "metadata": {},
   "outputs": [],
   "source": [
    "mw = MatchingWidget(ew, tw)\n",
    "mw.show()"
   ]
  },
  {
   "cell_type": "markdown",
   "id": "2c078e98-663f-4d2b-ad0f-ab09947f6bb8",
   "metadata": {},
   "source": [
    "# Zusammenfassung\n",
    "\n",
    "In diesem Notebook hast du zwei Teilchen mithilfe des Spurdetektors und des Kalorimeters rekonstruiert und anschließend die Masse berechnet, um das Teilchen zu identifizieren. Für diese Einführung zu Ereignisinterpretation haben wir kein Detektorrauschen angenommen. Das vorherige Notebook hat dir gezeigt, wie sehr das Rauschen die Rekonstruktion erschweren kann. Im nächsten Schritt versuchen wir jetzt ein realistisches Ereignis mit Detektorrauschen zu interpretieren.\n",
    "\n",
    "<div class=\"alert alert-info\">    \n",
    "Öffne nun bitte das Notebook `Event_Interpretation.ipynb`, um ein Ereignis mit vier Teilchen zu rekonstruieren. "
   ]
  }
 ],
 "metadata": {
  "kernelspec": {
   "display_name": "metrics",
   "language": "python",
   "name": "metrics"
  },
  "language_info": {
   "codemirror_mode": {
    "name": "ipython",
    "version": 3
   },
   "file_extension": ".py",
   "mimetype": "text/x-python",
   "name": "python",
   "nbconvert_exporter": "python",
   "pygments_lexer": "ipython3",
   "version": "3.8.13"
  },
  "widgets": {
   "application/vnd.jupyter.widget-state+json": {
    "state": {},
    "version_major": 2,
    "version_minor": 0
   }
  }
 },
 "nbformat": 4,
 "nbformat_minor": 5
}
