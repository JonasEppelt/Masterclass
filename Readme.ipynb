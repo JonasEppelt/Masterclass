{
 "cells": [
  {
   "cell_type": "code",
   "execution_count": 4,
   "metadata": {},
   "outputs": [],
   "source": [
    "%matplotlib widget\n",
    "from src.widgets import *\n",
    "import warnings\n",
    "warnings.filterwarnings('ignore')\n",
    "four_particle_event = \"4part_events/4part_event_2.h5\""
   ]
  },
  {
   "cell_type": "code",
   "execution_count": 5,
   "metadata": {},
   "outputs": [
    {
     "data": {
      "text/html": [
       "<style>\n",
       "div.jupyter-widgets.widget-label {display: none;}\n",
       "</style>\n"
      ],
      "text/plain": [
       "<IPython.core.display.HTML object>"
      ]
     },
     "metadata": {},
     "output_type": "display_data"
    }
   ],
   "source": [
    "%%html\n",
    "<style>\n",
    "div.jupyter-widgets.widget-label {display: none;}\n",
    "</style>"
   ]
  },
  {
   "cell_type": "markdown",
   "metadata": {},
   "source": [
    "## Tracking widget\n",
    "\n",
    "Stellt ein Teilchen Tracker dar. Der Tracker ließt aus einem .h5 File die Daten über mehrere Teilchen aus. Im Tracker werden alle Segmente die die Teilchen überflogen haben rot gekennzeichnet, zusätzlich kommt noch Rauschen dazu. \n",
    "Für jedes dieser Teilchen(truthparticles) kann man ein Teilchen simulieren und an die wahren Teilchen anpassen indem man den Impuls und Winkel des Teilchens variiert. An welches Teilchen man anpassen soll zeigt der Pfeil an. Wie gut die \n",
    "Anpassung ist kann man aus der Anzeige \"x hits & y misses\" auslesen. Diese gibt an wie oft das simulierte Teilchen, die selben Segmente getroffen hat wie das wahre Teilchen, bzw. wie oft nicht. "
   ]
  },
  {
   "cell_type": "code",
   "execution_count": 2,
   "metadata": {},
   "outputs": [
    {
     "data": {
      "application/vnd.jupyter.widget-view+json": {
       "model_id": "b3c482f143eb41559136e6d8fb77ffca",
       "version_major": 2,
       "version_minor": 0
      },
      "text/plain": [
       "HBox(children=(HBox(children=(Accordion(children=(VBox(children=(Text(value='0 hits & 0 misses', disabled=True…"
      ]
     },
     "metadata": {},
     "output_type": "display_data"
    }
   ],
   "source": [
    "tw = TrackingWidget(four_particle_event, noise=0.0, show_truthbutton=True, layers=50,truthvalues=False,trackercolor=\"lightslategray\")\n",
    "tw.show()"
   ]
  },
  {
   "cell_type": "markdown",
   "metadata": {},
   "source": [
    "### Funktionen:\n",
    "\n",
    "TrackingWidget.show():\n",
    "Zeigt das tracking Widget an.\n",
    "\n",
    "### Parameter zum Tracker:\n",
    "\n",
    "data_path(.h5): \n",
    "Pfad für ein .h5 File die Teilchen und Information über deren Impuls, Masse, Energie und ... enthält. Siehe 2part_events für den Aufbau solch einer Datei.<br>\n",
    "\n",
    "B(=0.2,float): \n",
    "B-feld Einstellung für den Tracker am besten zwischen 0.1 und 0.4<br>\n",
    "\n",
    "layer(=15,int): \n",
    "Anzahl der Layers im Tracker. Umso mehr Layer man hat, umso besser kann man die Teilchen anpassen. Mehr als 60 wird unübersichtlich.<br>\n",
    "\n",
    "n_segments(=8,int): \n",
    "Anzahl der Segmente im ersten layer.<br>\n",
    "\n",
    "ecl_segments(=30,int): \n",
    "Anzahl der größeren ECL_segmente im letzten Layer.<br>\n",
    "\n",
    "k(=3,int): \n",
    "Gibt bei den normalen Segmenten an, wieviel Segmente bei jedem Layer dazu kommen (layer i hat (n_segments+k*i) Segmente).<br>\n",
    "\n",
    "dist(=0.1,float): \n",
    "Gibt die Distanz zwischen den einzelnen Segmenten an.<br>\n",
    "\n",
    "noise(=0.1,float): \n",
    "Konstante für Noisefloor im Tracker, 0.1 bedeutet 10% Prozent aller Segmente werden fälschlicherweise Rot gekennzeichnet.<br>\n",
    "\n",
    "linewidth(=5,float): \n",
    "Linienbreite, am besten bei 5 lassen.<br>\n",
    "\n",
    "show_truthbutton(=False,bool): \n",
    "Mit dieser Funktion auf True wird im Widget ein Button angezeigt mit dem man die Flugbahn des wahren Teilchen Anzeigen kann.<br>\n",
    "\n",
    "continuous_update(=True,bool): \n",
    "Einstellung ob die Slider im Widget kontinuierlich ausgelesen werden oder nur zu gewissen Punkten. Nur auf False stellen, wenn es Performance Probleme gibt.<br>\n",
    "\n",
    "truthvalues(=False,bool): \n",
    "Wenn auf True werden direkt die richtigen Werte für Phi und impuls der simulierten Teilchen eingestellt.<br>\n",
    "\n",
    "ignore_noise(=False,bool): \n",
    "Mit dieser Option auf True wird für die Anzeige x hit & y misses, das simulierte Teilchen NUR mit dem wahren Teilchen verglichen. Auf False werden auch das Rauschen und die anderen Teilchen beachtet.<br>\n",
    "\n",
    "trackercolor(=\"gray\",string(color)): \n",
    "Farbe des Trackers.<br>\n",
    "\n",
    "### propertys:\n",
    "\n",
    "get_fitted_particles:\n",
    "Returnt ein Dataframe mit Gesamtimpuls,phi,Ladung,Radius und der Impulskomponenten."
   ]
  },
  {
   "cell_type": "markdown",
   "metadata": {},
   "source": [
    "## ECL widget:\n",
    "Stellt ein Kaloriemeter dar. Ziel hier ist die Energie der einzelnen Teilchen herauszufinden. der ECL ließt aus dem selben .h5 file wie der Tracker die Information darüber, in welchem Segment wieviel Energie ist. In dem Widget\n",
    "kann man dann jeweils die angezeigten Teilchen umkreisen(lasso selector) und deren Energie auslesen. "
   ]
  },
  {
   "cell_type": "code",
   "execution_count": 6,
   "metadata": {},
   "outputs": [
    {
     "data": {
      "application/vnd.jupyter.widget-view+json": {
       "model_id": "026a5f9f4ce24a18abfae9e9f092eacf",
       "version_major": 2,
       "version_minor": 0
      },
      "text/plain": [
       "VBox(children=(Accordion(children=(HBox(children=(Text(value='0', description='Gesamte Energie der ausgewählte…"
      ]
     },
     "metadata": {},
     "output_type": "display_data"
    }
   ],
   "source": [
    "ew = ECLWidget(four_particle_event,noise_rate=0)\n",
    "ew.show()"
   ]
  },
  {
   "cell_type": "markdown",
   "metadata": {},
   "source": [
    "### Funktionen:\n",
    "\n",
    "ECLWidget.show():\n",
    "Zeigt das ECL Widget an.\n",
    "\n",
    "### Parameter zum Widget:\n",
    "\n",
    "data_path(.h5): \n",
    "Pfad für ein .h5 File mit den Teilchen. <br>\n",
    "\n",
    "noise_rate(=0.05,float): \n",
    "Konstante für den Noisefloor. <br>\n",
    "\n",
    "idx(=None,int or None): \n",
    "hiermit kann man nur ein einzelnen Teilchen zeigen lassen, sollte normal auf None bleiben. <br>\n",
    "\n",
    "### propertys:\n",
    "\n",
    "get_particles_energy:\n",
    "Returnt ein Dataframe mit den Energien die man harausgefunden hat. <br>\n",
    "\n",
    "get_particles__radius:\n",
    "Returnt ein Dataframe mit den Radien der Teilchen. <br>"
   ]
  },
  {
   "cell_type": "markdown",
   "metadata": {},
   "source": [
    "## Matching Widget\n",
    "Hier werden jetzt die gesammelten Ergebnisse aus dem Tracking_widget und ECL_widget dargestellt. Man kann vergleichen und nachvollziehen was für Teilchen man gefunden hat."
   ]
  },
  {
   "cell_type": "code",
   "execution_count": 7,
   "metadata": {},
   "outputs": [
    {
     "data": {
      "application/vnd.jupyter.widget-view+json": {
       "model_id": "d4006cbf3df54ff3b330430ac8b960ce",
       "version_major": 2,
       "version_minor": 0
      },
      "text/plain": [
       "Tab(children=(VBox(children=(HBox(children=(VBox(children=(Text(value='0.0', description='Energie', disabled=T…"
      ]
     },
     "metadata": {},
     "output_type": "display_data"
    },
    {
     "data": {
      "application/vnd.jupyter.widget-view+json": {
       "model_id": "49cc3fbd77fb4886824aacd8041ec6f1",
       "version_major": 2,
       "version_minor": 0
      },
      "text/plain": [
       "Output()"
      ]
     },
     "metadata": {},
     "output_type": "display_data"
    }
   ],
   "source": [
    "mw = MatchingWidget(ew, tw, cheat_mode=True)\n",
    "mw.show()"
   ]
  },
  {
   "cell_type": "markdown",
   "metadata": {},
   "source": [
    "### Funktionen:\n",
    "\n",
    "MatchingWidget.show():\n",
    "Zeigt das matching Widget an.\n",
    "\n",
    "### Parameter zum Widget:\n",
    "\n",
    "ew: \n",
    "ECL_widget object <br>\n",
    "\n",
    "tw: \n",
    "Tracking_widget object <br>\n",
    "\n",
    "cheat_mode(=True,bool): \n",
    "Da bei Elektronen es oft kaum möglich ist sie richtig zu fitten kann das Matchingwidget die Werte anpassen, falls die gefundenen Werte nahe genug an den echten sind(wenn auf True). <br>\n",
    "\n",
    "cheating_threshhold(=1e-2,float): \n",
    "Threshhold für differenz ab dem die Werte angepasst werden. (nur relevant für cheat_mode=True) <br>"
   ]
  }
 ],
 "metadata": {
  "kernelspec": {
   "display_name": "Python 3.9.12 ('base')",
   "language": "python",
   "name": "python3"
  },
  "language_info": {
   "codemirror_mode": {
    "name": "ipython",
    "version": 3
   },
   "file_extension": ".py",
   "mimetype": "text/x-python",
   "name": "python",
   "nbconvert_exporter": "python",
   "pygments_lexer": "ipython3",
   "version": "3.9.12"
  },
  "orig_nbformat": 4,
  "vscode": {
   "interpreter": {
    "hash": "6aa15e7b2b03744e62d71d2ec6746d4ecf11cdddddbe19ba13108e7c0421f93d"
   }
  }
 },
 "nbformat": 4,
 "nbformat_minor": 2
}
