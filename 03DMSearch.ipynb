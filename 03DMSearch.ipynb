{
 "cells": [
  {
   "cell_type": "markdown",
   "id": "bd93b4e7-3033-42fd-81bd-ebe7fce207e0",
   "metadata": {
    "slideshow": {
     "slide_type": "slide"
    },
    "tags": []
   },
   "source": [
    "# Collider Do-it-yourself\n",
    "\n",
    "Auch wir bei Belle II suchen Dunkle Materie. Wenn wir eine Teilchenkollision anschauen und feststellen, dass uns sowohl Energie als auch Impuls fehlen, um die Energie- und Impulserhaltungsgleichung zu erfüllen, so muss es in diesem Ereignis ein nicht-sichtbares Teilchen gegeben haben.\n",
    "\n",
    "Probiere selber aus, dieses Teilchen zu finden und zu identifizieren!"
   ]
  },
  {
   "cell_type": "code",
   "execution_count": null,
   "id": "cfa02e3f-aa87-40cd-a3c5-7c6b1f5dfb33",
   "metadata": {
    "slideshow": {
     "slide_type": "skip"
    },
    "tags": []
   },
   "outputs": [],
   "source": [
    "%matplotlib widget\n",
    "from belleIImasterclass import *\n",
    "from belleIImasterclass.widgets.tracking import *\n",
    "from belleIImasterclass.particlesmanager import ParticlesManager\n",
    "from belleIImasterclass.elements.ecal import *\n",
    "from belleIImasterclass.widgets.clustering import ECLWidget\n",
    "from belleIImasterclass.widgets.klm import KLMWidget\n",
    "from belleIImasterclass.widgets.energy_widget import EnergyWidget\n",
    "from belleIImasterclass.widgets.IDwidget import IDWidget\n",
    "\n",
    "import numpy as np\n",
    "from itertools import *\n",
    "import matplotlib.pyplot as plt\n",
    "import ipywidgets as widgets\n",
    "import warnings\n",
    "\n",
    "warnings.filterwarnings('ignore')\n",
    "\n",
    "i = 10\n",
    "pm = ParticlesManager(f\"./dm_events\", event_number = i)\n",
    "\n",
    "trackingWidget = TrackingWidget(pm, truthvalues = True)\n",
    "eclWidget = ECLWidget(pm, noise_ratio=0)\n",
    "klmWidget=KLMWidget(pm)\n",
    "idWidget=IDWidget(pm)\n",
    "missingEnergyWidget=EnergyWidget(pm)"
   ]
  },
  {
   "cell_type": "code",
   "execution_count": null,
   "id": "991b59c1-35d2-427b-80e8-9beba2010362",
   "metadata": {
    "slideshow": {
     "slide_type": "skip"
    },
    "tags": []
   },
   "outputs": [],
   "source": [
    "trackingWidget.show()"
   ]
  },
  {
   "cell_type": "code",
   "execution_count": null,
   "id": "f48532f3-3564-47a3-87c3-7a227e2b0d24",
   "metadata": {
    "slideshow": {
     "slide_type": "skip"
    },
    "tags": []
   },
   "outputs": [],
   "source": [
    "eclWidget.show()"
   ]
  },
  {
   "cell_type": "code",
   "execution_count": null,
   "id": "d4d0192e-5af1-471c-b5e9-3033d5c550f2",
   "metadata": {
    "slideshow": {
     "slide_type": "skip"
    },
    "tags": []
   },
   "outputs": [],
   "source": [
    "klmWidget.show()"
   ]
  },
  {
   "cell_type": "code",
   "execution_count": null,
   "id": "6421d522-cbb9-4fba-8214-a2307cae16e0",
   "metadata": {
    "slideshow": {
     "slide_type": "skip"
    },
    "tags": []
   },
   "outputs": [],
   "source": [
    "idWidget.show()"
   ]
  },
  {
   "cell_type": "code",
   "execution_count": null,
   "id": "20cb0767-318f-4412-a3f5-ea7ee8bf25a1",
   "metadata": {
    "slideshow": {
     "slide_type": "skip"
    },
    "tags": []
   },
   "outputs": [],
   "source": [
    "missingEnergyWidget.show()"
   ]
  }
 ],
 "metadata": {
  "kernelspec": {
   "display_name": "Python 3 (ipykernel)",
   "language": "python",
   "name": "python3"
  },
  "language_info": {
   "codemirror_mode": {
    "name": "ipython",
    "version": 3
   },
   "file_extension": ".py",
   "mimetype": "text/x-python",
   "name": "python",
   "nbconvert_exporter": "python",
   "pygments_lexer": "ipython3",
   "version": "3.9.13"
  }
 },
 "nbformat": 4,
 "nbformat_minor": 5
}
