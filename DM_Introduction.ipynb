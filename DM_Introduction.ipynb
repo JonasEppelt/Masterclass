{
 "cells": [
  {
   "cell_type": "markdown",
   "id": "ae78c47a-dc47-4bc0-a77c-b4e7077e2c5f",
   "metadata": {
    "slideshow": {
     "slide_type": "slide"
    },
    "tags": []
   },
   "source": [
    "# Was passt im Standardmodell der Teilchenphysik nicht?"
   ]
  },
  {
   "cell_type": "markdown",
   "id": "b4a3303b-2de1-4769-a44f-1bccd47734ac",
   "metadata": {
    "slideshow": {
     "slide_type": "slide"
    },
    "tags": []
   },
   "source": [
    "**Das Standardmodell...**"
   ]
  },
  {
   "cell_type": "markdown",
   "id": "82f93c8c-4d73-4e90-9489-54d485bbdaa1",
   "metadata": {
    "slideshow": {
     "slide_type": "subslide"
    },
    "tags": []
   },
   "source": [
    "1. ...erklärt die fundamentalen Kräfte zwischen Teilchen\n",
    "    - Elektromagnetische Wechselwirkung\n",
    "    - Starke Wechselwirkung\n",
    "    - Schwache Wechselwirkung"
   ]
  },
  {
   "cell_type": "markdown",
   "id": "4f1dd4d2-d0a3-4e39-89a8-5584b8160578",
   "metadata": {
    "slideshow": {
     "slide_type": "subslide"
    },
    "tags": []
   },
   "source": [
    "2. ...beschreibt die Eigenschaften der Elementarteilchen\n",
    "    - Quarks und Leptonen $\\rightarrow$ Daraus ist Materie aufgebaut\n",
    "    - Bosonen $\\rightarrow$ Damit wechselwirkt Materie"
   ]
  },
  {
   "cell_type": "markdown",
   "id": "d2458925-6fac-430d-97a5-12c3ecb3543b",
   "metadata": {
    "slideshow": {
     "slide_type": "subslide"
    },
    "tags": []
   },
   "source": [
    "3. ...sagt neue Teilchen vorher\n",
    "    - Charm- und Bottom-Quarks\n",
    "    - W- und Z-Bosonen (Entdeckung am CERN 1983)\n",
    "    - Top-Quark (Entdeckung am Fermilab 1995)"
   ]
  },
  {
   "cell_type": "markdown",
   "id": "e2285f48-87c8-4cc1-8df6-6026d2c98bcc",
   "metadata": {
    "slideshow": {
     "slide_type": "subslide"
    },
    "tags": []
   },
   "source": [
    "4. ...bestätigt den Higgs-Mechanismus\n",
    "    - Entdeckung des Higgs-Bosons am CERN 2012 (durch das ATLAS- und CMS-Experiment)"
   ]
  },
  {
   "cell_type": "markdown",
   "id": "4c1e8864-3b71-4a8c-b8b0-2a47873ce2c9",
   "metadata": {
    "slideshow": {
     "slide_type": "fragment"
    },
    "tags": []
   },
   "source": [
    "**Aber:**"
   ]
  },
  {
   "cell_type": "markdown",
   "id": "6e2c06c4-d371-4628-adcf-c1c56646ab08",
   "metadata": {
    "slideshow": {
     "slide_type": "slide"
    },
    "tags": []
   },
   "source": [
    "## Galaxiegeschwindigkeitsverteilung"
   ]
  },
  {
   "cell_type": "markdown",
   "id": "a07b0573-53ea-4a18-a8e1-b4c741cbb116",
   "metadata": {
    "tags": []
   },
   "source": [
    "<img src=\"figures/galaxy.png\" alt=\"Rotationsgeschwindigkeit\" width=\"800px\"/> &nbsp; &nbsp; &nbsp; <img src=\"figures/verarubin.jpeg\" alt=\"Roationsgeschwindigkeit\" width=\"400px\"/>  \n",
    "\n",
    "Misst man die Rotationsgeschwindigkeit von Sternen in unserer Galaxie, passt die Geschwindigkeit der Sterne nicht zu den sichtbaren Massen "
   ]
  },
  {
   "cell_type": "markdown",
   "id": "3261f8f1-6865-436b-81fb-470615baece6",
   "metadata": {
    "slideshow": {
     "slide_type": "fragment"
    },
    "tags": []
   },
   "source": [
    "$\\rightarrow$ Es fehlt etwas, dass unseren Galaxien mehr Masse verleiht"
   ]
  },
  {
   "cell_type": "markdown",
   "id": "dc3ced76-67f4-4f4b-b9b1-192c88176ca9",
   "metadata": {
    "slideshow": {
     "slide_type": "slide"
    },
    "tags": []
   },
   "source": [
    "## Gravitationslinsen"
   ]
  },
  {
   "cell_type": "markdown",
   "id": "3369952c-377c-457c-96eb-18cff944db88",
   "metadata": {
    "tags": []
   },
   "source": [
    "<img src=\"figures/grav_linsen_2.jpg\" alt=\"GravLinse\" width=\"800px\"/>\n",
    "\n",
    "Manche der Galaxien, die wir mithilfe von Teleskopen sehen können, wirken stark verzerrt oder gebogen"
   ]
  },
  {
   "cell_type": "markdown",
   "id": "a84bb855-19cf-47f4-8119-71b87d06e033",
   "metadata": {
    "slideshow": {
     "slide_type": "fragment"
    },
    "tags": []
   },
   "source": [
    "$\\rightarrow$ Eine große, nicht sichtbare Masse lenkt das Licht um"
   ]
  },
  {
   "cell_type": "markdown",
   "id": "2441ac99-d43c-43ab-9cd3-9939d07d625e",
   "metadata": {
    "slideshow": {
     "slide_type": "slide"
    },
    "tags": []
   },
   "source": [
    "## Ausdehnung des Universums"
   ]
  },
  {
   "cell_type": "markdown",
   "id": "0cf19623-b4d4-4cb0-b42e-44738a491128",
   "metadata": {
    "tags": []
   },
   "source": [
    "<img src=\"figures/bigbang.jpeg\" alt=\"bigbang\" width=\"1000px\"/>\n",
    "\n",
    "Die Ausdehnung unseres Universums kann mit allem, was wir sehen können, nicht alleine erklärt werden\n",
    "\n",
    "Bsp: Das Formen von Galaxien hätte so nicht stattfinden können"
   ]
  },
  {
   "cell_type": "markdown",
   "id": "713eb9b5-7265-4e44-8bfe-d1414e242497",
   "metadata": {
    "slideshow": {
     "slide_type": "subslide"
    },
    "tags": []
   },
   "source": [
    "<img src=\"figures/mill_sim.png\" alt=\"millsim\" width=\"1000px\"/>\n",
    "\n",
    "Simulationen der Ausdehnung unseres Universums mit dunkler Materie seit dem Urknall können sehr genau unser heutiges Universum nachbilden"
   ]
  },
  {
   "cell_type": "markdown",
   "id": "f156eab4-07d7-4326-8e1d-b9ea10f044c4",
   "metadata": {
    "slideshow": {
     "slide_type": "skip"
    },
    "tags": []
   },
   "source": [
    "Wenn du möchtest, kannst du hier ein Video anschauen, welches die Strukturen in unserem Universum zeigt:"
   ]
  },
  {
   "cell_type": "code",
   "execution_count": null,
   "id": "3f956cbc-40e5-4196-baa0-7b4beb989a13",
   "metadata": {
    "slideshow": {
     "slide_type": "skip"
    },
    "tags": []
   },
   "outputs": [],
   "source": [
    "from IPython.display import YouTubeVideo\n",
    "\n",
    "# Video-ID des YouTube-Videos\n",
    "video_id = \"4jXVDeUHMSA\"\n",
    "\n",
    "# Einbetten des YouTube-Videos\n",
    "YouTubeVideo(video_id)\n"
   ]
  },
  {
   "cell_type": "markdown",
   "id": "62f4fa1c-e79a-475c-96df-689c70cf6903",
   "metadata": {
    "slideshow": {
     "slide_type": "slide"
    },
    "tags": []
   },
   "source": [
    "# Was ist Dunkle Materie?"
   ]
  },
  {
   "cell_type": "markdown",
   "id": "e46cc33c-9ffa-4301-b7f2-5e1d775b060e",
   "metadata": {
    "tags": []
   },
   "source": [
    "<img src=\"figures/dmverteilung.jpeg\" alt=\"millsim\" width=\"1000px\"/>"
   ]
  },
  {
   "cell_type": "markdown",
   "id": "774ee0bd-9945-478d-9057-94225fe34d46",
   "metadata": {},
   "source": [
    "Um die Entstehung unseres Universums, die Rotationsgeschwindigkeit der Sterne in einer Galaxie und alle weiteren Effekte erklären zu können, muss das Universum zu nur etwa 5 % aus normaler Materie, also das, was wir sehen können, bestehen.\n",
    "\n",
    "Dunkle Materie ist über fünf Mal so häufig wie normale Materie. Trotzdem haben wir noch keine Ahnung, was es ist. "
   ]
  },
  {
   "cell_type": "markdown",
   "id": "f003563a-5c30-47dc-9d12-db100b723c5f",
   "metadata": {
    "slideshow": {
     "slide_type": "slide"
    },
    "tags": []
   },
   "source": [
    "## Welche Kandidaten haben wir?"
   ]
  },
  {
   "cell_type": "markdown",
   "id": "992a17b7-e96c-44bf-9d0f-4cc846d1ecaf",
   "metadata": {
    "slideshow": {
     "slide_type": "subslide"
    },
    "tags": []
   },
   "source": [
    "<img src=\"figures/dm_candidates_xkcd.png\" alt=\"xkcd\" width=\"1500px\"/>"
   ]
  },
  {
   "cell_type": "markdown",
   "id": "f6977582-bdce-4437-89c0-caa78f751ddf",
   "metadata": {
    "slideshow": {
     "slide_type": "subslide"
    },
    "tags": []
   },
   "source": [
    "**Viele Möglichkeiten:**\n",
    "\n",
    "- Nicht-baryonische Kandidaten:\n",
    "  - WIMPs (schwach wechselwirkende massereiche Teilchen)\n",
    "  - Neutralinos\n",
    "  - Gravitinos\n",
    "  - MACHOs (Massive Astrophysical Compact Halo Objects)\n",
    "\n",
    "\n",
    "- Andere Kandidaten:\n",
    "  - Axionen\n",
    "  - Kalte Dunkle Materie\n",
    "  - Sterile Neutrinos\n",
    "  - Primordiale Schwarze Löcher\n",
    "  - MODULOs\n",
    "  - ALPs (axion-like particles)\n",
    "\n",
    "$\\rightarrow$ Verschiedene Experimente werden benötigt, um nach den verschiedenen Kandidaten zu suchen"
   ]
  },
  {
   "cell_type": "markdown",
   "id": "c912fb64-6877-49b5-bd4f-d4d7f5f20843",
   "metadata": {
    "slideshow": {
     "slide_type": "slide"
    },
    "tags": []
   },
   "source": [
    "# Wie finden wir Dunkle Materie?"
   ]
  },
  {
   "cell_type": "markdown",
   "id": "addbd8a7-0401-44ec-b5dd-b7a0032bb180",
   "metadata": {},
   "source": [
    "## Energie- und Impulserhaltung Recap"
   ]
  },
  {
   "cell_type": "markdown",
   "id": "ba23890f-4b7f-4aea-b00b-abc2316b4af1",
   "metadata": {},
   "source": [
    "## Messmethoden"
   ]
  },
  {
   "cell_type": "markdown",
   "id": "26eed791-a5ca-4430-89e3-20f252caf399",
   "metadata": {},
   "source": [
    "Direkt, Indirekt, Collider, Vor- und Nachteile"
   ]
  },
  {
   "cell_type": "markdown",
   "id": "e8d85f1c-7557-460d-adfc-0fe340a57a1c",
   "metadata": {},
   "source": [
    "# Collider Do-it-yourself"
   ]
  },
  {
   "cell_type": "code",
   "execution_count": null,
   "id": "28737d38-18f8-497f-bb95-892df51e1073",
   "metadata": {},
   "outputs": [],
   "source": []
  }
 ],
 "metadata": {
  "kernelspec": {
   "display_name": "masterclass_wtf",
   "language": "python",
   "name": "masterclass_wtf"
  },
  "language_info": {
   "codemirror_mode": {
    "name": "ipython",
    "version": 3
   },
   "file_extension": ".py",
   "mimetype": "text/x-python",
   "name": "python",
   "nbconvert_exporter": "python",
   "pygments_lexer": "ipython3",
   "version": "3.11.4"
  }
 },
 "nbformat": 4,
 "nbformat_minor": 5
}
