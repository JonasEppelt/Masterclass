{
 "cells": [
  {
   "cell_type": "code",
   "execution_count": null,
   "id": "2a1950dd-5f18-44e8-a975-24960b97aefd",
   "metadata": {
    "slideshow": {
     "slide_type": "skip"
    },
    "tags": []
   },
   "outputs": [],
   "source": [
    "%load_ext autoreload\n",
    "%autoreload 2"
   ]
  },
  {
   "cell_type": "markdown",
   "id": "ae78c47a-dc47-4bc0-a77c-b4e7077e2c5f",
   "metadata": {
    "slideshow": {
     "slide_type": "slide"
    },
    "tags": []
   },
   "source": [
    "# Was passt im Standardmodell der Teilchenphysik nicht?"
   ]
  },
  {
   "cell_type": "markdown",
   "id": "b4a3303b-2de1-4769-a44f-1bccd47734ac",
   "metadata": {
    "slideshow": {
     "slide_type": "slide"
    },
    "tags": []
   },
   "source": [
    "**Das Standardmodell...**"
   ]
  },
  {
   "cell_type": "markdown",
   "id": "82f93c8c-4d73-4e90-9489-54d485bbdaa1",
   "metadata": {
    "slideshow": {
     "slide_type": "subslide"
    },
    "tags": []
   },
   "source": [
    "1. ...erklärt die fundamentalen Kräfte zwischen Teilchen\n",
    "    - Elektromagnetische Wechselwirkung\n",
    "    - Starke Wechselwirkung\n",
    "    - Schwache Wechselwirkung"
   ]
  },
  {
   "cell_type": "markdown",
   "id": "4f1dd4d2-d0a3-4e39-89a8-5584b8160578",
   "metadata": {
    "slideshow": {
     "slide_type": "subslide"
    },
    "tags": []
   },
   "source": [
    "2. ...beschreibt die Eigenschaften der Elementarteilchen\n",
    "    - Quarks und Leptonen $\\rightarrow$ Daraus ist Materie aufgebaut\n",
    "    - Bosonen $\\rightarrow$ Damit wechselwirkt Materie"
   ]
  },
  {
   "cell_type": "markdown",
   "id": "d2458925-6fac-430d-97a5-12c3ecb3543b",
   "metadata": {
    "slideshow": {
     "slide_type": "subslide"
    },
    "tags": []
   },
   "source": [
    "3. ...sagt neue Teilchen vorher\n",
    "    - Charm- und Bottom-Quarks\n",
    "    - W- und Z-Bosonen (Entdeckung am CERN 1983)\n",
    "    - Top-Quark (Entdeckung am Fermilab 1995)"
   ]
  },
  {
   "cell_type": "markdown",
   "id": "e2285f48-87c8-4cc1-8df6-6026d2c98bcc",
   "metadata": {
    "slideshow": {
     "slide_type": "subslide"
    },
    "tags": []
   },
   "source": [
    "4. ...bestätigt den Higgs-Mechanismus\n",
    "    - Entdeckung des Higgs-Bosons am CERN 2012 (durch das ATLAS- und CMS-Experiment)"
   ]
  },
  {
   "cell_type": "markdown",
   "id": "4c1e8864-3b71-4a8c-b8b0-2a47873ce2c9",
   "metadata": {
    "slideshow": {
     "slide_type": "slide"
    },
    "tags": []
   },
   "source": [
    "**Aber:**"
   ]
  },
  {
   "cell_type": "markdown",
   "id": "6e2c06c4-d371-4628-adcf-c1c56646ab08",
   "metadata": {
    "slideshow": {
     "slide_type": "slide"
    },
    "tags": []
   },
   "source": [
    "## Galaxiegeschwindigkeitsverteilung"
   ]
  },
  {
   "cell_type": "markdown",
   "id": "a07b0573-53ea-4a18-a8e1-b4c741cbb116",
   "metadata": {
    "slideshow": {
     "slide_type": "fragment"
    },
    "tags": []
   },
   "source": [
    "<img src=\"figures/galaxy.png\" alt=\"Rotationsgeschwindigkeit\" width=\"800px\"/> &nbsp; &nbsp; &nbsp; <img src=\"figures/verarubin.jpeg\" alt=\"Roationsgeschwindigkeit\" width=\"400px\"/>  \n",
    "\n",
    "Misst man die Rotationsgeschwindigkeit von Sternen in unserer Galaxie, passt die Geschwindigkeit der Sterne nicht zu den sichtbaren Massen."
   ]
  },
  {
   "cell_type": "markdown",
   "id": "3261f8f1-6865-436b-81fb-470615baece6",
   "metadata": {
    "slideshow": {
     "slide_type": "fragment"
    },
    "tags": []
   },
   "source": [
    "$\\rightarrow$ Es fehlt etwas, dass unseren Galaxien mehr Masse verleiht"
   ]
  },
  {
   "cell_type": "markdown",
   "id": "dc3ced76-67f4-4f4b-b9b1-192c88176ca9",
   "metadata": {
    "slideshow": {
     "slide_type": "slide"
    },
    "tags": []
   },
   "source": [
    "## Gravitationslinsen"
   ]
  },
  {
   "cell_type": "markdown",
   "id": "3369952c-377c-457c-96eb-18cff944db88",
   "metadata": {
    "slideshow": {
     "slide_type": "fragment"
    },
    "tags": []
   },
   "source": [
    "<img src=\"figures/grav_linsen_2.jpg\" alt=\"GravLinse\" width=\"800px\"/>\n",
    "\n",
    "Manche der Galaxien, die wir mithilfe von Teleskopen sehen können, wirken stark verzerrt oder gebogen."
   ]
  },
  {
   "cell_type": "markdown",
   "id": "a84bb855-19cf-47f4-8119-71b87d06e033",
   "metadata": {
    "slideshow": {
     "slide_type": "fragment"
    },
    "tags": []
   },
   "source": [
    "$\\rightarrow$ Eine große, nicht sichtbare Masse lenkt das Licht um"
   ]
  },
  {
   "cell_type": "markdown",
   "id": "2441ac99-d43c-43ab-9cd3-9939d07d625e",
   "metadata": {
    "slideshow": {
     "slide_type": "slide"
    },
    "tags": []
   },
   "source": [
    "## Ausdehnung des Universums"
   ]
  },
  {
   "cell_type": "markdown",
   "id": "0cf19623-b4d4-4cb0-b42e-44738a491128",
   "metadata": {
    "slideshow": {
     "slide_type": "fragment"
    },
    "tags": []
   },
   "source": [
    "<img src=\"figures/bigbang.jpeg\" alt=\"bigbang\" width=\"1000px\"/>\n",
    "\n",
    "Die Ausdehnung unseres Universums kann mit allem, was wir sehen können, nicht alleine erklärt werden.\n",
    "\n",
    "Bsp: Das Formen von Galaxien hätte so nicht stattfinden können."
   ]
  },
  {
   "cell_type": "markdown",
   "id": "713eb9b5-7265-4e44-8bfe-d1414e242497",
   "metadata": {
    "slideshow": {
     "slide_type": "subslide"
    },
    "tags": []
   },
   "source": [
    "<img src=\"figures/mill_sim.png\" alt=\"millsim\" width=\"1000px\"/>\n",
    "\n",
    "Simulationen der Ausdehnung unseres Universums mit Dunkler Materie seit dem Urknall können sehr genau unser heutiges Universum nachbilden. Simuliert man das Universum ohne Dunkle Materie, so entstehen keine unserer heutigen sichtbaren Strukturen."
   ]
  },
  {
   "cell_type": "markdown",
   "id": "f156eab4-07d7-4326-8e1d-b9ea10f044c4",
   "metadata": {
    "slideshow": {
     "slide_type": "skip"
    },
    "tags": []
   },
   "source": [
    "Wenn du möchtest, kannst du hier ein Video anschauen, welches die Strukturen in unserem Universum zeigt:"
   ]
  },
  {
   "cell_type": "code",
   "execution_count": null,
   "id": "3f956cbc-40e5-4196-baa0-7b4beb989a13",
   "metadata": {
    "slideshow": {
     "slide_type": "skip"
    },
    "tags": []
   },
   "outputs": [],
   "source": [
    "from IPython.display import YouTubeVideo\n",
    "\n",
    "# Video-ID des YouTube-Videos\n",
    "video_id = \"4jXVDeUHMSA\"\n",
    "\n",
    "# Einbetten des YouTube-Videos\n",
    "YouTubeVideo(video_id)\n"
   ]
  },
  {
   "cell_type": "markdown",
   "id": "62f4fa1c-e79a-475c-96df-689c70cf6903",
   "metadata": {
    "slideshow": {
     "slide_type": "slide"
    },
    "tags": []
   },
   "source": [
    "# Was ist Dunkle Materie?"
   ]
  },
  {
   "cell_type": "markdown",
   "id": "e46cc33c-9ffa-4301-b7f2-5e1d775b060e",
   "metadata": {
    "slideshow": {
     "slide_type": "subslide"
    },
    "tags": []
   },
   "source": [
    "<img src=\"figures/dmverteilung.jpeg\" alt=\"millsim\" width=\"1000px\"/>"
   ]
  },
  {
   "cell_type": "markdown",
   "id": "774ee0bd-9945-478d-9057-94225fe34d46",
   "metadata": {
    "slideshow": {
     "slide_type": "fragment"
    },
    "tags": []
   },
   "source": [
    "Um die Entstehung unseres Universums, die Rotationsgeschwindigkeit der Sterne in einer Galaxie und alle weiteren Effekte erklären zu können, muss das Universum zu nur etwa 5 % aus normaler Materie, also das, was wir sehen können, bestehen.\n",
    "\n",
    "Dunkle Materie ist über fünf Mal so häufig wie normale Materie. Trotzdem haben wir noch keine Ahnung, was es ist. "
   ]
  },
  {
   "cell_type": "markdown",
   "id": "f003563a-5c30-47dc-9d12-db100b723c5f",
   "metadata": {
    "slideshow": {
     "slide_type": "slide"
    },
    "tags": []
   },
   "source": [
    "## Welche Kandidaten haben wir?"
   ]
  },
  {
   "cell_type": "markdown",
   "id": "992a17b7-e96c-44bf-9d0f-4cc846d1ecaf",
   "metadata": {
    "slideshow": {
     "slide_type": "subslide"
    },
    "tags": []
   },
   "source": [
    "<img src=\"figures/dm_candidates_xkcd.png\" alt=\"xkcd\" width=\"1500px\"/>"
   ]
  },
  {
   "cell_type": "markdown",
   "id": "f6977582-bdce-4437-89c0-caa78f751ddf",
   "metadata": {
    "slideshow": {
     "slide_type": "subslide"
    },
    "tags": []
   },
   "source": [
    "**Viele Möglichkeiten:**\n",
    "\n",
    "- Nicht-baryonische Kandidaten:\n",
    "  - WIMPs (schwach wechselwirkende massereiche Teilchen)\n",
    "  - Neutralinos\n",
    "  - Gravitinos\n",
    "  - MACHOs (Massive Astrophysical Compact Halo Objects)\n",
    "\n",
    "\n",
    "- Andere Kandidaten:\n",
    "  - Axionen\n",
    "  - Kalte Dunkle Materie\n",
    "  - Sterile Neutrinos\n",
    "  - Primordiale Schwarze Löcher\n",
    "  - MODULOs\n",
    "  - ALPs (axion-like particles)\n",
    "\n",
    "$\\rightarrow$ Verschiedene Experimente werden benötigt, um nach den verschiedenen Kandidaten zu suchen"
   ]
  },
  {
   "cell_type": "markdown",
   "id": "c912fb64-6877-49b5-bd4f-d4d7f5f20843",
   "metadata": {
    "slideshow": {
     "slide_type": "slide"
    },
    "tags": []
   },
   "source": [
    "# Wie finden wir Dunkle Materie?"
   ]
  },
  {
   "cell_type": "markdown",
   "id": "addbd8a7-0401-44ec-b5dd-b7a0032bb180",
   "metadata": {
    "slideshow": {
     "slide_type": "slide"
    },
    "tags": []
   },
   "source": [
    "## Energie- und Impulserhaltung Recap"
   ]
  },
  {
   "cell_type": "markdown",
   "id": "3633a457-903b-4f93-bc0c-96a6a9188db1",
   "metadata": {
    "slideshow": {
     "slide_type": "fragment"
    },
    "tags": []
   },
   "source": [
    "### Energieerhaltung:"
   ]
  },
  {
   "cell_type": "markdown",
   "id": "8c476d2c-881c-40dc-a757-4ed61d5dbf3a",
   "metadata": {},
   "source": [
    "  - Energie kann weder erzeugt noch zerstört werden, sondern nur von einer Form in eine andere umgewandelt werden.\n",
    "  - Gesamtenergie vor und nach einem Ereignis bleibt konstant.\n"
   ]
  },
  {
   "cell_type": "markdown",
   "id": "95614812-ae71-45c1-880c-5f639e6c5178",
   "metadata": {
    "slideshow": {
     "slide_type": "fragment"
    },
    "tags": []
   },
   "source": [
    "<div>\n",
    "<img src=\"figures/collision.gif\" width=\"600\"/>\n",
    "</div>"
   ]
  },
  {
   "cell_type": "markdown",
   "id": "483a7e90-20e0-4106-bc06-f8bccced25ee",
   "metadata": {
    "slideshow": {
     "slide_type": "fragment"
    },
    "tags": []
   },
   "source": [
    "Fassen wir die Energie von allen entstandenen Teilchen zusammen, so müssen wir auf die Energie des Elektrons und des Positrons vor der Kollision kommen. Dadurch können wir feststellen, ob uns ein Teilchen fehlt oder nicht."
   ]
  },
  {
   "cell_type": "markdown",
   "id": "3b1fbe66-6176-43c9-bdc2-574b61a4a1d3",
   "metadata": {
    "slideshow": {
     "slide_type": "slide"
    },
    "tags": []
   },
   "source": [
    "### Impulserhaltung:"
   ]
  },
  {
   "cell_type": "markdown",
   "id": "99f2a04b-5197-4ac6-9333-7babbd100f76",
   "metadata": {},
   "source": [
    "  - Der Impuls eines Systems bleibt konstant, solange keine äußeren Kräfte wirken.\n",
    "  - Der ausgehende Impuls muss immer gleich dem eingehenden Impuls sein"
   ]
  },
  {
   "cell_type": "markdown",
   "id": "3c6f902d-9dd4-476c-a993-e1b5a3525c9d",
   "metadata": {
    "slideshow": {
     "slide_type": "fragment"
    },
    "tags": []
   },
   "source": [
    "<div>\n",
    "<img src=\"figures/ParticleGuns.png\" width=\"600\"/>\n",
    "</div>"
   ]
  },
  {
   "cell_type": "markdown",
   "id": "3ce306fc-620f-4521-b42b-c52f011bf62a",
   "metadata": {
    "slideshow": {
     "slide_type": "fragment"
    },
    "tags": []
   },
   "source": [
    "Wir kennen den Impuls der eingehenden Teilchen sehr gut. Daher können wir auch hier wieder herausfinden, ob uns ein Teilchen (oder auch mehrere) fehlen, indem wir die Impulse aller ausgehenden Teilchen zusammenfassen."
   ]
  },
  {
   "cell_type": "markdown",
   "id": "c22be9f5-e556-4d94-ba52-db7b76bdc33a",
   "metadata": {
    "slideshow": {
     "slide_type": "fragment"
    },
    "tags": []
   },
   "source": [
    "Mithilfe dieses Wissens können wir nun auch uns unbekannte Teilchen untersuchen, wie die Dunkle Materie. Dafür gibt es verschiedene Möglichkeiten."
   ]
  },
  {
   "cell_type": "markdown",
   "id": "ba23890f-4b7f-4aea-b00b-abc2316b4af1",
   "metadata": {
    "slideshow": {
     "slide_type": "slide"
    },
    "tags": []
   },
   "source": [
    "## Messmethoden für Dunkle Materie"
   ]
  },
  {
   "cell_type": "markdown",
   "id": "23b366cd-a35d-49d4-a444-b838ff7c1cf0",
   "metadata": {
    "slideshow": {
     "slide_type": "subslide"
    },
    "tags": []
   },
   "source": [
    "<div>\n",
    "<img src=\"figures/dm_detection_better2.png\" width=\"1000\"/>\n",
    "</div>"
   ]
  },
  {
   "cell_type": "markdown",
   "id": "2832f450-2d89-4b5b-846c-6f9ded3f64b3",
   "metadata": {
    "slideshow": {
     "slide_type": "fragment"
    },
    "tags": []
   },
   "source": [
    "Wir können mit den unterschiedlichsten Methoden versuchen, Dunkle Materie zu finden. Da wir nicht wissen, wie genau die Dunkle Materie aussieht und wie sie mit unserer normalen Materie interagiert, versuchen wir alle Möglichkeiten abzudecken."
   ]
  },
  {
   "cell_type": "markdown",
   "id": "557b10c0-983d-4e0a-a1ef-0fea21b470d3",
   "metadata": {
    "slideshow": {
     "slide_type": "slide"
    },
    "tags": []
   },
   "source": [
    "### Direkte Messung"
   ]
  },
  {
   "cell_type": "markdown",
   "id": "92daabcc-1ed7-4c78-91cc-c0c3ca58c0db",
   "metadata": {
    "slideshow": {
     "slide_type": "fragment"
    },
    "tags": []
   },
   "source": [
    "Bei der direkten Messung versuchen wir, Wechselwirkungen zwischen Dunkler Materie und gewöhnlicher Materie zu detektieren.\n"
   ]
  },
  {
   "cell_type": "markdown",
   "id": "16d51a22-631c-4801-a9c0-d06ca5338cf4",
   "metadata": {
    "slideshow": {
     "slide_type": "fragment"
    },
    "tags": []
   },
   "source": [
    "<div>\n",
    "<img src=\"figures/schema-xenon.png\" width=\"1200\"/>\n",
    "</div>"
   ]
  },
  {
   "cell_type": "markdown",
   "id": "31ba8a1d-13c7-44e7-84e8-f906a7002ff2",
   "metadata": {
    "slideshow": {
     "slide_type": "subslide"
    },
    "tags": []
   },
   "source": [
    "<div>\n",
    "<img src=\"figures/xenonnt.jpeg\" width=\"1000\"/>\n",
    "</div>"
   ]
  },
  {
   "cell_type": "markdown",
   "id": "cfda9e53-5ea7-4a64-a232-9849a7e36dd4",
   "metadata": {
    "slideshow": {
     "slide_type": "slide"
    },
    "tags": []
   },
   "source": [
    "- Funktionsweise:\n",
    "  - Detektoren werden in tiefen Untergrundlaboren platziert, um Störungen durch kosmische Strahlung zu minimieren.\n",
    "  - Die Detektoren bestehen aus empfindlichen Materialien, die auf mögliche Wechselwirkungen mit Dunkler Materie reagieren.\n",
    "  - Wechselwirkungen können zu winzigen Energiedepositionen oder leichten Bewegungen der Detektoratome führen."
   ]
  },
  {
   "cell_type": "markdown",
   "id": "5e11cc31-d60d-4c27-bd73-3ff0b52c9342",
   "metadata": {
    "slideshow": {
     "slide_type": "fragment"
    },
    "tags": []
   },
   "source": [
    "- Herausforderungen:\n",
    "  - Nachweis sehr schwacher Wechselwirkungen.\n",
    "  - Unterscheidung zwischen Signalen der Dunklen Materie und Hintergrundrauschen."
   ]
  },
  {
   "cell_type": "markdown",
   "id": "3f8087c1-4d94-423e-8ec2-34d5c0b0bcb9",
   "metadata": {
    "slideshow": {
     "slide_type": "slide"
    },
    "tags": []
   },
   "source": [
    "### Indirekte Messung"
   ]
  },
  {
   "cell_type": "markdown",
   "id": "21dd1c5d-cd4c-4a52-8d5f-c604345cd33d",
   "metadata": {
    "slideshow": {
     "slide_type": "fragment"
    },
    "tags": []
   },
   "source": [
    "Bei der indirekten Messung versuchen wir energiereichen Teilchen oder Strahlung, die bei der Annihilation oder Zerfall von Dunkler Materie entstehen, zu beobachten."
   ]
  },
  {
   "cell_type": "markdown",
   "id": "a8628992-9b50-46d8-80f5-c851f40fa119",
   "metadata": {
    "slideshow": {
     "slide_type": "fragment"
    },
    "tags": []
   },
   "source": [
    "<div>\n",
    "<img src=\"figures/alp_2_sequences.gif\" width=\"1200\"/>\n",
    "</div>"
   ]
  },
  {
   "cell_type": "markdown",
   "id": "c4e7fa1c-6c04-49ef-91ae-272360beae4d",
   "metadata": {
    "slideshow": {
     "slide_type": "slide"
    },
    "tags": []
   },
   "source": [
    "- Funktionsweise:\n",
    "  - Dunkle Materie in Galaxienhaufen oder um Galaxien herum kann miteinander wechselwirken und sich annihiliieren oder zerfallen.\n",
    "  - Diese Prozesse erzeugen energiereiche Teilchen wie Photonen, Neutrinos oder hochenergetische geladene Teilchen.\n",
    "  - Detektoren auf der Erde können diese Teilchen oder die von ihnen erzeugte Strahlung messen."
   ]
  },
  {
   "cell_type": "markdown",
   "id": "0eb50e59-97bc-46d8-bcde-d36331aa3413",
   "metadata": {
    "slideshow": {
     "slide_type": "fragment"
    },
    "tags": []
   },
   "source": [
    "- Herausforderungen:\n",
    "  - Unterscheidung der Signale der Dunklen Materie von anderen astrophysikalischen Phänomenen.\n",
    "  - Charakterisierung des Beitrags der Dunklen Materie zur beobachteten Strahlung."
   ]
  },
  {
   "cell_type": "markdown",
   "id": "26eed791-a5ca-4430-89e3-20f252caf399",
   "metadata": {
    "slideshow": {
     "slide_type": "slide"
    },
    "tags": []
   },
   "source": [
    "### Messung am Beschleuniger"
   ]
  },
  {
   "cell_type": "markdown",
   "id": "82e02ee6-f58c-4b8c-a7bd-784f2abcbab0",
   "metadata": {
    "slideshow": {
     "slide_type": "fragment"
    },
    "tags": []
   },
   "source": [
    "Am Beschleuniger untersuchen wir Teilchenkollisionen, um Hinweise auf Dunkle Materie zu finden."
   ]
  },
  {
   "cell_type": "markdown",
   "id": "949aef34-64ff-4f5a-934c-f999c7f0bd51",
   "metadata": {
    "slideshow": {
     "slide_type": "fragment"
    },
    "tags": []
   },
   "source": [
    "<div>\n",
    "<img src=\"figures/lhc_dm.jpg\" width=\"1200\"/>\n",
    "</div>"
   ]
  },
  {
   "cell_type": "markdown",
   "id": "dbcec60c-265f-40e0-a3e9-61f3752b9532",
   "metadata": {
    "slideshow": {
     "slide_type": "slide"
    },
    "tags": []
   },
   "source": [
    "- Funktionsweise:\n",
    "  - Hochenergetische Teilchenkollisionen in Beschleunigern wie dem Large Hadron Collider (LHC) am CERN oder bei Belle II.\n",
    "  - Die Energie der Kollisionen ermöglicht die Produktion von schweren Teilchen, die mit Dunkler Materie wechselwirken können.\n",
    "  - Beobachtung von ungewöhnlichen Zerfallsmustern oder fehlenden Energie- und Impulsbilanzen, die auf die Anwesenheit von Dunkler Materie hinweisen könnten."
   ]
  },
  {
   "cell_type": "markdown",
   "id": "3c09eb19-238e-47e1-8d4c-35b0ff468eba",
   "metadata": {
    "slideshow": {
     "slide_type": "fragment"
    },
    "tags": []
   },
   "source": [
    "- Herausforderungen:\n",
    "  - Erzeugung der benötigten Energien und Intensitäten in Teilchenbeschleunigern.\n",
    "  - Unterscheidung von Signalen der Dunklen Materie von anderen physikalischen Prozessen."
   ]
  },
  {
   "cell_type": "markdown",
   "id": "e8d85f1c-7557-460d-adfc-0fe340a57a1c",
   "metadata": {
    "slideshow": {
     "slide_type": "slide"
    },
    "tags": []
   },
   "source": [
    "# Collider Do-it-yourself"
   ]
  },
  {
   "cell_type": "markdown",
   "id": "7cee6788-44d8-4996-85cf-cf0bbba265cc",
   "metadata": {},
   "source": [
    "Auch wir bei Belle II suchen Dunkle Materie. Wenn wir eine Teilchenkollision anschauen und feststellen, dass uns sowohl Energie als auch Impuls fehlen, um die Energie- und Impulserhaltungsgleichung zu erfüllen, so muss es in diesem Ereignis ein nicht-sichtbares Teilchen gegeben haben.\n",
    "\n",
    "Probiere selber aus, dieses Teilchen zu finden und zu identifizieren!"
   ]
  },
  {
   "cell_type": "code",
   "execution_count": null,
   "id": "cfa02e3f-aa87-40cd-a3c5-7c6b1f5dfb33",
   "metadata": {
    "slideshow": {
     "slide_type": "skip"
    },
    "tags": []
   },
   "outputs": [],
   "source": [
    "%matplotlib widget\n",
    "from belleIImasterclass import *\n",
    "from belleIImasterclass.widgets.tracking import *\n",
    "from belleIImasterclass.particlesmanager import ParticlesManager\n",
    "from belleIImasterclass.elements.ecal import *\n",
    "from belleIImasterclass.widgets.clustering import ECLWidget\n",
    "from belleIImasterclass.widgets.klm import KLMWidget\n",
    "from belleIImasterclass.widgets.energy_widget import EnergyWidget\n",
    "from belleIImasterclass.widgets.IDwidget import IDWidget\n",
    "\n",
    "import numpy as np\n",
    "from itertools import *\n",
    "import matplotlib.pyplot as plt\n",
    "import ipywidgets as widgets\n",
    "import warnings\n",
    "\n",
    "warnings.filterwarnings('ignore')\n",
    "\n",
    "i = 2\n",
    "pm = ParticlesManager(f\"./events/e+e-{i}.csv\",Dark_matter_particles=0)\n",
    "\n",
    "trackingWidget = TrackingWidget(pm)\n",
    "eclWidget = ECLWidget(pm)\n",
    "klmWidget=KLMWidget(pm)\n",
    "idWidget=IDWidget(pm)\n",
    "missingEnergyWidget=EnergyWidget(pm)"
   ]
  },
  {
   "cell_type": "code",
   "execution_count": null,
   "id": "991b59c1-35d2-427b-80e8-9beba2010362",
   "metadata": {
    "slideshow": {
     "slide_type": "skip"
    },
    "tags": []
   },
   "outputs": [],
   "source": [
    "trackingWidget.show()"
   ]
  },
  {
   "cell_type": "code",
   "execution_count": null,
   "id": "f48532f3-3564-47a3-87c3-7a227e2b0d24",
   "metadata": {
    "slideshow": {
     "slide_type": "skip"
    },
    "tags": []
   },
   "outputs": [],
   "source": [
    "eclWidget.show()"
   ]
  },
  {
   "cell_type": "code",
   "execution_count": null,
   "id": "d4d0192e-5af1-471c-b5e9-3033d5c550f2",
   "metadata": {
    "slideshow": {
     "slide_type": "skip"
    },
    "tags": []
   },
   "outputs": [],
   "source": [
    "klmWidget.show()"
   ]
  },
  {
   "cell_type": "code",
   "execution_count": null,
   "id": "6421d522-cbb9-4fba-8214-a2307cae16e0",
   "metadata": {
    "slideshow": {
     "slide_type": "skip"
    },
    "tags": []
   },
   "outputs": [],
   "source": [
    "idWidget.show()"
   ]
  },
  {
   "cell_type": "code",
   "execution_count": null,
   "id": "20cb0767-318f-4412-a3f5-ea7ee8bf25a1",
   "metadata": {
    "slideshow": {
     "slide_type": "skip"
    },
    "tags": []
   },
   "outputs": [],
   "source": [
    "missingEnergyWidget.show()"
   ]
  }
 ],
 "metadata": {
  "kernelspec": {
   "display_name": "masterclass_wtf",
   "language": "python",
   "name": "masterclass_wtf"
  },
  "language_info": {
   "codemirror_mode": {
    "name": "ipython",
    "version": 3
   },
   "file_extension": ".py",
   "mimetype": "text/x-python",
   "name": "python",
   "nbconvert_exporter": "python",
   "pygments_lexer": "ipython3",
   "version": "3.11.4"
  }
 },
 "nbformat": 4,
 "nbformat_minor": 5
}
