{
 "cells": [
  {
   "cell_type": "markdown",
   "id": "9c4b894e-679c-47d0-a9d5-d5ea5535b444",
   "metadata": {},
   "source": [
    "# Interpretation von Ereignissen"
   ]
  },
  {
   "cell_type": "markdown",
   "id": "07cbd71d-bc2e-4e47-b814-6ab6154d3e17",
   "metadata": {},
   "source": [
    "<div class=\"alert alert-info\">\n",
    "<strong>Aufgabe:</strong>\n",
    "Führe die untere Zelle aus, um die Aufgabe zu starten."
   ]
  },
  {
   "cell_type": "code",
   "execution_count": null,
   "id": "44fd4566-2e56-4626-b5c1-e8d15eadd2d6",
   "metadata": {},
   "outputs": [],
   "source": [
    "%matplotlib widget\n",
    "from src.widgets import *\n",
    "import warnings\n",
    "warnings.filterwarnings('ignore')\n",
    "two_particle_event = \"dark_matter_events/dark_matter_event_0.h5\""
   ]
  },
  {
   "cell_type": "code",
   "execution_count": null,
   "id": "21571317-b7e4-403b-89e1-e8c67cc49938",
   "metadata": {},
   "outputs": [],
   "source": [
    "%%html\n",
    "<style>\n",
    "div.jupyter-widgets.widget-label {display: none;}\n",
    "</style>"
   ]
  },
  {
   "cell_type": "markdown",
   "id": "9504e6b4-a838-424e-9db4-6e054bd498b1",
   "metadata": {},
   "source": [
    "# Ein Ereignis mit fehlenden Teilchen"
   ]
  },
  {
   "cell_type": "markdown",
   "id": "70ad8724-e6f2-4f1d-af4e-e8ff56274476",
   "metadata": {},
   "source": [
    "Ihr solltet jetzt damit vertraut sein, wie ihr Teilchen im Detektor findet, ihre Spur, Energie und Masse bestimmen könnt. Wie wir vorher schon gesagt haben, sind unsere Detektoren darauf spezialisiert, bestimmte Arten von Teilchen zu messen. So kann unser Spurdetektor nur die Spuren von geladenen Teilchen darstellen. Haben wir jetzt zum Beispiel ein neutrales Teilchen, so ist das im Spurdetektor nicht sichtbar.\n",
    "Hier könnt ihr euch nun auf die Suche nach solchen fehlenden Teilchen begeben.\n",
    "Wir haben für euch ein mögliches Beispiel vorbereitet.\n",
    "Wie bereits bekannt, starten wir wieder mit den Spuren."
   ]
  },
  {
   "cell_type": "markdown",
   "id": "cc18f036-f790-4e5f-98b0-16ce33330d82",
   "metadata": {},
   "source": [
    "<div class=\"alert alert-info\">\n",
    "<strong>Aufgabe:</strong>\n",
    "\n",
    "Rekonstruiere die Spuren der Teilchen."
   ]
  },
  {
   "cell_type": "code",
   "execution_count": null,
   "id": "affd1c48-6798-4c14-a370-4acf022acb8d",
   "metadata": {},
   "outputs": [],
   "source": [
    "tw = TrackingWidget(two_particle_event)\n",
    "tw.show()"
   ]
  },
  {
   "cell_type": "markdown",
   "id": "7de35285-4706-4560-bdb1-2300b53fd131",
   "metadata": {},
   "source": [
    "# Rekonstruktion der Cluster"
   ]
  },
  {
   "cell_type": "markdown",
   "id": "05069d37-a9e8-49c1-b7b2-a2086ad9c516",
   "metadata": {},
   "source": [
    "<div class=\"alert alert-info\">\n",
    "<strong>Aufgabe:</strong>\n",
    "\n",
    "Rekonstruiere die Cluster der Teilchen."
   ]
  },
  {
   "cell_type": "code",
   "execution_count": null,
   "id": "d99518bf-d972-491c-9ede-7e8582b29126",
   "metadata": {},
   "outputs": [],
   "source": [
    "ew = ECLWidget(two_particle_event)\n",
    "ew.show()"
   ]
  },
  {
   "cell_type": "markdown",
   "id": "0ef21bed-1d5c-4356-b85f-91bf810e1a35",
   "metadata": {},
   "source": [
    "# Identifizierung der gemessenen Teilchen\n",
    "Jetzt können wir auch wieder versuchen, die Teilchen zu identifizieren."
   ]
  },
  {
   "cell_type": "markdown",
   "id": "676a181b-f5fb-42d2-b750-09ddcc084b92",
   "metadata": {},
   "source": [
    "<div class=\"alert alert-info\">\n",
    "<strong>Aufgabe:</strong>\n",
    "\n",
    "Identfiziere die Teilchen"
   ]
  },
  {
   "cell_type": "code",
   "execution_count": null,
   "id": "0fa0a8a2-3582-41bb-990c-de917c2c903e",
   "metadata": {},
   "outputs": [],
   "source": [
    "mw = MatchingWidget(ew, tw)\n",
    "mw.show()"
   ]
  },
  {
   "cell_type": "markdown",
   "id": "7a0d120e-99a8-49e8-aaf1-a127f81add40",
   "metadata": {},
   "source": [
    "# Berechnung des fehlenden Teilchens\n",
    "\n",
    "Wir wissen ja, was unsere Startenergie ist. Zusätzlich dazu wissen wir, dass sowohl der Impuls als auch die Ladung null sein muss. Wenn wir daher die Energien der gefundenen Teilchen zusammenzählen, wissen wir, welche Energie das fehlende Teilchen haben muss, damit wir auf die Startenergie kommen. Beim Impuls muss jede einzelne Komponente, also der Impuls in x, y und z Richtung insgesamt null sein, ebenso wie die Ladung.\n",
    "\n",
    "Wenn wir die einzelnen Impulskomponenten des fehlenden Teilchens bestimmt haben, so können wir auch den Gesamtimpuls ausrechnen. Mithilfe des Gesamtimpulses und der Energie kommen wir wieder auf die Masse des Teilchens und zusammen mit der Ladung können wir es identifizieren."
   ]
  },
  {
   "cell_type": "code",
   "execution_count": null,
   "id": "bacac43c-3886-4a09-8660-01bd2134bc8a",
   "metadata": {},
   "outputs": [],
   "source": []
  }
 ],
 "metadata": {
  "kernelspec": {
   "display_name": "Python 3",
   "language": "python",
   "name": "python3"
  },
  "language_info": {
   "codemirror_mode": {
    "name": "ipython",
    "version": 3
   },
   "file_extension": ".py",
   "mimetype": "text/x-python",
   "name": "python",
   "nbconvert_exporter": "python",
   "pygments_lexer": "ipython3",
   "version": "3.10.5"
  },
  "widgets": {
   "application/vnd.jupyter.widget-state+json": {
    "state": {},
    "version_major": 2,
    "version_minor": 0
   }
  }
 },
 "nbformat": 4,
 "nbformat_minor": 5
}
