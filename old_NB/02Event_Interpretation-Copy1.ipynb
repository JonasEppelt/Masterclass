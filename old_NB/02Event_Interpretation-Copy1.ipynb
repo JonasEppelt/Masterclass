{
 "cells": [
  {
   "cell_type": "markdown",
   "id": "0f10f731",
   "metadata": {
    "slideshow": {
     "slide_type": "slide"
    },
    "tags": []
   },
   "source": [
    "# Ereignisrekonstruktion\n",
    "\n",
    "#### Ein Teilchen kommt selten allein"
   ]
  },
  {
   "cell_type": "code",
   "execution_count": 1,
   "id": "82cab2fb",
   "metadata": {
    "slideshow": {
     "slide_type": "skip"
    },
    "tags": []
   },
   "outputs": [],
   "source": [
    "%matplotlib widget\n",
    "from belleIImasterclass.particlesmanager import ParticlesManager\n",
    "from belleIImasterclass.widgets.clustering import ECLWidget\n",
    "from belleIImasterclass.widgets.klm import KLMWidget\n",
    "from belleIImasterclass.widgets.energy_widget import EnergyWidget\n",
    "from belleIImasterclass.widgets.IDwidget import IDWidget\n",
    "from belleIImasterclass.widgets.tracking import TrackingWidget\n",
    "from belleIImasterclass.utils import hide_code_in_slideshow\n",
    "import numpy as np\n",
    "i = 19\n",
    "pm = ParticlesManager(f\"./events\", event_number = i)\n",
    "\n",
    "trackingWidget = TrackingWidget(pm, truthvalues = True)\n",
    "eclWidget = ECLWidget(pm)\n",
    "klmWidget=KLMWidget(pm)\n",
    "idWidget=IDWidget(pm)\n",
    "missingEnergyWidget=EnergyWidget(pm)"
   ]
  },
  {
   "cell_type": "markdown",
   "id": "700cead4",
   "metadata": {
    "slideshow": {
     "slide_type": "slide"
    },
    "tags": []
   },
   "source": [
    "# Was ist ein Ereignis?\n",
    "\n",
    "<table>\n",
    "<tr>\n",
    "<td> <img align=\"right\" width=\"600\" src=\"figures/collision.gif\"> </td>\n",
    "\n",
    "<td> \n",
    "\n",
    " - Ein $e^+$ und $e^-$ kollidieren.\n",
    "    \n",
    " - Es entstehen mehrere Teilchen.\n",
    "    \n",
    " - Jedes Teilchen hinterlässt Signale im Detektor.\n",
    "    \n",
    " - Gleichzeitig gibt es Untergrundrauschen und Untergrundsignale.\n",
    "    \n",
    " &rarr; Alle gleichzeitig abgespeicherten Signale werden als ein Ereigniss bezeichnet\n",
    "    \n",
    "\n",
    "    \n",
    " &rarr; Aufgaben:\n",
    "       \n",
    " - Detektorsignale von Teilchen und Untergrund trennen\n",
    "    \n",
    " - Teilchen vermessen und bestimmen\n",
    "    \n",
    " - Energie-, Impuls- und Ladungserhaltung prüfen.\n",
    "    \n",
    "</td>\n",
    "</tr></table>\n",
    "\n"
   ]
  },
  {
   "cell_type": "markdown",
   "id": "00280f90",
   "metadata": {
    "slideshow": {
     "slide_type": "slide"
    },
    "tags": []
   },
   "source": [
    "## Strategie\n",
    "\n",
    "<table><tr>\n",
    "<td> <img align=\"right\" width=\"600\" src=\"figures/BelleDetector.png\"> </td>\n",
    "<td> \n",
    "    \n",
    " - Subdetektoren von innen nach außen betrachten:\n",
    "    \n",
    "     1. Jede Spur rekonstruieren\n",
    "    \n",
    "     2. Cluster im ECL finden und Energie bestimmen\n",
    "    \n",
    "     3. Treffer im KLM zuordnen\n",
    "    \n",
    " - Informationen zusammentragen um:\n",
    "    \n",
    "    1. Teilchen zu identifizieren.\n",
    "    \n",
    "    2. Energieerhaltung zu prüfen.\n",
    "    \n",
    "    3. Impulserhaltung zu prüfen.\n",
    "    \n",
    "    4. Fehlende Teilchen zu bestimmen.\n",
    "    \n",
    "    </td>\n",
    "</tr></table>"
   ]
  },
  {
   "cell_type": "markdown",
   "id": "1c3ff25c",
   "metadata": {
    "slideshow": {
     "slide_type": "slide"
    },
    "tags": []
   },
   "source": [
    "# Spurrekonstruktion\n",
    "\n",
    "<div class=\"alert alert-info\">\n",
    "<strong>Aufgabe:</strong>\n",
    "    \n",
    "Rekonstruiere die Spuren der Teilchen.\n",
    "\n",
    "</div>\n",
    "\n",
    "<div class=\"alert alert-warning\">\n",
    "<strong>Hinweis:</strong>\n",
    "\n",
    "Mit Hilfe der Tabs auf der linken Seite kannst du zwischen den verschiedenen Teilchen wechseln. \n",
    "    \n",
    "Detektorteile, bei denen du bereits festgelegt hast, dass sie von anderen Teilchen getroffen worden sind, werden dann gelb eingefärbt.\n",
    "  \n",
    "</div>"
   ]
  },
  {
   "cell_type": "code",
   "execution_count": 2,
   "id": "b4d33996-f2fc-4088-87c6-090bc78503fd",
   "metadata": {
    "slideshow": {
     "slide_type": "subslide"
    },
    "tags": []
   },
   "outputs": [
    {
     "data": {
      "application/vnd.jupyter.widget-view+json": {
       "model_id": "778d3ad0bcec425eaa7d9dd792a25f24",
       "version_major": 2,
       "version_minor": 0
      },
      "text/plain": [
       "HBox(children=(HBox(children=(Accordion(children=(VBox(children=(FloatSlider(value=2.091413240217205, descript…"
      ]
     },
     "metadata": {},
     "output_type": "display_data"
    }
   ],
   "source": [
    "trackingWidget.show()"
   ]
  },
  {
   "cell_type": "markdown",
   "id": "3337f58c",
   "metadata": {
    "slideshow": {
     "slide_type": "slide"
    },
    "tags": []
   },
   "source": [
    "## Clusterrekonstruktion\n",
    "\n",
    "\n",
    "<div class=\"alert alert-info\">\n",
    "<strong>Aufgabe:</strong>\n",
    "\n",
    "Rekonstruiere die Cluster der Teilchen.\n",
    "</div>\n",
    "\n",
    "<div class=\"alert alert-warning\">\n",
    "<strong>Hinweis:</strong>\n",
    "\n",
    "Um den Cluster für das nächste Teilchen auszuwählen, kannst du hier das Dropdown-Menu nutzen. Um bereits bekanntes Wissen auszunutzen, wird der Bereich im ECL, der durch die Spur, die du vorher bestimmt hast, getroffen wird, mit einem schwarzen Kreis markiert.\n",
    "Bereits ausgewählte Cluster werden als Erinnerung wieder gelb eingefärbt.\n",
    "</div>\n"
   ]
  },
  {
   "cell_type": "code",
   "execution_count": 3,
   "id": "ec76b595",
   "metadata": {
    "slideshow": {
     "slide_type": "subslide"
    },
    "tags": []
   },
   "outputs": [
    {
     "data": {
      "application/vnd.jupyter.widget-view+json": {
       "model_id": "90c5385d40ee4c609b3a820fdd466bcf",
       "version_major": 2,
       "version_minor": 0
      },
      "text/plain": [
       "HBox(children=(Accordion(children=(HBox(children=(VBox(children=(Label(value='ges. Energie der ausgewählten Kr…"
      ]
     },
     "metadata": {},
     "output_type": "display_data"
    }
   ],
   "source": [
    "eclWidget.show()"
   ]
  },
  {
   "cell_type": "markdown",
   "id": "e8a77349",
   "metadata": {
    "slideshow": {
     "slide_type": "slide"
    },
    "tags": []
   },
   "source": [
    "## KLM\n",
    "\n",
    "<div class=\"alert alert-info\">\n",
    "<strong>Aufgabe:</strong>\n",
    "\n",
    "Finde für die vorher rekonstruierten Spuren heraus, ob sie auch zu einem Signal im KLM-Detektor passen.\n",
    "</div>\n",
    "\n",
    "\n",
    "<div class=\"alert alert-warning\">\n",
    "<strong>Hinweis:</strong>\n",
    "\n",
    "Um die Übersicht zu vereinfachen, wird immer nur die Spur für das aktuelle Teilchen eingeblendet. \n",
    "Bereits verwendete Treffer werden nicht extra markiert.\n",
    "</div>\n"
   ]
  },
  {
   "cell_type": "code",
   "execution_count": 4,
   "id": "541b9ad0",
   "metadata": {
    "slideshow": {
     "slide_type": "subslide"
    },
    "tags": []
   },
   "outputs": [
    {
     "data": {
      "application/vnd.jupyter.widget-view+json": {
       "model_id": "44b3ea2355064589828a19f0cc7d60a8",
       "version_major": 2,
       "version_minor": 0
      },
      "text/plain": [
       "HBox(children=(Accordion(children=(VBox(children=(Button(icon='rotate-right', layout=Layout(width='10%'), styl…"
      ]
     },
     "metadata": {},
     "output_type": "display_data"
    }
   ],
   "source": [
    "klmWidget.show()"
   ]
  },
  {
   "cell_type": "markdown",
   "id": "3cf2ffcc",
   "metadata": {
    "slideshow": {
     "slide_type": "slide"
    },
    "tags": []
   },
   "source": [
    "# Identifizierung der gemessenen Teilchen\n",
    "\n",
    "<div class=\"alert alert-info\">\n",
    "<strong>Aufgabe:</strong>\n",
    "Identifiziere jedes der Teilchen mit einem der bekannten Teilchen.\n",
    "</div>\n",
    "\n",
    "<div class=\"alert alert-warning\">\n",
    "<strong>Hinweis:</strong>\n",
    "Solltest du Probleme haben, ein entsprechendes Teilchen zu finden, kontrolliere deine vorherigen Schritte. Insbesondere leichte Teilchen müssen sehr genau vermessen werden.    \n",
    "</div>\n",
    "\n",
    "<div class=\"alert alert-warning\">\n",
    "<strong>Hinweis 2:</strong>\n",
    "Teilchen über ihre Masse zu identifizieren, ist vorallem bei leichten Teilchen praktisch unmöglich. Konzentriere dich lieber auf Ladung, E/p, wie der Cluster im ECL aussieht und ob es einen Treffer im KLM hat. Damit sollte eine Identifizierung möglich sein.  \n",
    "</div>\n"
   ]
  },
  {
   "cell_type": "code",
   "execution_count": 5,
   "id": "4548adc2",
   "metadata": {
    "tags": []
   },
   "outputs": [
    {
     "data": {
      "application/vnd.jupyter.widget-view+json": {
       "model_id": "ff7f83b9db934085af0754d8091ef43c",
       "version_major": 2,
       "version_minor": 0
      },
      "text/plain": [
       "Tab(children=(HBox(children=(VBox(children=(HBox(children=(Label(value='Resultate', style=LabelStyle(font_size…"
      ]
     },
     "metadata": {},
     "output_type": "display_data"
    }
   ],
   "source": [
    "idWidget.show()"
   ]
  },
  {
   "cell_type": "markdown",
   "id": "661031ea",
   "metadata": {
    "slideshow": {
     "slide_type": "slide"
    },
    "tags": []
   },
   "source": [
    "# Erhaltungssätze\n",
    " \n",
    " - Ereignisse unterliegen immer Erhaltungssätzen:\n",
    "     - Energieerhaltung: Die Summe der Energien der einzelnen Teilchen im Detektor entspricht der Energie der Kollisionsteilchen\n",
    "     - Impulserhaltung: Die Summe der Impulse der einzelnen Teilchen im Detektor ist 0.\n",
    "     - Ladungserhaltung: Die Summe der Ladungen am der einzelnen Teilchen im Detektor entspricht der Summe der Ladungen der Kollisionsteilchen.\n",
    "         - $e^-$ hat Ladung -1\n",
    "         - $e^+$ hat Ladung +1\n",
    "         - -> Ladung muss in der Summe 0 sein."
   ]
  },
  {
   "cell_type": "markdown",
   "id": "c7eb2a85",
   "metadata": {
    "slideshow": {
     "slide_type": "subslide"
    },
    "tags": []
   },
   "source": [
    "<div class=\"alert alert-info\">\n",
    "<strong>Aufgabe:</strong>\n",
    "\n",
    "Finde heraus, wie viel Energie, Impuls und Ladung im Ereignis fehlt. \n",
    "    \n",
    "</div>\n",
    "\n",
    "<div class=\"alert alert-warning\">\n",
    "<strong>Hinweis:</strong>\n",
    "\n",
    "Das Widget unten visualisiert den Energie- und Impulserhaltungssatz.\n",
    "Die Pfeile auf der rechten Seite stellen deine zuvor gemessenen Teilchen dar. Der Pfeil zeigt in die Richtung des Impulses und seine Länge entspricht dem Betrag des Impulses.\n",
    "Mit den Reglern links kannst du den fehlenden Impuls und seine Richtung einstellen.\n",
    "\n",
    "\n",
    "Die Balken stellen die Energie dar. Sie sollte sich bis zum schwarzen Strich aufsummieren.\n",
    "    \n",
    "</div>\n"
   ]
  },
  {
   "cell_type": "code",
   "execution_count": 6,
   "id": "9a6acb4b",
   "metadata": {
    "slideshow": {
     "slide_type": "subslide"
    },
    "tags": []
   },
   "outputs": [
    {
     "data": {
      "application/vnd.jupyter.widget-view+json": {
       "model_id": "31db9dfca2cc419baba0646bf213ada2",
       "version_major": 2,
       "version_minor": 0
      },
      "text/plain": [
       "HBox(children=(VBox(children=(Button(icon='rotate-right', layout=Layout(margin='3px 3px 3px 3px', width='318px…"
      ]
     },
     "metadata": {},
     "output_type": "display_data"
    }
   ],
   "source": [
    "missingEnergyWidget.show()"
   ]
  },
  {
   "cell_type": "markdown",
   "id": "b514034d",
   "metadata": {
    "slideshow": {
     "slide_type": "slide"
    },
    "tags": []
   },
   "source": [
    "# Zusammenfassung\n",
    "\n",
    "Gratulation, du kannst jetzt Teichenphysik studieren :)"
   ]
  }
 ],
 "metadata": {
  "kernelspec": {
   "display_name": "Python 3 (ipykernel)",
   "language": "python",
   "name": "python3"
  },
  "language_info": {
   "codemirror_mode": {
    "name": "ipython",
    "version": 3
   },
   "file_extension": ".py",
   "mimetype": "text/x-python",
   "name": "python",
   "nbconvert_exporter": "python",
   "pygments_lexer": "ipython3",
   "version": "3.10.11"
  },
  "vscode": {
   "interpreter": {
    "hash": "6aa15e7b2b03744e62d71d2ec6746d4ecf11cdddddbe19ba13108e7c0421f93d"
   }
  },
  "widgets": {
   "application/vnd.jupyter.widget-state+json": {
    "state": {},
    "version_major": 2,
    "version_minor": 0
   }
  }
 },
 "nbformat": 4,
 "nbformat_minor": 5
}
