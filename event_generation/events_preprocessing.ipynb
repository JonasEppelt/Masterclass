{
 "cells": [
  {
   "cell_type": "code",
   "execution_count": 1,
   "id": "d90bdd9d-8891-43f6-b6e8-7d140b570651",
   "metadata": {
    "tags": []
   },
   "outputs": [],
   "source": [
    "import pandas as pd\n",
    "import numpy as np\n",
    "import math\n",
    "import matplotlib.pyplot as plt\n",
    "import os"
   ]
  },
  {
   "cell_type": "code",
   "execution_count": 2,
   "id": "6e9e5b55-0bc6-4f17-8f00-619687c1627c",
   "metadata": {
    "tags": []
   },
   "outputs": [
    {
     "name": "stdout",
     "output_type": "stream",
     "text": [
      "10.167360035166404\n",
      "10.600795630241958\n",
      "10.302562749000797\n",
      "10.610552392148707\n",
      "10.262810964313065\n",
      "11.00489598184531\n",
      "11.024321400629853\n"
     ]
    },
    {
     "name": "stderr",
     "output_type": "stream",
     "text": [
      "/tmp/ipykernel_119090/2679126711.py:32: RuntimeWarning: divide by zero encountered in scalar divide\n",
      "  scale = E/cell_E\n",
      "/tmp/ipykernel_119090/2679126711.py:36: RuntimeWarning: divide by zero encountered in scalar divide\n",
      "  scale = E/cell_E\n"
     ]
    },
    {
     "name": "stdout",
     "output_type": "stream",
     "text": [
      "11.013015624654766\n"
     ]
    },
    {
     "name": "stderr",
     "output_type": "stream",
     "text": [
      "/tmp/ipykernel_119090/2679126711.py:32: RuntimeWarning: divide by zero encountered in scalar divide\n",
      "  scale = E/cell_E\n",
      "/tmp/ipykernel_119090/2679126711.py:36: RuntimeWarning: divide by zero encountered in scalar divide\n",
      "  scale = E/cell_E\n"
     ]
    },
    {
     "name": "stdout",
     "output_type": "stream",
     "text": [
      "11.006911416599127\n",
      "11.003357387887347\n"
     ]
    },
    {
     "name": "stderr",
     "output_type": "stream",
     "text": [
      "/tmp/ipykernel_119090/2679126711.py:32: RuntimeWarning: divide by zero encountered in scalar divide\n",
      "  scale = E/cell_E\n",
      "/tmp/ipykernel_119090/2679126711.py:36: RuntimeWarning: divide by zero encountered in scalar divide\n",
      "  scale = E/cell_E\n"
     ]
    },
    {
     "name": "stdout",
     "output_type": "stream",
     "text": [
      "11.016593379687398\n",
      "11.025991490419496\n",
      "11.034523732701308\n",
      "11.000598998703225\n"
     ]
    },
    {
     "name": "stderr",
     "output_type": "stream",
     "text": [
      "/tmp/ipykernel_119090/2679126711.py:32: RuntimeWarning: divide by zero encountered in scalar divide\n",
      "  scale = E/cell_E\n",
      "/tmp/ipykernel_119090/2679126711.py:36: RuntimeWarning: divide by zero encountered in scalar divide\n",
      "  scale = E/cell_E\n"
     ]
    },
    {
     "name": "stdout",
     "output_type": "stream",
     "text": [
      "11.006100144355916\n"
     ]
    },
    {
     "name": "stderr",
     "output_type": "stream",
     "text": [
      "/tmp/ipykernel_119090/2679126711.py:32: RuntimeWarning: divide by zero encountered in scalar divide\n",
      "  scale = E/cell_E\n",
      "/tmp/ipykernel_119090/2679126711.py:36: RuntimeWarning: divide by zero encountered in scalar divide\n",
      "  scale = E/cell_E\n"
     ]
    },
    {
     "name": "stdout",
     "output_type": "stream",
     "text": [
      "11.00389837161718\n"
     ]
    },
    {
     "name": "stderr",
     "output_type": "stream",
     "text": [
      "/tmp/ipykernel_119090/2679126711.py:32: RuntimeWarning: divide by zero encountered in scalar divide\n",
      "  scale = E/cell_E\n",
      "/tmp/ipykernel_119090/2679126711.py:36: RuntimeWarning: divide by zero encountered in scalar divide\n",
      "  scale = E/cell_E\n"
     ]
    },
    {
     "name": "stdout",
     "output_type": "stream",
     "text": [
      "11.013910259358962\n"
     ]
    },
    {
     "name": "stderr",
     "output_type": "stream",
     "text": [
      "/tmp/ipykernel_119090/2679126711.py:32: RuntimeWarning: divide by zero encountered in scalar divide\n",
      "  scale = E/cell_E\n",
      "/tmp/ipykernel_119090/2679126711.py:36: RuntimeWarning: divide by zero encountered in scalar divide\n",
      "  scale = E/cell_E\n"
     ]
    },
    {
     "name": "stdout",
     "output_type": "stream",
     "text": [
      "11.002230255040066\n"
     ]
    },
    {
     "name": "stderr",
     "output_type": "stream",
     "text": [
      "/tmp/ipykernel_119090/2679126711.py:32: RuntimeWarning: divide by zero encountered in scalar divide\n",
      "  scale = E/cell_E\n",
      "/tmp/ipykernel_119090/2679126711.py:36: RuntimeWarning: divide by zero encountered in scalar divide\n",
      "  scale = E/cell_E\n"
     ]
    },
    {
     "name": "stdout",
     "output_type": "stream",
     "text": [
      "10.513909951320315\n",
      "10.69651389679817\n",
      "10.535445450844522\n",
      "10.456583982789404\n",
      "10.628438591959679\n",
      "11.000984296868538\n"
     ]
    },
    {
     "name": "stderr",
     "output_type": "stream",
     "text": [
      "/tmp/ipykernel_119090/2679126711.py:32: RuntimeWarning: divide by zero encountered in scalar divide\n",
      "  scale = E/cell_E\n",
      "/tmp/ipykernel_119090/2679126711.py:36: RuntimeWarning: divide by zero encountered in scalar divide\n",
      "  scale = E/cell_E\n",
      "/tmp/ipykernel_119090/2679126711.py:32: RuntimeWarning: divide by zero encountered in scalar divide\n",
      "  scale = E/cell_E\n",
      "/tmp/ipykernel_119090/2679126711.py:36: RuntimeWarning: divide by zero encountered in scalar divide\n",
      "  scale = E/cell_E\n"
     ]
    },
    {
     "name": "stdout",
     "output_type": "stream",
     "text": [
      "10.167953057653827\n",
      "10.490186444166243\n",
      "10.60308424914792\n",
      "10.506257731006379\n",
      "10.542682951938339\n",
      "11.00088855554641\n"
     ]
    },
    {
     "name": "stderr",
     "output_type": "stream",
     "text": [
      "/tmp/ipykernel_119090/2679126711.py:32: RuntimeWarning: divide by zero encountered in scalar divide\n",
      "  scale = E/cell_E\n",
      "/tmp/ipykernel_119090/2679126711.py:36: RuntimeWarning: divide by zero encountered in scalar divide\n",
      "  scale = E/cell_E\n"
     ]
    },
    {
     "name": "stdout",
     "output_type": "stream",
     "text": [
      "11.004838882903886\n"
     ]
    },
    {
     "name": "stderr",
     "output_type": "stream",
     "text": [
      "/tmp/ipykernel_119090/2679126711.py:32: RuntimeWarning: divide by zero encountered in scalar divide\n",
      "  scale = E/cell_E\n",
      "/tmp/ipykernel_119090/2679126711.py:36: RuntimeWarning: divide by zero encountered in scalar divide\n",
      "  scale = E/cell_E\n"
     ]
    },
    {
     "name": "stdout",
     "output_type": "stream",
     "text": [
      "11.002639310491597\n"
     ]
    },
    {
     "name": "stderr",
     "output_type": "stream",
     "text": [
      "/tmp/ipykernel_119090/2679126711.py:32: RuntimeWarning: divide by zero encountered in scalar divide\n",
      "  scale = E/cell_E\n",
      "/tmp/ipykernel_119090/2679126711.py:36: RuntimeWarning: divide by zero encountered in scalar divide\n",
      "  scale = E/cell_E\n"
     ]
    },
    {
     "name": "stdout",
     "output_type": "stream",
     "text": [
      "11.000453704243661\n"
     ]
    },
    {
     "name": "stderr",
     "output_type": "stream",
     "text": [
      "/tmp/ipykernel_119090/2679126711.py:32: RuntimeWarning: divide by zero encountered in scalar divide\n",
      "  scale = E/cell_E\n",
      "/tmp/ipykernel_119090/2679126711.py:36: RuntimeWarning: divide by zero encountered in scalar divide\n",
      "  scale = E/cell_E\n"
     ]
    },
    {
     "name": "stdout",
     "output_type": "stream",
     "text": [
      "11.005886522986135\n"
     ]
    },
    {
     "name": "stderr",
     "output_type": "stream",
     "text": [
      "/tmp/ipykernel_119090/2679126711.py:32: RuntimeWarning: divide by zero encountered in scalar divide\n",
      "  scale = E/cell_E\n",
      "/tmp/ipykernel_119090/2679126711.py:36: RuntimeWarning: divide by zero encountered in scalar divide\n",
      "  scale = E/cell_E\n"
     ]
    },
    {
     "name": "stdout",
     "output_type": "stream",
     "text": [
      "11.015659083679461\n"
     ]
    },
    {
     "name": "stderr",
     "output_type": "stream",
     "text": [
      "/tmp/ipykernel_119090/2679126711.py:32: RuntimeWarning: divide by zero encountered in scalar divide\n",
      "  scale = E/cell_E\n",
      "/tmp/ipykernel_119090/2679126711.py:36: RuntimeWarning: divide by zero encountered in scalar divide\n",
      "  scale = E/cell_E\n"
     ]
    },
    {
     "name": "stdout",
     "output_type": "stream",
     "text": [
      "11.011813118815448\n"
     ]
    },
    {
     "name": "stderr",
     "output_type": "stream",
     "text": [
      "/tmp/ipykernel_119090/2679126711.py:32: RuntimeWarning: divide by zero encountered in scalar divide\n",
      "  scale = E/cell_E\n",
      "/tmp/ipykernel_119090/2679126711.py:36: RuntimeWarning: divide by zero encountered in scalar divide\n",
      "  scale = E/cell_E\n"
     ]
    }
   ],
   "source": [
    "n_particles = 3\n",
    "\n",
    "l = []\n",
    "l += [f\"e+e-dm{i}.csv\" for i in range(0,5)] \n",
    "l += [f\"e+e-gamma{i}.csv\" for i in range(0,5)] \n",
    "l += [f\"e+e-n{i}.csv\" for i in range(0,3)] \n",
    "l += [f\"e+mu-nu{i}.csv\" for i in range(0,5)]\n",
    "l += [f\"mu+mu-dm{i}.csv\" for i in range(0,5)]\n",
    "l += [\"mu+mu-gamma.csv\"]\n",
    "l += [f\"pi+pi-dm{i}.csv\" for i in range(0,5)]\n",
    "l += [f\"pi0e+e-{i}.csv\" for i in range(0,7)]\n",
    "\n",
    "for name in l: \n",
    "    df = pd.read_csv(f\"~/belleii_masterclass/events/{name}\")\n",
    "    check_cols = [\"pdg\", \"energy\", \"charge\", \"px\", \"py\", \"pz\"]\n",
    "    cell_cols =  [str(i) for i in range(8736)]\n",
    "    columns_to_add = cell_cols\n",
    "    \n",
    "    add_to_index = 1\n",
    "    to_add_indices = [i for i in range(n_particles,max(df.index)+1)]\n",
    "    if to_add_indices != []:\n",
    "        print(df.loc[0:to_add_indices[0]-1,\"energy\"].sum())\n",
    "    else:\n",
    "        print(df.loc[:,\"energy\"].sum())\n",
    "    df.loc[add_to_index, columns_to_add] += df.loc[to_add_indices, columns_to_add].sum(0)\n",
    "    df = df.drop(to_add_indices)\n",
    "\n",
    "    for pid in df.index:\n",
    "        if df.loc[pid, \"pdg\"] != 99999.0:\n",
    "            cell_E = df.loc[pid, cell_cols].sum()\n",
    "            E = df.loc[pid, \"energy\"]\n",
    "            scale = E/cell_E\n",
    "            df.loc[pid, cell_cols] *= scale\n",
    "            cell_E = df.loc[pid, cell_cols].sum()\n",
    "            E = df.loc[pid, \"energy\"]\n",
    "            scale = E/cell_E\n",
    "\n",
    "    df.to_csv(f\"new_events/{name}\")"
   ]
  },
  {
   "cell_type": "code",
   "execution_count": 3,
   "id": "07f9be90-0fb6-409d-be07-3735a7642a17",
   "metadata": {
    "tags": []
   },
   "outputs": [
    {
     "name": "stdout",
     "output_type": "stream",
     "text": [
      "11.0026944640484\n",
      "11.010939184375781\n",
      "10.998095164947431\n",
      "11.00699262057314\n",
      "11.009201894057792\n",
      "11.012316332672437\n",
      "11.010596388792054\n",
      "10.993374279889352\n",
      "10.99457633778944\n",
      "11.002038884496326\n",
      "10.985921170717774\n",
      "10.997396694568357\n",
      "11.003840596994337\n",
      "11.011155469892786\n",
      "10.999096234670686\n",
      "11.001557344963073\n",
      "11.006226714782725\n",
      "10.99979228490631\n"
     ]
    }
   ],
   "source": [
    "n_particles = 2\n",
    "\n",
    "l = []\n",
    "l += [f\"e+e-{i}.csv\" for i in range(0,8)] \n",
    "l += [f\"mu+mu-{i}.csv\" for i in range(0,8)]\n",
    "l += [f\"pi+pi-{i}.csv\" for i in range(0,2)]\n",
    "\n",
    "for name in l: \n",
    "    df = pd.read_csv(f\"~/belleii_masterclass/events/{name}\")\n",
    "    check_cols = [\"pdg\", \"energy\", \"charge\", \"px\", \"py\", \"pz\"]\n",
    "    cell_cols =  [str(i) for i in range(8736)]\n",
    "    columns_to_add = cell_cols\n",
    "    \n",
    "    add_to_index = 1\n",
    "    to_add_indices = [i for i in range(n_particles,max(df.index)+1)]\n",
    "    if to_add_indices != []:\n",
    "        print(df.loc[0:to_add_indices[0]-1,\"energy\"].sum())\n",
    "    else:\n",
    "        print(df.loc[:,\"energy\"].sum())\n",
    "    df.loc[add_to_index, columns_to_add] += df.loc[to_add_indices, columns_to_add].sum(0)\n",
    "    df = df.drop(to_add_indices)\n",
    "\n",
    "    for pid in df.index:\n",
    "        if df.loc[pid, \"pdg\"] != 99999.0:\n",
    "            cell_E = df.loc[pid, cell_cols].sum()\n",
    "            E = df.loc[pid, \"energy\"]\n",
    "            scale = E/cell_E\n",
    "            df.loc[pid, cell_cols] *= scale\n",
    "            cell_E = df.loc[pid, cell_cols].sum()\n",
    "            E = df.loc[pid, \"energy\"]\n",
    "            scale = E/cell_E\n",
    "\n",
    "    df.to_csv(f\"new_events/{name}\")"
   ]
  },
  {
   "cell_type": "code",
   "execution_count": 4,
   "id": "13f54623-6aa3-4f43-83e8-e20e3422a1c3",
   "metadata": {},
   "outputs": [
    {
     "name": "stdout",
     "output_type": "stream",
     "text": [
      "11.000359496356674\n",
      "11.002271192755657\n",
      "11.004382716281997\n",
      "11.009153794241621\n",
      "11.002957530956273\n",
      "11.002535590953357\n",
      "10.998379984327341\n",
      "10.991088671049376\n",
      "10.993242622888088\n",
      "11.85270987200322\n"
     ]
    },
    {
     "name": "stderr",
     "output_type": "stream",
     "text": [
      "/tmp/ipykernel_119090/3273041875.py:28: RuntimeWarning: divide by zero encountered in scalar divide\n",
      "  scale = E/cell_E\n",
      "/tmp/ipykernel_119090/3273041875.py:32: RuntimeWarning: divide by zero encountered in scalar divide\n",
      "  scale = E/cell_E\n",
      "/tmp/ipykernel_119090/3273041875.py:28: RuntimeWarning: divide by zero encountered in scalar divide\n",
      "  scale = E/cell_E\n",
      "/tmp/ipykernel_119090/3273041875.py:32: RuntimeWarning: divide by zero encountered in scalar divide\n",
      "  scale = E/cell_E\n"
     ]
    },
    {
     "name": "stdout",
     "output_type": "stream",
     "text": [
      "11.265923930826753\n"
     ]
    },
    {
     "name": "stderr",
     "output_type": "stream",
     "text": [
      "/tmp/ipykernel_119090/3273041875.py:28: RuntimeWarning: divide by zero encountered in scalar divide\n",
      "  scale = E/cell_E\n",
      "/tmp/ipykernel_119090/3273041875.py:32: RuntimeWarning: divide by zero encountered in scalar divide\n",
      "  scale = E/cell_E\n",
      "/tmp/ipykernel_119090/3273041875.py:28: RuntimeWarning: divide by zero encountered in scalar divide\n",
      "  scale = E/cell_E\n",
      "/tmp/ipykernel_119090/3273041875.py:32: RuntimeWarning: divide by zero encountered in scalar divide\n",
      "  scale = E/cell_E\n"
     ]
    },
    {
     "name": "stdout",
     "output_type": "stream",
     "text": [
      "11.273161696429657\n"
     ]
    },
    {
     "name": "stderr",
     "output_type": "stream",
     "text": [
      "/tmp/ipykernel_119090/3273041875.py:28: RuntimeWarning: divide by zero encountered in scalar divide\n",
      "  scale = E/cell_E\n",
      "/tmp/ipykernel_119090/3273041875.py:32: RuntimeWarning: divide by zero encountered in scalar divide\n",
      "  scale = E/cell_E\n",
      "/tmp/ipykernel_119090/3273041875.py:28: RuntimeWarning: divide by zero encountered in scalar divide\n",
      "  scale = E/cell_E\n",
      "/tmp/ipykernel_119090/3273041875.py:32: RuntimeWarning: divide by zero encountered in scalar divide\n",
      "  scale = E/cell_E\n"
     ]
    }
   ],
   "source": [
    "n_particles = 4\n",
    "\n",
    "l = []\n",
    "l += [f\"e+e-mu+mu-{i}.csv\" for i in range(0,6)] \n",
    "l += [f\"e+e-pi+pi-{i}.csv\" for i in range(0,3)] \n",
    "l += [f\"pi+pi-{i}.csv\" for i in range(0,2)]\n",
    "l += [\"mu+mu-gammagamma.csv\"]\n",
    "\n",
    "for name in l: \n",
    "    df = pd.read_csv(f\"~/belleii_masterclass/events/{name}\")\n",
    "    check_cols = [\"pdg\", \"energy\", \"charge\", \"px\", \"py\", \"pz\"]\n",
    "    cell_cols =  [str(i) for i in range(8736)]\n",
    "    columns_to_add = cell_cols\n",
    "    \n",
    "    add_to_index = 1\n",
    "    to_add_indices = [i for i in range(n_particles,max(df.index)+1)]\n",
    "    if to_add_indices != []:\n",
    "        print(df.loc[0:to_add_indices[0]-1,\"energy\"].sum())\n",
    "    else:\n",
    "        print(df.loc[:,\"energy\"].sum())\n",
    "    df.loc[add_to_index, columns_to_add] += df.loc[to_add_indices, columns_to_add].sum(0)\n",
    "    df = df.drop(to_add_indices)\n",
    "\n",
    "    for pid in df.index:\n",
    "        if df.loc[pid, \"pdg\"] != 99999.0:\n",
    "            cell_E = df.loc[pid, cell_cols].sum()\n",
    "            E = df.loc[pid, \"energy\"]\n",
    "            scale = E/cell_E\n",
    "            df.loc[pid, cell_cols] *= scale\n",
    "            cell_E = df.loc[pid, cell_cols].sum()\n",
    "            E = df.loc[pid, \"energy\"]\n",
    "            scale = E/cell_E\n",
    "\n",
    "    df.to_csv(f\"new_events/{name}\")"
   ]
  },
  {
   "cell_type": "code",
   "execution_count": 5,
   "id": "e7bb7317-6c06-4f83-a94a-be6b2341cbf0",
   "metadata": {},
   "outputs": [
    {
     "name": "stdout",
     "output_type": "stream",
     "text": [
      "10.45803254388567\n",
      "10.263427103473173\n",
      "10.346612748067912\n",
      "9.770811756358508\n",
      "10.172039280654802\n",
      "9.3756253144511\n"
     ]
    }
   ],
   "source": [
    "n_particles = 5\n",
    "\n",
    "l = []\n",
    "l += [f\"e+e-e+e-dm{i}.csv\" for i in range(0,4)] \n",
    "l += [f\"e+e-mu+mu-dm.csv\"] \n",
    "l += [f\"mu+mu-pi+pi-dm.csv\"]\n",
    "\n",
    "for name in l: \n",
    "    df = pd.read_csv(f\"~/belleii_masterclass/events/{name}\")\n",
    "    check_cols = [\"pdg\", \"energy\", \"charge\", \"px\", \"py\", \"pz\"]\n",
    "    cell_cols =  [str(i) for i in range(8736)]\n",
    "    columns_to_add = cell_cols\n",
    "    \n",
    "    add_to_index = 1\n",
    "    to_add_indices = [i for i in range(n_particles,max(df.index)+1)]\n",
    "    if to_add_indices != []:\n",
    "        print(df.loc[0:to_add_indices[0]-1,\"energy\"].sum())\n",
    "    else:\n",
    "        print(df.loc[:,\"energy\"].sum())\n",
    "    df.loc[add_to_index, columns_to_add] += df.loc[to_add_indices, columns_to_add].sum(0)\n",
    "    df = df.drop(to_add_indices)\n",
    "\n",
    "    for pid in df.index:\n",
    "        if df.loc[pid, \"pdg\"] != 99999.0:\n",
    "            cell_E = df.loc[pid, cell_cols].sum()\n",
    "            E = df.loc[pid, \"energy\"]\n",
    "            scale = E/cell_E\n",
    "            df.loc[pid, cell_cols] *= scale\n",
    "            cell_E = df.loc[pid, cell_cols].sum()\n",
    "            E = df.loc[pid, \"energy\"]\n",
    "            scale = E/cell_E\n",
    "\n",
    "    df.to_csv(f\"new_events/{name}\")"
   ]
  }
 ],
 "metadata": {
  "kernelspec": {
   "display_name": "Python 3 (ipykernel)",
   "language": "python",
   "name": "python3"
  },
  "language_info": {
   "codemirror_mode": {
    "name": "ipython",
    "version": 3
   },
   "file_extension": ".py",
   "mimetype": "text/x-python",
   "name": "python",
   "nbconvert_exporter": "python",
   "pygments_lexer": "ipython3",
   "version": "3.10.10"
  }
 },
 "nbformat": 4,
 "nbformat_minor": 5
}
