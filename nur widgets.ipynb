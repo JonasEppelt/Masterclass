{
 "cells": [
  {
   "cell_type": "code",
   "execution_count": null,
   "metadata": {},
   "outputs": [],
   "source": [
    "%matplotlib widget\n",
    "from src.widgets import *\n",
    "import warnings\n",
    "warnings.filterwarnings('ignore')\n",
    "import pandas as pd\n",
    "import numpy as np\n",
    "p4event0 = \"4part_events/4part_event_0.h5\"\n",
    "p4event1 = \"4part_events/4part_event_1.h5\"\n",
    "p4event2 = \"4part_events/4part_event_2.h5\"\n",
    "p2event0 = \"2part_events/2part_event_0.h5\"\n",
    "p2event1 = \"2part_events/2part_event_1.h5\"\n",
    "p2event2 = \"2part_events/2part_event_2.h5\"\n",
    "p2event3 = \"2part_events/2part_event_3.h5\"\n",
    "p2event4 = \"2part_events/2part_event_4.h5\"\n",
    "event=p4event1"
   ]
  },
  {
   "cell_type": "code",
   "execution_count": null,
   "metadata": {},
   "outputs": [],
   "source": [
    "%%html\n",
    "<style>\n",
    "div.jupyter-widgets.widget-label {display: none;}\n",
    "</style>"
   ]
  },
  {
   "cell_type": "code",
   "execution_count": null,
   "metadata": {},
   "outputs": [],
   "source": [
    "tw = TrackingWidget(event, noise=0.0, show_truthbutton=True, layers=50,truthvalues=True,trackercolor=\"lightslategray\")\n",
    "tw.show()"
   ]
  },
  {
   "cell_type": "code",
   "execution_count": null,
   "metadata": {},
   "outputs": [],
   "source": [
    "kl= KLMWidget(event,tw=tw)\n",
    "kl.show()"
   ]
  },
  {
   "cell_type": "code",
   "execution_count": null,
   "metadata": {},
   "outputs": [],
   "source": [
    "ew = ECLWidget(event,noise_rate=0.09,tw=tw)\n",
    "ew.show()"
   ]
  },
  {
   "cell_type": "code",
   "execution_count": null,
   "metadata": {},
   "outputs": [],
   "source": [
    "mw = MatchingWidget2(ew, tw, kl, cheat_mode=True)\n",
    "mw.show()"
   ]
  }
 ],
 "metadata": {
  "kernelspec": {
   "display_name": "Python 3.9.12 ('base')",
   "language": "python",
   "name": "python3"
  },
  "language_info": {
   "codemirror_mode": {
    "name": "ipython",
    "version": 3
   },
   "file_extension": ".py",
   "mimetype": "text/x-python",
   "name": "python",
   "nbconvert_exporter": "python",
   "pygments_lexer": "ipython3",
   "version": "3.9.12"
  },
  "orig_nbformat": 4,
  "vscode": {
   "interpreter": {
    "hash": "6aa15e7b2b03744e62d71d2ec6746d4ecf11cdddddbe19ba13108e7c0421f93d"
   }
  }
 },
 "nbformat": 4,
 "nbformat_minor": 2
}
