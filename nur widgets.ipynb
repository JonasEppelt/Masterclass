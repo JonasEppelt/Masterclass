{
 "cells": [
  {
   "cell_type": "code",
   "execution_count": null,
   "metadata": {},
   "outputs": [],
   "source": [
    "%matplotlib widget\n",
    "from src.widgets import *\n",
    "import warnings\n",
    "warnings.filterwarnings('ignore')\n",
    "import pandas as pd\n",
    "import numpy as np\n",
    "from matplotlib import pyplot as plt\n",
    "from matplotlib.patches import Rectangle\n",
    "from matplotlib.collections import PatchCollection\n",
    "\n",
    "p4event0 = \"4part_events/4part_event_0.h5\"\n",
    "p4event1 = \"4part_events/4part_event_1.h5\"\n",
    "p4event2 = \"4part_events/4part_event_2.h5\"\n",
    "p2event0 = \"2part_events/2part_event_0.h5\"\n",
    "p2event1 = \"2part_events/2part_event_1.h5\"\n",
    "p2event2 = \"2part_events/2part_event_2.h5\"\n",
    "p2event3 = \"2part_events/2part_event_3.h5\"\n",
    "p2event4 = \"2part_events/2part_event_4.h5\"\n",
    "drkevent = \"dark_matter_events/dark_matter_event_0.h5\"\n",
    "ievent1  = 'introduction_events/antimuon.h5'    #introduction events haben phi und theta in grad abgespeichert statt in rad--> tut nedde im tracker\n",
    "ievent2  = 'introduction_events/antipion.h5'\n",
    "ievent3  = 'introduction_events/ECLnoise.h5'\n",
    "ievent4  = 'introduction_events/electron.h5'\n",
    "ievent5  = 'introduction_events/muon.h5'\n",
    "ievent6  = 'introduction_events/positron.h5'\n",
    "ievent7  = 'introduction_events/single_track.h5'\n",
    "ievent8  = 'introduction_events/single_track2.h5'\n",
    "event=drkevent\n",
    "print(pd.read_hdf(event)[\"pdg\"])"
   ]
  },
  {
   "cell_type": "code",
   "execution_count": null,
   "metadata": {},
   "outputs": [],
   "source": [
    "%%html\n",
    "<style>\n",
    "div.jupyter-widgets.widget-label {display: none;}\n",
    "</style>"
   ]
  },
  {
   "cell_type": "code",
   "execution_count": null,
   "metadata": {},
   "outputs": [],
   "source": [
    "tw = TrackingWidget(event, noise=0.0, show_truthbutton=True, layers=50,truthvalues=True,trackercolor=\"lightslategray\")\n",
    "tw.show()"
   ]
  },
  {
   "cell_type": "code",
   "execution_count": null,
   "metadata": {},
   "outputs": [],
   "source": [
    "kl= KLMWidget(event,always_hit=False,tw=tw)\n",
    "kl.show()"
   ]
  },
  {
   "cell_type": "code",
   "execution_count": null,
   "metadata": {},
   "outputs": [],
   "source": [
    "ew = ECLWidget(event,noise_rate=0.00,tw=tw)\n",
    "ew.show()"
   ]
  },
  {
   "cell_type": "code",
   "execution_count": null,
   "metadata": {},
   "outputs": [],
   "source": [
    "mw = MatchingWidget(ew, tw, kl, cheat_mode=True)\n",
    "mw.show()"
   ]
  },
  {
   "cell_type": "code",
   "execution_count": null,
   "metadata": {},
   "outputs": [],
   "source": [
    "fig,ax = plt.subplots() #zum bilder machen\n",
    "ax.axis('equal')\n",
    "ax.set_ylim(-50,50)\n",
    "ax.set_xlim(-50,50)\n",
    "ax.add_collection(PatchCollection(ew.get_selections[0][1],color=ew.get_selections[1][1]))\n",
    "ax.set_axis_off()"
   ]
  }
 ],
 "metadata": {
  "kernelspec": {
   "display_name": "Python 3.9.12 ('base')",
   "language": "python",
   "name": "python3"
  },
  "language_info": {
   "codemirror_mode": {
    "name": "ipython",
    "version": 3
   },
   "file_extension": ".py",
   "mimetype": "text/x-python",
   "name": "python",
   "nbconvert_exporter": "python",
   "pygments_lexer": "ipython3",
   "version": "3.9.12"
  },
  "orig_nbformat": 4,
  "vscode": {
   "interpreter": {
    "hash": "6aa15e7b2b03744e62d71d2ec6746d4ecf11cdddddbe19ba13108e7c0421f93d"
   }
  }
 },
 "nbformat": 4,
 "nbformat_minor": 2
}
